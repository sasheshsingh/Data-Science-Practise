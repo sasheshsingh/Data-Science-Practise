{
 "cells": [
  {
   "cell_type": "code",
   "execution_count": 1,
   "id": "brief-compact",
   "metadata": {},
   "outputs": [],
   "source": [
    "library(dslabs)"
   ]
  },
  {
   "cell_type": "code",
   "execution_count": 2,
   "id": "terminal-colorado",
   "metadata": {},
   "outputs": [],
   "source": [
    "data(murders)"
   ]
  },
  {
   "cell_type": "code",
   "execution_count": 3,
   "id": "indoor-custom",
   "metadata": {},
   "outputs": [
    {
     "data": {
      "text/html": [
       "<table>\n",
       "<thead><tr><th scope=col>state</th><th scope=col>abb</th><th scope=col>region</th><th scope=col>population</th><th scope=col>total</th></tr></thead>\n",
       "<tbody>\n",
       "\t<tr><td>Alabama   </td><td>AL        </td><td>South     </td><td> 4779736  </td><td> 135      </td></tr>\n",
       "\t<tr><td>Alaska    </td><td>AK        </td><td>West      </td><td>  710231  </td><td>  19      </td></tr>\n",
       "\t<tr><td>Arizona   </td><td>AZ        </td><td>West      </td><td> 6392017  </td><td> 232      </td></tr>\n",
       "\t<tr><td>Arkansas  </td><td>AR        </td><td>South     </td><td> 2915918  </td><td>  93      </td></tr>\n",
       "\t<tr><td>California</td><td>CA        </td><td>West      </td><td>37253956  </td><td>1257      </td></tr>\n",
       "\t<tr><td>Colorado  </td><td>CO        </td><td>West      </td><td> 5029196  </td><td>  65      </td></tr>\n",
       "</tbody>\n",
       "</table>\n"
      ],
      "text/latex": [
       "\\begin{tabular}{r|lllll}\n",
       " state & abb & region & population & total\\\\\n",
       "\\hline\n",
       "\t Alabama    & AL         & South      &  4779736   &  135      \\\\\n",
       "\t Alaska     & AK         & West       &   710231   &   19      \\\\\n",
       "\t Arizona    & AZ         & West       &  6392017   &  232      \\\\\n",
       "\t Arkansas   & AR         & South      &  2915918   &   93      \\\\\n",
       "\t California & CA         & West       & 37253956   & 1257      \\\\\n",
       "\t Colorado   & CO         & West       &  5029196   &   65      \\\\\n",
       "\\end{tabular}\n"
      ],
      "text/markdown": [
       "\n",
       "| state | abb | region | population | total |\n",
       "|---|---|---|---|---|\n",
       "| Alabama    | AL         | South      |  4779736   |  135       |\n",
       "| Alaska     | AK         | West       |   710231   |   19       |\n",
       "| Arizona    | AZ         | West       |  6392017   |  232       |\n",
       "| Arkansas   | AR         | South      |  2915918   |   93       |\n",
       "| California | CA         | West       | 37253956   | 1257       |\n",
       "| Colorado   | CO         | West       |  5029196   |   65       |\n",
       "\n"
      ],
      "text/plain": [
       "  state      abb region population total\n",
       "1 Alabama    AL  South   4779736    135 \n",
       "2 Alaska     AK  West     710231     19 \n",
       "3 Arizona    AZ  West    6392017    232 \n",
       "4 Arkansas   AR  South   2915918     93 \n",
       "5 California CA  West   37253956   1257 \n",
       "6 Colorado   CO  West    5029196     65 "
      ]
     },
     "metadata": {},
     "output_type": "display_data"
    }
   ],
   "source": [
    "head(murders)"
   ]
  },
  {
   "cell_type": "code",
   "execution_count": 4,
   "id": "naked-purchase",
   "metadata": {},
   "outputs": [],
   "source": [
    "data(heights)\n"
   ]
  },
  {
   "cell_type": "code",
   "execution_count": 5,
   "id": "oriental-spell",
   "metadata": {},
   "outputs": [
    {
     "data": {
      "text/html": [
       "<table>\n",
       "<thead><tr><th scope=col>sex</th><th scope=col>height</th></tr></thead>\n",
       "<tbody>\n",
       "\t<tr><td>Male  </td><td>75    </td></tr>\n",
       "\t<tr><td>Male  </td><td>70    </td></tr>\n",
       "\t<tr><td>Male  </td><td>68    </td></tr>\n",
       "\t<tr><td>Male  </td><td>74    </td></tr>\n",
       "\t<tr><td>Male  </td><td>61    </td></tr>\n",
       "\t<tr><td>Female</td><td>65    </td></tr>\n",
       "</tbody>\n",
       "</table>\n"
      ],
      "text/latex": [
       "\\begin{tabular}{r|ll}\n",
       " sex & height\\\\\n",
       "\\hline\n",
       "\t Male   & 75    \\\\\n",
       "\t Male   & 70    \\\\\n",
       "\t Male   & 68    \\\\\n",
       "\t Male   & 74    \\\\\n",
       "\t Male   & 61    \\\\\n",
       "\t Female & 65    \\\\\n",
       "\\end{tabular}\n"
      ],
      "text/markdown": [
       "\n",
       "| sex | height |\n",
       "|---|---|\n",
       "| Male   | 75     |\n",
       "| Male   | 70     |\n",
       "| Male   | 68     |\n",
       "| Male   | 74     |\n",
       "| Male   | 61     |\n",
       "| Female | 65     |\n",
       "\n"
      ],
      "text/plain": [
       "  sex    height\n",
       "1 Male   75    \n",
       "2 Male   70    \n",
       "3 Male   68    \n",
       "4 Male   74    \n",
       "5 Male   61    \n",
       "6 Female 65    "
      ]
     },
     "metadata": {},
     "output_type": "display_data"
    }
   ],
   "source": [
    "head(heights)"
   ]
  },
  {
   "cell_type": "code",
   "execution_count": 6,
   "id": "about-artist",
   "metadata": {},
   "outputs": [
    {
     "data": {
      "text/plain": [
       "        height\n",
       "sex      50 51 52 53 53.77 54 55 58 59 59.0551 59.0551181102362\n",
       "  Female  0  1  2  1     0  0  1  0  4       0                1\n",
       "  Male    2  0  0  0     1  1  0  1  2       1                1\n",
       "        height\n",
       "sex      59.8425196850394 60 61 61.32 61.8110236220472 62 62.2047244094488 62.4\n",
       "  Female                0 11  8     0                0 17                0    1\n",
       "  Male                  1  6  4     1                2  2                3    0\n",
       "        height\n",
       "sex      62.5 62.5984251968504 62.6 62.992125984252 63 63.3858267716535\n",
       "  Female    2                0    1               1 24                0\n",
       "  Male      0                1    0               2  7                1\n",
       "        height\n",
       "sex      63.7795275590551 64 64.173 64.1732 64.1732283464567 64.2 64.5\n",
       "  Female                1 30      1       1                1    2    1\n",
       "  Male                  2  9      0       0                0    0    1\n",
       "        height\n",
       "sex      64.5669291338583 64.57 64.9 64.96 64.9606299212598 64.961 65\n",
       "  Female                1     1    0     2                3      0 23\n",
       "  Male                  1     0    1     0                1      1 31\n",
       "        height\n",
       "sex      65.748031496063 66 66.14 66.1416 66.1417 66.1417322834646 66.4 66.5\n",
       "  Female               0 21     1       1       1                0    0    1\n",
       "  Male                 3 44     0       0       0                4    1    2\n",
       "        height\n",
       "sex      66.5354330708661 66.7 66.75 66.9 66.92 66.9291 66.9291338582677 66.93\n",
       "  Female                0    0     1    0     0       1                0     0\n",
       "  Male                  4    1     0    1     2       1               12     1\n",
       "        height\n",
       "sex      67 67.2 67.3 67.5 67.7 67.71 67.7165 67.7165354330709 67.72 67.78 68\n",
       "  Female 16    0    0    1    1     1       0                0     1     1 16\n",
       "  Male   61    1    1    3    2     1       2                7     2     0 60\n",
       "        height\n",
       "sex      68.11 68.1102 68.1102362204724 68.11024 68.4 68.5 68.503937007874 68.8\n",
       "  Female     1       0                0        0    1    0               0    0\n",
       "  Male       4       1                3        1    1    9               4    1\n",
       "        height\n",
       "sex      68.89 68.8976 68.8976377952756 68.8976378 68.9 69 69.29\n",
       "  Female     0       1                0          0    0 12     0\n",
       "  Male       4       2                5          1    3 71     2\n",
       "        height\n",
       "sex      69.2913385826772 69.3 69.6 69.6850393700787 70 70.0787401574803 70.08\n",
       "  Female                0    0    1                0  6                0     0\n",
       "  Male                  2    2    1                1 86                5     1\n",
       "        height\n",
       "sex      70.1 70.4724409448819 70.5 70.8 70.85 70.86 70.866 70.8661\n",
       "  Female    0                0    0    0     0     0      0       0\n",
       "  Male      2                1    2    1     1     1      1       1\n",
       "        height\n",
       "sex      70.8661417322835 70.87 71 71.5 71.65 71.6535433070866 71.7 72\n",
       "  Female                0     0  1    0     0                0    0  2\n",
       "  Male                  9     1 58    4     1                1    1 86\n",
       "        height\n",
       "sex      72.0472440944882 72.05 72.4 72.44 72.4409448818898 72.45 72.5 72.83\n",
       "  Female                0     0    0     0                0     0    0     0\n",
       "  Male                  3     2    1     4                3     1    1     2\n",
       "        height\n",
       "sex      72.8346 72.8346456692913 73 73.2 73.22 73.2283464566929 73.62 74 74.5\n",
       "  Female       0                1  0    0     0                0     0  1    0\n",
       "  Male         2                1 23    2     2                1     1 29    1\n",
       "        height\n",
       "sex      74.8 74.8031496062992 75 75.4 75.5905511811024 75.6 75.98 76 77\n",
       "  Female    0                1  1    0                0    0     0  0  1\n",
       "  Male      1                1 21    1                1    1     1  7  4\n",
       "        height\n",
       "sex      77.1654 78 78.74 78.740157480315 79 79.05 80 81 82.6771653543307\n",
       "  Female       0  0     0               1  1     0  0  0                0\n",
       "  Male         1  4     1               0  1     1  2  1                1"
      ]
     },
     "metadata": {},
     "output_type": "display_data"
    }
   ],
   "source": [
    "table(heights)"
   ]
  },
  {
   "cell_type": "code",
   "execution_count": 7,
   "id": "integral-fitting",
   "metadata": {},
   "outputs": [
    {
     "data": {
      "text/plain": [
       "\n",
       "   Female      Male \n",
       "0.2266667 0.7733333 "
      ]
     },
     "metadata": {},
     "output_type": "display_data"
    }
   ],
   "source": [
    "prop.table(table(heights$sex))"
   ]
  },
  {
   "cell_type": "code",
   "execution_count": 8,
   "id": "backed-butler",
   "metadata": {},
   "outputs": [
    {
     "data": {
      "text/plain": [
       "\n",
       "              50               51               52               53 \n",
       "     0.001904762      0.000952381      0.001904762      0.000952381 \n",
       "           53.77               54               55               58 \n",
       "     0.000952381      0.000952381      0.000952381      0.000952381 \n",
       "              59          59.0551 59.0551181102362 59.8425196850394 \n",
       "     0.005714286      0.000952381      0.001904762      0.000952381 \n",
       "              60               61            61.32 61.8110236220472 \n",
       "     0.016190476      0.011428571      0.000952381      0.001904762 \n",
       "              62 62.2047244094488             62.4             62.5 \n",
       "     0.018095238      0.002857143      0.000952381      0.001904762 \n",
       "62.5984251968504             62.6  62.992125984252               63 \n",
       "     0.000952381      0.000952381      0.002857143      0.029523810 \n",
       "63.3858267716535 63.7795275590551               64           64.173 \n",
       "     0.000952381      0.002857143      0.037142857      0.000952381 \n",
       "         64.1732 64.1732283464567             64.2             64.5 \n",
       "     0.000952381      0.000952381      0.001904762      0.001904762 \n",
       "64.5669291338583            64.57             64.9            64.96 \n",
       "     0.001904762      0.000952381      0.000952381      0.001904762 \n",
       "64.9606299212598           64.961               65  65.748031496063 \n",
       "     0.003809524      0.000952381      0.051428571      0.002857143 \n",
       "              66            66.14          66.1416          66.1417 \n",
       "     0.061904762      0.000952381      0.000952381      0.000952381 \n",
       "66.1417322834646             66.4             66.5 66.5354330708661 \n",
       "     0.003809524      0.000952381      0.002857143      0.003809524 \n",
       "            66.7            66.75             66.9            66.92 \n",
       "     0.000952381      0.000952381      0.000952381      0.001904762 \n",
       "         66.9291 66.9291338582677            66.93               67 \n",
       "     0.001904762      0.011428571      0.000952381      0.073333333 \n",
       "            67.2             67.3             67.5             67.7 \n",
       "     0.000952381      0.000952381      0.003809524      0.002857143 \n",
       "           67.71          67.7165 67.7165354330709            67.72 \n",
       "     0.001904762      0.001904762      0.006666667      0.002857143 \n",
       "           67.78               68            68.11          68.1102 \n",
       "     0.000952381      0.072380952      0.004761905      0.000952381 \n",
       "68.1102362204724         68.11024             68.4             68.5 \n",
       "     0.002857143      0.000952381      0.001904762      0.008571429 \n",
       " 68.503937007874             68.8            68.89          68.8976 \n",
       "     0.003809524      0.000952381      0.003809524      0.002857143 \n",
       "68.8976377952756       68.8976378             68.9               69 \n",
       "     0.004761905      0.000952381      0.002857143      0.079047619 \n",
       "           69.29 69.2913385826772             69.3             69.6 \n",
       "     0.001904762      0.001904762      0.001904762      0.001904762 \n",
       "69.6850393700787               70 70.0787401574803            70.08 \n",
       "     0.000952381      0.087619048      0.004761905      0.000952381 \n",
       "            70.1 70.4724409448819             70.5             70.8 \n",
       "     0.001904762      0.000952381      0.001904762      0.000952381 \n",
       "           70.85            70.86           70.866          70.8661 \n",
       "     0.000952381      0.000952381      0.000952381      0.000952381 \n",
       "70.8661417322835            70.87               71             71.5 \n",
       "     0.008571429      0.000952381      0.056190476      0.003809524 \n",
       "           71.65 71.6535433070866             71.7               72 \n",
       "     0.000952381      0.000952381      0.000952381      0.083809524 \n",
       "72.0472440944882            72.05             72.4            72.44 \n",
       "     0.002857143      0.001904762      0.000952381      0.003809524 \n",
       "72.4409448818898            72.45             72.5            72.83 \n",
       "     0.002857143      0.000952381      0.000952381      0.001904762 \n",
       "         72.8346 72.8346456692913               73             73.2 \n",
       "     0.001904762      0.001904762      0.021904762      0.001904762 \n",
       "           73.22 73.2283464566929            73.62               74 \n",
       "     0.001904762      0.000952381      0.000952381      0.028571429 \n",
       "            74.5             74.8 74.8031496062992               75 \n",
       "     0.000952381      0.000952381      0.001904762      0.020952381 \n",
       "            75.4 75.5905511811024             75.6            75.98 \n",
       "     0.000952381      0.000952381      0.000952381      0.000952381 \n",
       "              76               77          77.1654               78 \n",
       "     0.006666667      0.004761905      0.000952381      0.003809524 \n",
       "           78.74  78.740157480315               79            79.05 \n",
       "     0.000952381      0.000952381      0.001904762      0.000952381 \n",
       "              80               81 82.6771653543307 \n",
       "     0.001904762      0.000952381      0.000952381 "
      ]
     },
     "metadata": {},
     "output_type": "display_data"
    }
   ],
   "source": [
    "prop.table(table(heights$height))"
   ]
  },
  {
   "cell_type": "markdown",
   "id": "contemporary-fetish",
   "metadata": {},
   "source": [
    "## Plotting a CDF function for a range of Values."
   ]
  },
  {
   "cell_type": "code",
   "execution_count": 14,
   "id": "heavy-concept",
   "metadata": {},
   "outputs": [],
   "source": [
    "data <- heights$height\n",
    "ordered_data <- unique(data)\n",
    "ordered_data <- sort(ordered_data)"
   ]
  },
  {
   "cell_type": "code",
   "execution_count": 24,
   "id": "laughing-edwards",
   "metadata": {},
   "outputs": [],
   "source": [
    "seq_x <- seq(min(data), max(data),length= length(ordered_data))"
   ]
  },
  {
   "cell_type": "code",
   "execution_count": 25,
   "id": "overhead-spirit",
   "metadata": {},
   "outputs": [],
   "source": [
    "cdf_function <- function(x){\n",
    "    mean(data <= x)\n",
    "}"
   ]
  },
  {
   "cell_type": "code",
   "execution_count": 26,
   "id": "surprising-sweet",
   "metadata": {},
   "outputs": [],
   "source": [
    "cdf_values <- sapply(ordered_data, cdf_function)"
   ]
  },
  {
   "cell_type": "code",
   "execution_count": 27,
   "id": "functioning-configuration",
   "metadata": {},
   "outputs": [
    {
     "data": {
      "text/html": [
       "<strong>png:</strong> 2"
      ],
      "text/latex": [
       "\\textbf{png:} 2"
      ],
      "text/markdown": [
       "**png:** 2"
      ],
      "text/plain": [
       "png \n",
       "  2 "
      ]
     },
     "metadata": {},
     "output_type": "display_data"
    }
   ],
   "source": [
    "jpeg(\"cdf_output.jpg\")\n",
    "plot(seq_x, cdf_values,type='l')\n",
    "dev.off()"
   ]
  },
  {
   "cell_type": "code",
   "execution_count": 28,
   "id": "prescribed-genre",
   "metadata": {},
   "outputs": [
    {
     "data": {
      "image/png": "[encoded data removed]",
      "text/plain": [
       "plot without title"
      ]
     },
     "metadata": {},
     "output_type": "display_data"
    }
   ],
   "source": [
    "plot(seq_x, cdf_values,type='l')"
   ]
  }
 ],
 "metadata": {
  "kernelspec": {
   "display_name": "R",
   "language": "R",
   "name": "ir"
  },
  "language_info": {
   "codemirror_mode": "r",
   "file_extension": ".r",
   "mimetype": "text/x-r-source",
   "name": "R",
   "pygments_lexer": "r",
   "version": "3.6.1"
  }
 },
 "nbformat": 4,
 "nbformat_minor": 5
}
