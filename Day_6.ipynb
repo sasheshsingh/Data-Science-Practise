{
 "cells": [
  {
   "cell_type": "code",
   "execution_count": 1,
   "id": "productive-mercury",
   "metadata": {},
   "outputs": [],
   "source": [
    "a<- 2"
   ]
  },
  {
   "cell_type": "code",
   "execution_count": 2,
   "id": "classical-trouble",
   "metadata": {},
   "outputs": [
    {
     "data": {
      "text/html": [
       "'numeric'"
      ],
      "text/latex": [
       "'numeric'"
      ],
      "text/markdown": [
       "'numeric'"
      ],
      "text/plain": [
       "[1] \"numeric\""
      ]
     },
     "metadata": {},
     "output_type": "display_data"
    }
   ],
   "source": [
    "class(a)"
   ]
  },
  {
   "cell_type": "code",
   "execution_count": 3,
   "id": "organizational-cardiff",
   "metadata": {},
   "outputs": [
    {
     "data": {
      "text/html": [
       "'character'"
      ],
      "text/latex": [
       "'character'"
      ],
      "text/markdown": [
       "'character'"
      ],
      "text/plain": [
       "[1] \"character\""
      ]
     },
     "metadata": {},
     "output_type": "display_data"
    }
   ],
   "source": [
    "class(as.character(a))"
   ]
  },
  {
   "cell_type": "code",
   "execution_count": 4,
   "id": "expired-cancellation",
   "metadata": {},
   "outputs": [],
   "source": [
    "x <- c(6, 3, 65,8, 9)"
   ]
  },
  {
   "cell_type": "code",
   "execution_count": 5,
   "id": "separate-georgia",
   "metadata": {},
   "outputs": [
    {
     "data": {
      "text/html": [
       "<ol class=list-inline>\n",
       "\t<li>6</li>\n",
       "\t<li>3</li>\n",
       "\t<li>65</li>\n",
       "\t<li>8</li>\n",
       "\t<li>9</li>\n",
       "</ol>\n"
      ],
      "text/latex": [
       "\\begin{enumerate*}\n",
       "\\item 6\n",
       "\\item 3\n",
       "\\item 65\n",
       "\\item 8\n",
       "\\item 9\n",
       "\\end{enumerate*}\n"
      ],
      "text/markdown": [
       "1. 6\n",
       "2. 3\n",
       "3. 65\n",
       "4. 8\n",
       "5. 9\n",
       "\n",
       "\n"
      ],
      "text/plain": [
       "[1]  6  3 65  8  9"
      ]
     },
     "metadata": {},
     "output_type": "display_data"
    }
   ],
   "source": [
    "x"
   ]
  },
  {
   "cell_type": "code",
   "execution_count": 6,
   "id": "agricultural-necessity",
   "metadata": {},
   "outputs": [
    {
     "data": {
      "text/html": [
       "<ol class=list-inline>\n",
       "\t<li>3</li>\n",
       "\t<li>6</li>\n",
       "\t<li>8</li>\n",
       "\t<li>9</li>\n",
       "\t<li>65</li>\n",
       "</ol>\n"
      ],
      "text/latex": [
       "\\begin{enumerate*}\n",
       "\\item 3\n",
       "\\item 6\n",
       "\\item 8\n",
       "\\item 9\n",
       "\\item 65\n",
       "\\end{enumerate*}\n"
      ],
      "text/markdown": [
       "1. 3\n",
       "2. 6\n",
       "3. 8\n",
       "4. 9\n",
       "5. 65\n",
       "\n",
       "\n"
      ],
      "text/plain": [
       "[1]  3  6  8  9 65"
      ]
     },
     "metadata": {},
     "output_type": "display_data"
    }
   ],
   "source": [
    "sort(x)"
   ]
  },
  {
   "cell_type": "code",
   "execution_count": 7,
   "id": "split-seven",
   "metadata": {},
   "outputs": [
    {
     "data": {
      "text/html": [
       "<ol class=list-inline>\n",
       "\t<li>2</li>\n",
       "\t<li>1</li>\n",
       "\t<li>4</li>\n",
       "\t<li>5</li>\n",
       "\t<li>3</li>\n",
       "</ol>\n"
      ],
      "text/latex": [
       "\\begin{enumerate*}\n",
       "\\item 2\n",
       "\\item 1\n",
       "\\item 4\n",
       "\\item 5\n",
       "\\item 3\n",
       "\\end{enumerate*}\n"
      ],
      "text/markdown": [
       "1. 2\n",
       "2. 1\n",
       "3. 4\n",
       "4. 5\n",
       "5. 3\n",
       "\n",
       "\n"
      ],
      "text/plain": [
       "[1] 2 1 4 5 3"
      ]
     },
     "metadata": {},
     "output_type": "display_data"
    }
   ],
   "source": [
    "order(x)"
   ]
  },
  {
   "cell_type": "code",
   "execution_count": 8,
   "id": "cosmetic-invitation",
   "metadata": {},
   "outputs": [
    {
     "data": {
      "text/html": [
       "<ol class=list-inline>\n",
       "\t<li>3</li>\n",
       "\t<li>6</li>\n",
       "\t<li>8</li>\n",
       "\t<li>9</li>\n",
       "\t<li>65</li>\n",
       "</ol>\n"
      ],
      "text/latex": [
       "\\begin{enumerate*}\n",
       "\\item 3\n",
       "\\item 6\n",
       "\\item 8\n",
       "\\item 9\n",
       "\\item 65\n",
       "\\end{enumerate*}\n"
      ],
      "text/markdown": [
       "1. 3\n",
       "2. 6\n",
       "3. 8\n",
       "4. 9\n",
       "5. 65\n",
       "\n",
       "\n"
      ],
      "text/plain": [
       "[1]  3  6  8  9 65"
      ]
     },
     "metadata": {},
     "output_type": "display_data"
    }
   ],
   "source": [
    "x[order(x)]"
   ]
  },
  {
   "cell_type": "code",
   "execution_count": 9,
   "id": "soviet-galaxy",
   "metadata": {},
   "outputs": [
    {
     "name": "stderr",
     "output_type": "stream",
     "text": [
      "Updating HTML index of packages in '.Library'\n",
      "Making 'packages.html' ... done\n"
     ]
    }
   ],
   "source": [
    "install.packages(\"dslabs\")\n",
    "library(dslabs)"
   ]
  },
  {
   "cell_type": "code",
   "execution_count": 10,
   "id": "polyphonic-stevens",
   "metadata": {},
   "outputs": [],
   "source": [
    "index <-order(movielens$year)"
   ]
  },
  {
   "cell_type": "code",
   "execution_count": 11,
   "id": "korean-hazard",
   "metadata": {},
   "outputs": [
    {
     "data": {
      "text/html": [
       "'Trip to the Moon, A (Voyage dans la lune, Le)'"
      ],
      "text/latex": [
       "'Trip to the Moon, A (Voyage dans la lune, Le)'"
      ],
      "text/markdown": [
       "'Trip to the Moon, A (Voyage dans la lune, Le)'"
      ],
      "text/plain": [
       "[1] \"Trip to the Moon, A (Voyage dans la lune, Le)\""
      ]
     },
     "metadata": {},
     "output_type": "display_data"
    }
   ],
   "source": [
    "movielens$title[index[1]]"
   ]
  },
  {
   "cell_type": "code",
   "execution_count": 20,
   "id": "infectious-productivity",
   "metadata": {},
   "outputs": [],
   "source": [
    "x <-movielens$title[index]"
   ]
  },
  {
   "cell_type": "code",
   "execution_count": 18,
   "id": "valued-defensive",
   "metadata": {},
   "outputs": [
    {
     "data": {
      "text/html": [
       "<ol class=list-inline>\n",
       "\t<li>'Dangerous Minds'</li>\n",
       "\t<li>'Dumbo'</li>\n",
       "\t<li>'Sleepers'</li>\n",
       "\t<li>'Escape from New York'</li>\n",
       "\t<li>'Cinema Paradiso (Nuovo cinema Paradiso)'</li>\n",
       "\t<li>'Deer Hunter, The'</li>\n",
       "</ol>\n"
      ],
      "text/latex": [
       "\\begin{enumerate*}\n",
       "\\item 'Dangerous Minds'\n",
       "\\item 'Dumbo'\n",
       "\\item 'Sleepers'\n",
       "\\item 'Escape from New York'\n",
       "\\item 'Cinema Paradiso (Nuovo cinema Paradiso)'\n",
       "\\item 'Deer Hunter, The'\n",
       "\\end{enumerate*}\n"
      ],
      "text/markdown": [
       "1. 'Dangerous Minds'\n",
       "2. 'Dumbo'\n",
       "3. 'Sleepers'\n",
       "4. 'Escape from New York'\n",
       "5. 'Cinema Paradiso (Nuovo cinema Paradiso)'\n",
       "6. 'Deer Hunter, The'\n",
       "\n",
       "\n"
      ],
      "text/plain": [
       "[1] \"Dangerous Minds\"                        \n",
       "[2] \"Dumbo\"                                  \n",
       "[3] \"Sleepers\"                               \n",
       "[4] \"Escape from New York\"                   \n",
       "[5] \"Cinema Paradiso (Nuovo cinema Paradiso)\"\n",
       "[6] \"Deer Hunter, The\"                       "
      ]
     },
     "metadata": {},
     "output_type": "display_data"
    }
   ],
   "source": [
    "head(movielens$title)"
   ]
  },
  {
   "cell_type": "code",
   "execution_count": 27,
   "id": "broadband-print",
   "metadata": {},
   "outputs": [
    {
     "data": {
      "text/html": [
       "FALSE"
      ],
      "text/latex": [
       "FALSE"
      ],
      "text/markdown": [
       "FALSE"
      ],
      "text/plain": [
       "[1] FALSE"
      ]
     },
     "metadata": {},
     "output_type": "display_data"
    }
   ],
   "source": [
    "is.null(x)"
   ]
  },
  {
   "cell_type": "code",
   "execution_count": 26,
   "id": "everyday-tribute",
   "metadata": {},
   "outputs": [
    {
     "data": {
      "text/html": [
       "'Dark Victory'"
      ],
      "text/latex": [
       "'Dark Victory'"
      ],
      "text/markdown": [
       "'Dark Victory'"
      ],
      "text/plain": [
       "[1] \"Dark Victory\""
      ]
     },
     "metadata": {},
     "output_type": "display_data"
    }
   ],
   "source": [
    "x[999]"
   ]
  },
  {
   "cell_type": "code",
   "execution_count": 28,
   "id": "little-loading",
   "metadata": {},
   "outputs": [
    {
     "data": {
      "text/plain": [
       "   Length     Class      Mode \n",
       "   100004 character character "
      ]
     },
     "metadata": {},
     "output_type": "display_data"
    }
   ],
   "source": [
    "summary(x)"
   ]
  },
  {
   "cell_type": "code",
   "execution_count": 39,
   "id": "wrapped-piece",
   "metadata": {},
   "outputs": [
    {
     "data": {
      "text/html": [
       "NA"
      ],
      "text/latex": [
       "NA"
      ],
      "text/markdown": [
       "NA"
      ],
      "text/plain": [
       "[1] NA"
      ]
     },
     "metadata": {},
     "output_type": "display_data"
    }
   ],
   "source": [
    "x[99998]"
   ]
  },
  {
   "cell_type": "code",
   "execution_count": 43,
   "id": "academic-interstate",
   "metadata": {},
   "outputs": [
    {
     "data": {
      "text/html": [
       "'Warcraft'"
      ],
      "text/latex": [
       "'Warcraft'"
      ],
      "text/markdown": [
       "'Warcraft'"
      ],
      "text/plain": [
       "[1] \"Warcraft\""
      ]
     },
     "metadata": {},
     "output_type": "display_data"
    }
   ],
   "source": [
    "movielens$title[which.max(movielens$year)]"
   ]
  },
  {
   "cell_type": "code",
   "execution_count": 44,
   "id": "sensitive-federation",
   "metadata": {},
   "outputs": [
    {
     "data": {
      "text/html": [
       "'Trip to the Moon, A (Voyage dans la lune, Le)'"
      ],
      "text/latex": [
       "'Trip to the Moon, A (Voyage dans la lune, Le)'"
      ],
      "text/markdown": [
       "'Trip to the Moon, A (Voyage dans la lune, Le)'"
      ],
      "text/plain": [
       "[1] \"Trip to the Moon, A (Voyage dans la lune, Le)\""
      ]
     },
     "metadata": {},
     "output_type": "display_data"
    }
   ],
   "source": [
    "movielens$title[which.min(movielens$year)]"
   ]
  },
  {
   "cell_type": "code",
   "execution_count": null,
   "id": "danish-reviewer",
   "metadata": {},
   "outputs": [],
   "source": [
    "x "
   ]
  }
 ],
 "metadata": {
  "kernelspec": {
   "display_name": "R",
   "language": "R",
   "name": "ir"
  },
  "language_info": {
   "codemirror_mode": "r",
   "file_extension": ".r",
   "mimetype": "text/x-r-source",
   "name": "R",
   "pygments_lexer": "r",
   "version": "3.6.1"
  }
 },
 "nbformat": 4,
 "nbformat_minor": 5
}
