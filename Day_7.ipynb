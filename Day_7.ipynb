{
 "cells": [
  {
   "cell_type": "code",
   "execution_count": 2,
   "id": "cultural-kenya",
   "metadata": {},
   "outputs": [
    {
     "name": "stderr",
     "output_type": "stream",
     "text": [
      "Updating HTML index of packages in '.Library'\n",
      "Making 'packages.html' ... done\n"
     ]
    }
   ],
   "source": [
    "install.packages(\"dslabs\")"
   ]
  },
  {
   "cell_type": "code",
   "execution_count": 3,
   "id": "existing-officer",
   "metadata": {},
   "outputs": [
    {
     "ename": "ERROR",
     "evalue": "Error in library(murders): there is no package called ‘murders’\n",
     "output_type": "error",
     "traceback": [
      "Error in library(murders): there is no package called ‘murders’\nTraceback:\n",
      "1. library(murders)"
     ]
    }
   ],
   "source": [
    "library(murders)"
   ]
  },
  {
   "cell_type": "code",
   "execution_count": 4,
   "id": "banned-bleeding",
   "metadata": {},
   "outputs": [
    {
     "data": {
      "text/html": [
       "<ol class=list-inline>\n",
       "\t<li>2</li>\n",
       "\t<li>4</li>\n",
       "\t<li>6</li>\n",
       "\t<li>6</li>\n",
       "\t<li>8</li>\n",
       "\t<li>10</li>\n",
       "\t<li>12</li>\n",
       "\t<li>14</li>\n",
       "\t<li>16</li>\n",
       "\t<li>178</li>\n",
       "\t<li>26</li>\n",
       "</ol>\n"
      ],
      "text/latex": [
       "\\begin{enumerate*}\n",
       "\\item 2\n",
       "\\item 4\n",
       "\\item 6\n",
       "\\item 6\n",
       "\\item 8\n",
       "\\item 10\n",
       "\\item 12\n",
       "\\item 14\n",
       "\\item 16\n",
       "\\item 178\n",
       "\\item 26\n",
       "\\end{enumerate*}\n"
      ],
      "text/markdown": [
       "1. 2\n",
       "2. 4\n",
       "3. 6\n",
       "4. 6\n",
       "5. 8\n",
       "6. 10\n",
       "7. 12\n",
       "8. 14\n",
       "9. 16\n",
       "10. 178\n",
       "11. 26\n",
       "\n",
       "\n"
      ],
      "text/plain": [
       " [1]   2   4   6   6   8  10  12  14  16 178  26"
      ]
     },
     "metadata": {},
     "output_type": "display_data"
    }
   ],
   "source": [
    "heights <- c(1,2,3,3,4,5,6,7,8,89,13)\n",
    "heights * 2"
   ]
  },
  {
   "cell_type": "code",
   "execution_count": 6,
   "id": "canadian-somalia",
   "metadata": {},
   "outputs": [
    {
     "data": {
      "text/html": [
       "<ol class=list-inline>\n",
       "\t<li>3</li>\n",
       "\t<li>6</li>\n",
       "\t<li>9</li>\n",
       "\t<li>9</li>\n",
       "\t<li>12</li>\n",
       "\t<li>15</li>\n",
       "\t<li>18</li>\n",
       "\t<li>21</li>\n",
       "\t<li>24</li>\n",
       "\t<li>267</li>\n",
       "\t<li>39</li>\n",
       "</ol>\n"
      ],
      "text/latex": [
       "\\begin{enumerate*}\n",
       "\\item 3\n",
       "\\item 6\n",
       "\\item 9\n",
       "\\item 9\n",
       "\\item 12\n",
       "\\item 15\n",
       "\\item 18\n",
       "\\item 21\n",
       "\\item 24\n",
       "\\item 267\n",
       "\\item 39\n",
       "\\end{enumerate*}\n"
      ],
      "text/markdown": [
       "1. 3\n",
       "2. 6\n",
       "3. 9\n",
       "4. 9\n",
       "5. 12\n",
       "6. 15\n",
       "7. 18\n",
       "8. 21\n",
       "9. 24\n",
       "10. 267\n",
       "11. 39\n",
       "\n",
       "\n"
      ],
      "text/plain": [
       " [1]   3   6   9   9  12  15  18  21  24 267  39"
      ]
     },
     "metadata": {},
     "output_type": "display_data"
    }
   ],
   "source": [
    "heights + heights + heights"
   ]
  },
  {
   "cell_type": "code",
   "execution_count": 7,
   "id": "thirty-machine",
   "metadata": {},
   "outputs": [],
   "source": [
    "x <- c(2, 43,27,96,18)"
   ]
  },
  {
   "cell_type": "code",
   "execution_count": 8,
   "id": "silent-engineering",
   "metadata": {},
   "outputs": [
    {
     "data": {
      "text/html": [
       "96"
      ],
      "text/latex": [
       "96"
      ],
      "text/markdown": [
       "96"
      ],
      "text/plain": [
       "[1] 96"
      ]
     },
     "metadata": {},
     "output_type": "display_data"
    }
   ],
   "source": [
    "max(x)"
   ]
  },
  {
   "cell_type": "code",
   "execution_count": 9,
   "id": "understood-berlin",
   "metadata": {},
   "outputs": [],
   "source": [
    "name <- c(\"Mandi\", \"Amy\", \"Nicole\", \"Olivia\")\n"
   ]
  },
  {
   "cell_type": "code",
   "execution_count": 11,
   "id": "understood-castle",
   "metadata": {},
   "outputs": [],
   "source": [
    "distance <- c(0.8, 3.1, 2.8, 4.0)"
   ]
  },
  {
   "cell_type": "code",
   "execution_count": 12,
   "id": "aboriginal-holocaust",
   "metadata": {},
   "outputs": [],
   "source": [
    "time <- c(10, 30, 40, 50)"
   ]
  },
  {
   "cell_type": "code",
   "execution_count": 16,
   "id": "funny-produce",
   "metadata": {},
   "outputs": [],
   "source": [
    "speed <- distance /(time/60)"
   ]
  },
  {
   "cell_type": "code",
   "execution_count": 17,
   "id": "known-sierra",
   "metadata": {},
   "outputs": [
    {
     "data": {
      "text/html": [
       "<ol class=list-inline>\n",
       "\t<li>4.8</li>\n",
       "\t<li>6.2</li>\n",
       "\t<li>4.2</li>\n",
       "\t<li>4.8</li>\n",
       "</ol>\n"
      ],
      "text/latex": [
       "\\begin{enumerate*}\n",
       "\\item 4.8\n",
       "\\item 6.2\n",
       "\\item 4.2\n",
       "\\item 4.8\n",
       "\\end{enumerate*}\n"
      ],
      "text/markdown": [
       "1. 4.8\n",
       "2. 6.2\n",
       "3. 4.2\n",
       "4. 4.8\n",
       "\n",
       "\n"
      ],
      "text/plain": [
       "[1] 4.8 6.2 4.2 4.8"
      ]
     },
     "metadata": {},
     "output_type": "display_data"
    }
   ],
   "source": [
    "speed"
   ]
  },
  {
   "cell_type": "code",
   "execution_count": 19,
   "id": "incorporated-compact",
   "metadata": {},
   "outputs": [
    {
     "data": {
      "text/html": [
       "NA"
      ],
      "text/latex": [
       "NA"
      ],
      "text/markdown": [
       "NA"
      ],
      "text/plain": [
       "[1] NA"
      ]
     },
     "metadata": {},
     "output_type": "display_data"
    }
   ],
   "source": []
  },
  {
   "cell_type": "code",
   "execution_count": null,
   "id": "aggressive-validation",
   "metadata": {},
   "outputs": [],
   "source": []
  }
 ],
 "metadata": {
  "kernelspec": {
   "display_name": "R",
   "language": "R",
   "name": "ir"
  },
  "language_info": {
   "codemirror_mode": "r",
   "file_extension": ".r",
   "mimetype": "text/x-r-source",
   "name": "R",
   "pygments_lexer": "r",
   "version": "3.6.1"
  }
 },
 "nbformat": 4,
 "nbformat_minor": 5
}
