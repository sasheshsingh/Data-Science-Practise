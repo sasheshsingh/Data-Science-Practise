{
 "cells": [
  {
   "cell_type": "markdown",
   "id": "experienced-language",
   "metadata": {},
   "source": [
    "## Quantile\n"
   ]
  },
  {
   "cell_type": "code",
   "execution_count": 1,
   "id": "compound-summary",
   "metadata": {},
   "outputs": [],
   "source": [
    "library(dslabs)"
   ]
  },
  {
   "cell_type": "code",
   "execution_count": 2,
   "id": "assigned-shame",
   "metadata": {},
   "outputs": [],
   "source": [
    "data(heights)"
   ]
  },
  {
   "cell_type": "code",
   "execution_count": 14,
   "id": "overhead-differential",
   "metadata": {},
   "outputs": [
    {
     "data": {
      "text/html": [
       "<strong>18%:</strong> 65"
      ],
      "text/latex": [
       "\\textbf{18\\textbackslash{}\\%:} 65"
      ],
      "text/markdown": [
       "**18%:** 65"
      ],
      "text/plain": [
       "18% \n",
       " 65 "
      ]
     },
     "metadata": {},
     "output_type": "display_data"
    }
   ],
   "source": [
    "quantile(heights$height,0.18)"
   ]
  },
  {
   "cell_type": "code",
   "execution_count": 15,
   "id": "spare-angel",
   "metadata": {},
   "outputs": [
    {
     "data": {
      "text/html": [
       "64.2443963485473"
      ],
      "text/latex": [
       "64.2443963485473"
      ],
      "text/markdown": [
       "64.2443963485473"
      ],
      "text/plain": [
       "[1] 64.2444"
      ]
     },
     "metadata": {},
     "output_type": "display_data"
    }
   ],
   "source": [
    "mean(heights$height)-sd(heights$height)"
   ]
  },
  {
   "cell_type": "code",
   "execution_count": 10,
   "id": "scheduled-change",
   "metadata": {},
   "outputs": [
    {
     "data": {
      "text/html": [
       "18"
      ],
      "text/latex": [
       "18"
      ],
      "text/markdown": [
       "18"
      ],
      "text/plain": [
       "[1] 18"
      ]
     },
     "metadata": {},
     "output_type": "display_data"
    }
   ],
   "source": [
    "68 - 50"
   ]
  },
  {
   "cell_type": "code",
   "execution_count": 19,
   "id": "happy-difficulty",
   "metadata": {},
   "outputs": [],
   "source": [
    "p <- seq(0, 0.99, 0.01)"
   ]
  },
  {
   "cell_type": "code",
   "execution_count": 20,
   "id": "atlantic-ordinance",
   "metadata": {},
   "outputs": [
    {
     "data": {
      "text/html": [
       "100"
      ],
      "text/latex": [
       "100"
      ],
      "text/markdown": [
       "100"
      ],
      "text/plain": [
       "[1] 100"
      ]
     },
     "metadata": {},
     "output_type": "display_data"
    }
   ],
   "source": [
    "length(p)"
   ]
  },
  {
   "cell_type": "code",
   "execution_count": 21,
   "id": "widespread-subsection",
   "metadata": {},
   "outputs": [
    {
     "data": {
      "text/html": [
       "<strong>0%:</strong> 0"
      ],
      "text/latex": [
       "\\textbf{0\\textbackslash{}\\%:} 0"
      ],
      "text/markdown": [
       "**0%:** 0"
      ],
      "text/plain": [
       "0% \n",
       " 0 "
      ]
     },
     "metadata": {},
     "output_type": "display_data"
    }
   ],
   "source": [
    "quantile(p,0)"
   ]
  },
  {
   "cell_type": "code",
   "execution_count": 22,
   "id": "designing-nelson",
   "metadata": {},
   "outputs": [
    {
     "data": {
      "text/html": [
       "<strong>25%:</strong> 0.2475"
      ],
      "text/latex": [
       "\\textbf{25\\textbackslash{}\\%:} 0.2475"
      ],
      "text/markdown": [
       "**25%:** 0.2475"
      ],
      "text/plain": [
       "   25% \n",
       "0.2475 "
      ]
     },
     "metadata": {},
     "output_type": "display_data"
    }
   ],
   "source": [
    "quantile(p, 0.25)"
   ]
  },
  {
   "cell_type": "code",
   "execution_count": 23,
   "id": "hundred-lodge",
   "metadata": {},
   "outputs": [
    {
     "data": {
      "text/html": [
       "<strong>90%:</strong> 0.891"
      ],
      "text/latex": [
       "\\textbf{90\\textbackslash{}\\%:} 0.891"
      ],
      "text/markdown": [
       "**90%:** 0.891"
      ],
      "text/plain": [
       "  90% \n",
       "0.891 "
      ]
     },
     "metadata": {},
     "output_type": "display_data"
    }
   ],
   "source": [
    "quantile(p, 0.9)"
   ]
  },
  {
   "cell_type": "code",
   "execution_count": 24,
   "id": "quiet-client",
   "metadata": {},
   "outputs": [
    {
     "data": {
      "text/html": [
       "<strong>100%:</strong> 0.99"
      ],
      "text/latex": [
       "\\textbf{100\\textbackslash{}\\%:} 0.99"
      ],
      "text/markdown": [
       "**100%:** 0.99"
      ],
      "text/plain": [
       "100% \n",
       "0.99 "
      ]
     },
     "metadata": {},
     "output_type": "display_data"
    }
   ],
   "source": [
    "quantile(p,1)"
   ]
  },
  {
   "cell_type": "code",
   "execution_count": 25,
   "id": "patent-worry",
   "metadata": {},
   "outputs": [
    {
     "data": {
      "text/html": [
       "<strong>75%:</strong> 0.7425"
      ],
      "text/latex": [
       "\\textbf{75\\textbackslash{}\\%:} 0.7425"
      ],
      "text/markdown": [
       "**75%:** 0.7425"
      ],
      "text/plain": [
       "   75% \n",
       "0.7425 "
      ]
     },
     "metadata": {},
     "output_type": "display_data"
    }
   ],
   "source": [
    "quantile(p,0.75)"
   ]
  },
  {
   "cell_type": "code",
   "execution_count": 26,
   "id": "technological-merit",
   "metadata": {},
   "outputs": [
    {
     "data": {
      "text/plain": [
       "   Min. 1st Qu.  Median    Mean 3rd Qu.    Max. \n",
       " 0.0000  0.2475  0.4950  0.4950  0.7425  0.9900 "
      ]
     },
     "metadata": {},
     "output_type": "display_data"
    }
   ],
   "source": [
    "summary(p)"
   ]
  },
  {
   "cell_type": "code",
   "execution_count": 29,
   "id": "discrete-detector",
   "metadata": {},
   "outputs": [],
   "source": [
    "percentile <- quantile(heights$height,p)"
   ]
  },
  {
   "cell_type": "code",
   "execution_count": 32,
   "id": "prime-prairie",
   "metadata": {},
   "outputs": [
    {
     "data": {
      "text/html": [
       "<strong>25%:</strong> 66"
      ],
      "text/latex": [
       "\\textbf{25\\textbackslash{}\\%:} 66"
      ],
      "text/markdown": [
       "**25%:** 66"
      ],
      "text/plain": [
       "25% \n",
       " 66 "
      ]
     },
     "metadata": {},
     "output_type": "display_data"
    }
   ],
   "source": [
    "# 1st percentile\n",
    "percentile[names(percentile) == \"25%\"]"
   ]
  },
  {
   "cell_type": "code",
   "execution_count": 33,
   "id": "dirty-borough",
   "metadata": {},
   "outputs": [
    {
     "data": {
      "text/html": [
       "<strong>75%:</strong> 71"
      ],
      "text/latex": [
       "\\textbf{75\\textbackslash{}\\%:} 71"
      ],
      "text/markdown": [
       "**75%:** 71"
      ],
      "text/plain": [
       "75% \n",
       " 71 "
      ]
     },
     "metadata": {},
     "output_type": "display_data"
    }
   ],
   "source": [
    "# 3rd percentile\n",
    "percentile[names(percentile) == \"75%\"]"
   ]
  },
  {
   "cell_type": "code",
   "execution_count": 34,
   "id": "worldwide-shooting",
   "metadata": {},
   "outputs": [
    {
     "data": {
      "text/html": [
       "<strong>50%:</strong> 68.5"
      ],
      "text/latex": [
       "\\textbf{50\\textbackslash{}\\%:} 68.5"
      ],
      "text/markdown": [
       "**50%:** 68.5"
      ],
      "text/plain": [
       " 50% \n",
       "68.5 "
      ]
     },
     "metadata": {},
     "output_type": "display_data"
    }
   ],
   "source": [
    "# median\n",
    "percentile[names(percentile) == \"50%\"]"
   ]
  },
  {
   "cell_type": "code",
   "execution_count": 35,
   "id": "latin-designer",
   "metadata": {},
   "outputs": [
    {
     "data": {
      "text/html": [
       "0.5"
      ],
      "text/latex": [
       "0.5"
      ],
      "text/markdown": [
       "0.5"
      ],
      "text/plain": [
       "[1] 0.5"
      ]
     },
     "metadata": {},
     "output_type": "display_data"
    }
   ],
   "source": [
    "pnorm(0)"
   ]
  },
  {
   "cell_type": "code",
   "execution_count": 36,
   "id": "viral-satellite",
   "metadata": {},
   "outputs": [
    {
     "data": {
      "text/html": [
       "0.841344746068543"
      ],
      "text/latex": [
       "0.841344746068543"
      ],
      "text/markdown": [
       "0.841344746068543"
      ],
      "text/plain": [
       "[1] 0.8413447"
      ]
     },
     "metadata": {},
     "output_type": "display_data"
    }
   ],
   "source": [
    "pnorm(1)"
   ]
  },
  {
   "cell_type": "code",
   "execution_count": 37,
   "id": "adult-growth",
   "metadata": {},
   "outputs": [
    {
     "data": {
      "text/html": [
       "0.158655253931457"
      ],
      "text/latex": [
       "0.158655253931457"
      ],
      "text/markdown": [
       "0.158655253931457"
      ],
      "text/plain": [
       "[1] 0.1586553"
      ]
     },
     "metadata": {},
     "output_type": "display_data"
    }
   ],
   "source": [
    "pnorm(-1)"
   ]
  },
  {
   "cell_type": "code",
   "execution_count": 38,
   "id": "raising-passage",
   "metadata": {},
   "outputs": [
    {
     "data": {
      "text/html": [
       "0.977249868051821"
      ],
      "text/latex": [
       "0.977249868051821"
      ],
      "text/markdown": [
       "0.977249868051821"
      ],
      "text/plain": [
       "[1] 0.9772499"
      ]
     },
     "metadata": {},
     "output_type": "display_data"
    }
   ],
   "source": [
    "pnorm(2)"
   ]
  },
  {
   "cell_type": "code",
   "execution_count": 69,
   "id": "political-square",
   "metadata": {},
   "outputs": [
    {
     "data": {
      "text/html": [
       "0.466793248147378"
      ],
      "text/latex": [
       "0.466793248147378"
      ],
      "text/markdown": [
       "0.466793248147378"
      ],
      "text/plain": [
       "[1] 0.4667932"
      ]
     },
     "metadata": {},
     "output_type": "display_data"
    }
   ],
   "source": [
    "pnorm(68.75,69,3)"
   ]
  },
  {
   "cell_type": "code",
   "execution_count": 68,
   "id": "competent-disposal",
   "metadata": {},
   "outputs": [
    {
     "data": {
      "text/html": [
       "68.6986988384656"
      ],
      "text/latex": [
       "68.6986988384656"
      ],
      "text/markdown": [
       "68.6986988384656"
      ],
      "text/plain": [
       "[1] 68.6987"
      ]
     },
     "metadata": {},
     "output_type": "display_data"
    }
   ],
   "source": [
    "qnorm(0.46,69,3)"
   ]
  },
  {
   "cell_type": "code",
   "execution_count": 58,
   "id": "south-change",
   "metadata": {},
   "outputs": [
    {
     "data": {
      "text/html": [
       "<pre class=language-r><code>function (p, mean = 0, sd = 1, lower.tail = TRUE, log.p = FALSE) \n",
       ".Call(C_qnorm, p, mean, sd, lower.tail, log.p)</code></pre>"
      ],
      "text/latex": [
       "\\begin{minted}{r}\n",
       "function (p, mean = 0, sd = 1, lower.tail = TRUE, log.p = FALSE) \n",
       ".Call(C\\_qnorm, p, mean, sd, lower.tail, log.p)\n",
       "\\end{minted}"
      ],
      "text/markdown": [
       "```r\n",
       "function (p, mean = 0, sd = 1, lower.tail = TRUE, log.p = FALSE) \n",
       ".Call(C_qnorm, p, mean, sd, lower.tail, log.p)\n",
       "```"
      ],
      "text/plain": [
       "function (p, mean = 0, sd = 1, lower.tail = TRUE, log.p = FALSE) \n",
       ".Call(C_qnorm, p, mean, sd, lower.tail, log.p)\n",
       "<bytecode: 0x55ab247e5d48>\n",
       "<environment: namespace:stats>"
      ]
     },
     "metadata": {},
     "output_type": "display_data"
    }
   ],
   "source": [
    "qnorm"
   ]
  },
  {
   "cell_type": "markdown",
   "id": "frank-assembly",
   "metadata": {},
   "source": [
    "Taking mean = 69 and standard deviation = 3"
   ]
  },
  {
   "cell_type": "code",
   "execution_count": 82,
   "id": "intimate-april",
   "metadata": {},
   "outputs": [
    {
     "data": {
      "text/html": [
       "69"
      ],
      "text/latex": [
       "69"
      ],
      "text/markdown": [
       "69"
      ],
      "text/plain": [
       "[1] 69"
      ]
     },
     "metadata": {},
     "output_type": "display_data"
    }
   ],
   "source": [
    "qnorm(0.5, 69, 3)"
   ]
  },
  {
   "cell_type": "code",
   "execution_count": 83,
   "id": "tired-seven",
   "metadata": {},
   "outputs": [
    {
     "data": {
      "text/html": [
       "71.0234692505882"
      ],
      "text/latex": [
       "71.0234692505882"
      ],
      "text/markdown": [
       "71.0234692505882"
      ],
      "text/plain": [
       "[1] 71.02347"
      ]
     },
     "metadata": {},
     "output_type": "display_data"
    }
   ],
   "source": [
    "qnorm(0.75, 69, 3)"
   ]
  },
  {
   "cell_type": "code",
   "execution_count": 84,
   "id": "early-vacuum",
   "metadata": {},
   "outputs": [
    {
     "data": {
      "text/html": [
       "70.4030963973435"
      ],
      "text/latex": [
       "70.4030963973435"
      ],
      "text/markdown": [
       "70.4030963973435"
      ],
      "text/plain": [
       "[1] 70.4031"
      ]
     },
     "metadata": {},
     "output_type": "display_data"
    }
   ],
   "source": [
    "qnorm(0.68, 69, 3)"
   ]
  },
  {
   "cell_type": "code",
   "execution_count": 85,
   "id": "terminal-median",
   "metadata": {},
   "outputs": [
    {
     "data": {
      "text/html": [
       "73.9345608808544"
      ],
      "text/latex": [
       "73.9345608808544"
      ],
      "text/markdown": [
       "73.9345608808544"
      ],
      "text/plain": [
       "[1] 73.93456"
      ]
     },
     "metadata": {},
     "output_type": "display_data"
    }
   ],
   "source": [
    "qnorm(0.95, 69, 3)"
   ]
  },
  {
   "cell_type": "code",
   "execution_count": 86,
   "id": "adverse-installation",
   "metadata": {},
   "outputs": [
    {
     "data": {
      "text/html": [
       "77.243344156335"
      ],
      "text/latex": [
       "77.243344156335"
      ],
      "text/markdown": [
       "77.243344156335"
      ],
      "text/plain": [
       "[1] 77.24334"
      ]
     },
     "metadata": {},
     "output_type": "display_data"
    }
   ],
   "source": [
    "qnorm(0.997, 69, 3)"
   ]
  },
  {
   "cell_type": "code",
   "execution_count": 87,
   "id": "golden-television",
   "metadata": {},
   "outputs": [
    {
     "data": {
      "text/html": [
       "75.9790436221225"
      ],
      "text/latex": [
       "75.9790436221225"
      ],
      "text/markdown": [
       "75.9790436221225"
      ],
      "text/plain": [
       "[1] 75.97904"
      ]
     },
     "metadata": {},
     "output_type": "display_data"
    }
   ],
   "source": [
    "qnorm(0.99, 69, 3)"
   ]
  },
  {
   "cell_type": "code",
   "execution_count": 88,
   "id": "medical-night",
   "metadata": {},
   "outputs": [
    {
     "data": {
      "text/html": [
       "0.5"
      ],
      "text/latex": [
       "0.5"
      ],
      "text/markdown": [
       "0.5"
      ],
      "text/plain": [
       "[1] 0.5"
      ]
     },
     "metadata": {},
     "output_type": "display_data"
    }
   ],
   "source": [
    "pnorm(69,69,3)"
   ]
  },
  {
   "cell_type": "code",
   "execution_count": 89,
   "id": "indian-david",
   "metadata": {},
   "outputs": [],
   "source": [
    "x <- heights$height"
   ]
  },
  {
   "cell_type": "code",
   "execution_count": 90,
   "id": "perceived-vaccine",
   "metadata": {},
   "outputs": [
    {
     "data": {
      "image/png": "[encoded data removed]",
      "text/plain": [
       "Plot with title “density.default(x = x)”"
      ]
     },
     "metadata": {},
     "output_type": "display_data"
    }
   ],
   "source": [
    "plot(density(x))"
   ]
  },
  {
   "cell_type": "code",
   "execution_count": 91,
   "id": "outstanding-passion",
   "metadata": {},
   "outputs": [],
   "source": [
    "qnorm_f <- function(d){\n",
    "    qnorm(d, mean(x), sd(x))\n",
    "}"
   ]
  },
  {
   "cell_type": "code",
   "execution_count": 92,
   "id": "irish-fusion",
   "metadata": {},
   "outputs": [],
   "source": [
    "pnorm_f <- function(d){\n",
    "    pnorm(d, mean(x), sd(x))\n",
    "}"
   ]
  },
  {
   "cell_type": "code",
   "execution_count": 93,
   "id": "marked-silence",
   "metadata": {},
   "outputs": [
    {
     "data": {
      "text/html": [
       "0.56591537607643"
      ],
      "text/latex": [
       "0.56591537607643"
      ],
      "text/markdown": [
       "0.56591537607643"
      ],
      "text/plain": [
       "[1] 0.5659154"
      ]
     },
     "metadata": {},
     "output_type": "display_data"
    }
   ],
   "source": [
    "pnorm_f(69)"
   ]
  },
  {
   "cell_type": "code",
   "execution_count": null,
   "id": "binding-trinidad",
   "metadata": {},
   "outputs": [],
   "source": [
    "pnorm_f()"
   ]
  }
 ],
 "metadata": {
  "kernelspec": {
   "display_name": "R",
   "language": "R",
   "name": "ir"
  },
  "language_info": {
   "codemirror_mode": "r",
   "file_extension": ".r",
   "mimetype": "text/x-r-source",
   "name": "R",
   "pygments_lexer": "r",
   "version": "3.6.1"
  }
 },
 "nbformat": 4,
 "nbformat_minor": 5
}
