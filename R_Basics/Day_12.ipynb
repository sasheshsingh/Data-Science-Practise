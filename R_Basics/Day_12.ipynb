{
 "cells": [
  {
   "cell_type": "code",
   "execution_count": 2,
   "id": "western-confusion",
   "metadata": {},
   "outputs": [],
   "source": [
    "sum_n <- function(x){\n",
    "    n <- 1:x\n",
    "    sum(n)\n",
    "}"
   ]
  },
  {
   "cell_type": "markdown",
   "id": "compliant-thickness",
   "metadata": {},
   "source": [
    "# For Loops"
   ]
  },
  {
   "cell_type": "code",
   "execution_count": 3,
   "id": "right-royal",
   "metadata": {},
   "outputs": [
    {
     "name": "stdout",
     "output_type": "stream",
     "text": [
      "[1] 1\n",
      "[1] 2\n",
      "[1] 3\n",
      "[1] 4\n",
      "[1] 5\n"
     ]
    }
   ],
   "source": [
    "for (i in 1:5){\n",
    "    print(i)\n",
    "}"
   ]
  },
  {
   "cell_type": "code",
   "execution_count": 4,
   "id": "bulgarian-remedy",
   "metadata": {},
   "outputs": [],
   "source": [
    "m <- 25"
   ]
  },
  {
   "cell_type": "code",
   "execution_count": 5,
   "id": "spatial-speaker",
   "metadata": {},
   "outputs": [],
   "source": [
    "s_n <- vector(length = m)"
   ]
  },
  {
   "cell_type": "code",
   "execution_count": 6,
   "id": "mighty-exchange",
   "metadata": {},
   "outputs": [],
   "source": [
    "for (n in 1:m){\n",
    "    s_n[n] <- sum_n(n)\n",
    "}"
   ]
  },
  {
   "cell_type": "code",
   "execution_count": 7,
   "id": "helpful-assets",
   "metadata": {},
   "outputs": [
    {
     "data": {
      "text/html": [
       "<ol class=list-inline>\n",
       "\t<li>1</li>\n",
       "\t<li>3</li>\n",
       "\t<li>6</li>\n",
       "\t<li>10</li>\n",
       "\t<li>15</li>\n",
       "\t<li>21</li>\n",
       "\t<li>28</li>\n",
       "\t<li>36</li>\n",
       "\t<li>45</li>\n",
       "\t<li>55</li>\n",
       "\t<li>66</li>\n",
       "\t<li>78</li>\n",
       "\t<li>91</li>\n",
       "\t<li>105</li>\n",
       "\t<li>120</li>\n",
       "\t<li>136</li>\n",
       "\t<li>153</li>\n",
       "\t<li>171</li>\n",
       "\t<li>190</li>\n",
       "\t<li>210</li>\n",
       "\t<li>231</li>\n",
       "\t<li>253</li>\n",
       "\t<li>276</li>\n",
       "\t<li>300</li>\n",
       "\t<li>325</li>\n",
       "</ol>\n"
      ],
      "text/latex": [
       "\\begin{enumerate*}\n",
       "\\item 1\n",
       "\\item 3\n",
       "\\item 6\n",
       "\\item 10\n",
       "\\item 15\n",
       "\\item 21\n",
       "\\item 28\n",
       "\\item 36\n",
       "\\item 45\n",
       "\\item 55\n",
       "\\item 66\n",
       "\\item 78\n",
       "\\item 91\n",
       "\\item 105\n",
       "\\item 120\n",
       "\\item 136\n",
       "\\item 153\n",
       "\\item 171\n",
       "\\item 190\n",
       "\\item 210\n",
       "\\item 231\n",
       "\\item 253\n",
       "\\item 276\n",
       "\\item 300\n",
       "\\item 325\n",
       "\\end{enumerate*}\n"
      ],
      "text/markdown": [
       "1. 1\n",
       "2. 3\n",
       "3. 6\n",
       "4. 10\n",
       "5. 15\n",
       "6. 21\n",
       "7. 28\n",
       "8. 36\n",
       "9. 45\n",
       "10. 55\n",
       "11. 66\n",
       "12. 78\n",
       "13. 91\n",
       "14. 105\n",
       "15. 120\n",
       "16. 136\n",
       "17. 153\n",
       "18. 171\n",
       "19. 190\n",
       "20. 210\n",
       "21. 231\n",
       "22. 253\n",
       "23. 276\n",
       "24. 300\n",
       "25. 325\n",
       "\n",
       "\n"
      ],
      "text/plain": [
       " [1]   1   3   6  10  15  21  28  36  45  55  66  78  91 105 120 136 153 171 190\n",
       "[20] 210 231 253 276 300 325"
      ]
     },
     "metadata": {},
     "output_type": "display_data"
    }
   ],
   "source": [
    "s_n"
   ]
  },
  {
   "cell_type": "code",
   "execution_count": 10,
   "id": "polar-click",
   "metadata": {},
   "outputs": [
    {
     "data": {
      "image/png": "[encoded data removed]",
      "text/plain": [
       "plot without title"
      ]
     },
     "metadata": {},
     "output_type": "display_data"
    }
   ],
   "source": [
    "n <- 1:m\n",
    "plot(n,s_n)\n",
    "lines(n,n*(n+1)/2)"
   ]
  },
  {
   "cell_type": "code",
   "execution_count": 11,
   "id": "allied-telephone",
   "metadata": {},
   "outputs": [
    {
     "data": {
      "text/html": [
       "<ol class=list-inline>\n",
       "\t<li>'i'</li>\n",
       "\t<li>'m'</li>\n",
       "\t<li>'n'</li>\n",
       "\t<li>'s_n'</li>\n",
       "\t<li>'sum_n'</li>\n",
       "</ol>\n"
      ],
      "text/latex": [
       "\\begin{enumerate*}\n",
       "\\item 'i'\n",
       "\\item 'm'\n",
       "\\item 'n'\n",
       "\\item 's\\_n'\n",
       "\\item 'sum\\_n'\n",
       "\\end{enumerate*}\n"
      ],
      "text/markdown": [
       "1. 'i'\n",
       "2. 'm'\n",
       "3. 'n'\n",
       "4. 's_n'\n",
       "5. 'sum_n'\n",
       "\n",
       "\n"
      ],
      "text/plain": [
       "[1] \"i\"     \"m\"     \"n\"     \"s_n\"   \"sum_n\""
      ]
     },
     "metadata": {},
     "output_type": "display_data"
    }
   ],
   "source": [
    "ls()"
   ]
  },
  {
   "cell_type": "code",
   "execution_count": null,
   "id": "concerned-scout",
   "metadata": {},
   "outputs": [],
   "source": []
  }
 ],
 "metadata": {
  "kernelspec": {
   "display_name": "R",
   "language": "R",
   "name": "ir"
  },
  "language_info": {
   "codemirror_mode": "r",
   "file_extension": ".r",
   "mimetype": "text/x-r-source",
   "name": "R",
   "pygments_lexer": "r",
   "version": "3.6.1"
  }
 },
 "nbformat": 4,
 "nbformat_minor": 5
}
