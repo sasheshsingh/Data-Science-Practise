{
 "cells": [
  {
   "cell_type": "code",
   "execution_count": 3,
   "id": "magnetic-cartoon",
   "metadata": {},
   "outputs": [
    {
     "name": "stdout",
     "output_type": "stream",
     "text": [
      "[1] 0.5\n"
     ]
    }
   ],
   "source": [
    "if (a!=0){\n",
    "    print(1/a)\n",
    "}else{\n",
    "    print(\"Reciprocal of a is not possible\")\n",
    "}"
   ]
  },
  {
   "cell_type": "code",
   "execution_count": 2,
   "id": "small-australia",
   "metadata": {},
   "outputs": [],
   "source": [
    "a <- 2"
   ]
  },
  {
   "cell_type": "code",
   "execution_count": 4,
   "id": "present-trader",
   "metadata": {},
   "outputs": [],
   "source": [
    "library(dslabs)\n",
    "data(murders)"
   ]
  },
  {
   "cell_type": "code",
   "execution_count": 5,
   "id": "coastal-transcript",
   "metadata": {},
   "outputs": [
    {
     "data": {
      "text/html": [
       "<ol class=list-inline>\n",
       "\t<li>'state'</li>\n",
       "\t<li>'abb'</li>\n",
       "\t<li>'region'</li>\n",
       "\t<li>'population'</li>\n",
       "\t<li>'total'</li>\n",
       "</ol>\n"
      ],
      "text/latex": [
       "\\begin{enumerate*}\n",
       "\\item 'state'\n",
       "\\item 'abb'\n",
       "\\item 'region'\n",
       "\\item 'population'\n",
       "\\item 'total'\n",
       "\\end{enumerate*}\n"
      ],
      "text/markdown": [
       "1. 'state'\n",
       "2. 'abb'\n",
       "3. 'region'\n",
       "4. 'population'\n",
       "5. 'total'\n",
       "\n",
       "\n"
      ],
      "text/plain": [
       "[1] \"state\"      \"abb\"        \"region\"     \"population\" \"total\"     "
      ]
     },
     "metadata": {},
     "output_type": "display_data"
    }
   ],
   "source": [
    "names(murders)"
   ]
  },
  {
   "cell_type": "code",
   "execution_count": 6,
   "id": "danish-device",
   "metadata": {},
   "outputs": [],
   "source": [
    "murder_rate <- murders$total/murders$population*100000"
   ]
  },
  {
   "cell_type": "code",
   "execution_count": 21,
   "id": "silver-sender",
   "metadata": {},
   "outputs": [
    {
     "name": "stdout",
     "output_type": "stream",
     "text": [
      "[1] \"No state has murder rate that low.\"\n"
     ]
    }
   ],
   "source": [
    "if (murder_rate[ind] < 0.25){\n",
    "    print(murders$state[ind])\n",
    "}else{\n",
    "    print(\"No state has murder rate that low.\")\n",
    "}"
   ]
  },
  {
   "cell_type": "code",
   "execution_count": 18,
   "id": "logical-insert",
   "metadata": {},
   "outputs": [],
   "source": [
    "ind <- which.min(murder_rate)"
   ]
  },
  {
   "cell_type": "code",
   "execution_count": 22,
   "id": "printable-brisbane",
   "metadata": {},
   "outputs": [
    {
     "data": {
      "text/html": [
       "0.5"
      ],
      "text/latex": [
       "0.5"
      ],
      "text/markdown": [
       "0.5"
      ],
      "text/plain": [
       "[1] 0.5"
      ]
     },
     "metadata": {},
     "output_type": "display_data"
    }
   ],
   "source": [
    "ifelse(a!=0,1/a,\"Reciprocal is not possible.\")"
   ]
  },
  {
   "cell_type": "code",
   "execution_count": 23,
   "id": "remarkable-range",
   "metadata": {},
   "outputs": [],
   "source": [
    "a <- c(1, 0, 3, -1, 2)\n",
    "result <- ifelse(a>0, a, NA)"
   ]
  },
  {
   "cell_type": "code",
   "execution_count": 24,
   "id": "collaborative-increase",
   "metadata": {},
   "outputs": [
    {
     "data": {
      "text/html": [
       "<ol class=list-inline>\n",
       "\t<li>1</li>\n",
       "\t<li>&lt;NA&gt;</li>\n",
       "\t<li>3</li>\n",
       "\t<li>&lt;NA&gt;</li>\n",
       "\t<li>2</li>\n",
       "</ol>\n"
      ],
      "text/latex": [
       "\\begin{enumerate*}\n",
       "\\item 1\n",
       "\\item <NA>\n",
       "\\item 3\n",
       "\\item <NA>\n",
       "\\item 2\n",
       "\\end{enumerate*}\n"
      ],
      "text/markdown": [
       "1. 1\n",
       "2. &lt;NA&gt;\n",
       "3. 3\n",
       "4. &lt;NA&gt;\n",
       "5. 2\n",
       "\n",
       "\n"
      ],
      "text/plain": [
       "[1]  1 NA  3 NA  2"
      ]
     },
     "metadata": {},
     "output_type": "display_data"
    }
   ],
   "source": [
    "result"
   ]
  },
  {
   "cell_type": "code",
   "execution_count": 25,
   "id": "thousand-office",
   "metadata": {},
   "outputs": [
    {
     "ename": "ERROR",
     "evalue": "Error in date(na_example): unused argument (na_example)\n",
     "output_type": "error",
     "traceback": [
      "Error in date(na_example): unused argument (na_example)\nTraceback:\n"
     ]
    }
   ],
   "source": [
    "date(na_example)"
   ]
  },
  {
   "cell_type": "code",
   "execution_count": 28,
   "id": "alleged-leather",
   "metadata": {},
   "outputs": [
    {
     "data": {
      "text/html": [
       "145"
      ],
      "text/latex": [
       "145"
      ],
      "text/markdown": [
       "145"
      ],
      "text/plain": [
       "[1] 145"
      ]
     },
     "metadata": {},
     "output_type": "display_data"
    }
   ],
   "source": [
    "sum(is.na(na_example))"
   ]
  },
  {
   "cell_type": "code",
   "execution_count": 31,
   "id": "social-bloom",
   "metadata": {},
   "outputs": [],
   "source": [
    "no_nas <- ifelse(is.na(na_example), 0, na_example)"
   ]
  },
  {
   "cell_type": "code",
   "execution_count": 34,
   "id": "assumed-vocabulary",
   "metadata": {},
   "outputs": [
    {
     "data": {
      "text/html": [
       "0"
      ],
      "text/latex": [
       "0"
      ],
      "text/markdown": [
       "0"
      ],
      "text/plain": [
       "[1] 0"
      ]
     },
     "metadata": {},
     "output_type": "display_data"
    }
   ],
   "source": [
    "sum(is.na(no_nas))"
   ]
  },
  {
   "cell_type": "code",
   "execution_count": 36,
   "id": "mysterious-wagon",
   "metadata": {},
   "outputs": [],
   "source": [
    "logic <- c(TRUE, TRUE, FALSE)"
   ]
  },
  {
   "cell_type": "code",
   "execution_count": 37,
   "id": "emotional-wrong",
   "metadata": {},
   "outputs": [
    {
     "data": {
      "text/html": [
       "TRUE"
      ],
      "text/latex": [
       "TRUE"
      ],
      "text/markdown": [
       "TRUE"
      ],
      "text/plain": [
       "[1] TRUE"
      ]
     },
     "metadata": {},
     "output_type": "display_data"
    }
   ],
   "source": [
    "any(logic)"
   ]
  },
  {
   "cell_type": "code",
   "execution_count": 38,
   "id": "metric-experiment",
   "metadata": {},
   "outputs": [
    {
     "data": {
      "text/html": [
       "FALSE"
      ],
      "text/latex": [
       "FALSE"
      ],
      "text/markdown": [
       "FALSE"
      ],
      "text/plain": [
       "[1] FALSE"
      ]
     },
     "metadata": {},
     "output_type": "display_data"
    }
   ],
   "source": [
    "all(logic)"
   ]
  },
  {
   "cell_type": "code",
   "execution_count": 41,
   "id": "athletic-attention",
   "metadata": {},
   "outputs": [],
   "source": [
    "avg <- function(x){\n",
    "    s<- sum(x)\n",
    "    n <- length(x)\n",
    "    s/n\n",
    "}"
   ]
  },
  {
   "cell_type": "code",
   "execution_count": 42,
   "id": "excited-lotus",
   "metadata": {},
   "outputs": [],
   "source": [
    "x<- 1:100"
   ]
  },
  {
   "cell_type": "code",
   "execution_count": 43,
   "id": "outer-polymer",
   "metadata": {},
   "outputs": [
    {
     "data": {
      "text/html": [
       "50.5"
      ],
      "text/latex": [
       "50.5"
      ],
      "text/markdown": [
       "50.5"
      ],
      "text/plain": [
       "[1] 50.5"
      ]
     },
     "metadata": {},
     "output_type": "display_data"
    }
   ],
   "source": [
    "avg(x)"
   ]
  },
  {
   "cell_type": "code",
   "execution_count": 44,
   "id": "respected-bradford",
   "metadata": {},
   "outputs": [
    {
     "data": {
      "text/html": [
       "TRUE"
      ],
      "text/latex": [
       "TRUE"
      ],
      "text/markdown": [
       "TRUE"
      ],
      "text/plain": [
       "[1] TRUE"
      ]
     },
     "metadata": {},
     "output_type": "display_data"
    }
   ],
   "source": [
    "identical(mean(x),avg(x))"
   ]
  },
  {
   "cell_type": "code",
   "execution_count": 45,
   "id": "willing-faculty",
   "metadata": {},
   "outputs": [
    {
     "ename": "ERROR",
     "evalue": "Error in eval(expr, envir, enclos): object 's' not found\n",
     "output_type": "error",
     "traceback": [
      "Error in eval(expr, envir, enclos): object 's' not found\nTraceback:\n"
     ]
    }
   ],
   "source": [
    "s"
   ]
  },
  {
   "cell_type": "code",
   "execution_count": 46,
   "id": "spatial-compound",
   "metadata": {},
   "outputs": [
    {
     "ename": "ERROR",
     "evalue": "Error in eval(expr, envir, enclos): object 'n' not found\n",
     "output_type": "error",
     "traceback": [
      "Error in eval(expr, envir, enclos): object 'n' not found\nTraceback:\n"
     ]
    }
   ],
   "source": [
    "n"
   ]
  },
  {
   "cell_type": "code",
   "execution_count": 47,
   "id": "agricultural-healthcare",
   "metadata": {},
   "outputs": [],
   "source": [
    "avg <- function(x, arithmetic = TRUE){\n",
    "    n <- length(x)\n",
    "    ifelse(arithmetic, sum(x)/n, prod(x)^(1/n))\n",
    "}"
   ]
  },
  {
   "cell_type": "code",
   "execution_count": 49,
   "id": "ranking-rugby",
   "metadata": {},
   "outputs": [
    {
     "data": {
      "text/html": [
       "37.9926893448343"
      ],
      "text/latex": [
       "37.9926893448343"
      ],
      "text/markdown": [
       "37.9926893448343"
      ],
      "text/plain": [
       "[1] 37.99269"
      ]
     },
     "metadata": {},
     "output_type": "display_data"
    }
   ],
   "source": [
    "avg(x,arithmetic=FALSE)"
   ]
  },
  {
   "cell_type": "code",
   "execution_count": null,
   "id": "gothic-sunrise",
   "metadata": {},
   "outputs": [],
   "source": []
  }
 ],
 "metadata": {
  "kernelspec": {
   "display_name": "R",
   "language": "R",
   "name": "ir"
  },
  "language_info": {
   "codemirror_mode": "r",
   "file_extension": ".r",
   "mimetype": "text/x-r-source",
   "name": "R",
   "pygments_lexer": "r",
   "version": "3.6.1"
  }
 },
 "nbformat": 4,
 "nbformat_minor": 5
}
