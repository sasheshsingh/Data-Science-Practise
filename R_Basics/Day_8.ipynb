{
 "cells": [
  {
   "cell_type": "code",
   "execution_count": null,
   "id": "synthetic-wrist",
   "metadata": {},
   "outputs": [],
   "source": [
    "\n"
   ]
  },
  {
   "cell_type": "code",
   "execution_count": 1,
   "id": "sought-dressing",
   "metadata": {},
   "outputs": [],
   "source": [
    "library(dslabs)"
   ]
  },
  {
   "cell_type": "code",
   "execution_count": 2,
   "id": "successful-content",
   "metadata": {},
   "outputs": [],
   "source": [
    "data(\"murders\")"
   ]
  },
  {
   "cell_type": "code",
   "execution_count": 3,
   "id": "christian-physics",
   "metadata": {},
   "outputs": [
    {
     "data": {
      "text/html": [
       "<ol class=list-inline>\n",
       "\t<li>'state'</li>\n",
       "\t<li>'abb'</li>\n",
       "\t<li>'region'</li>\n",
       "\t<li>'population'</li>\n",
       "\t<li>'total'</li>\n",
       "</ol>\n"
      ],
      "text/latex": [
       "\\begin{enumerate*}\n",
       "\\item 'state'\n",
       "\\item 'abb'\n",
       "\\item 'region'\n",
       "\\item 'population'\n",
       "\\item 'total'\n",
       "\\end{enumerate*}\n"
      ],
      "text/markdown": [
       "1. 'state'\n",
       "2. 'abb'\n",
       "3. 'region'\n",
       "4. 'population'\n",
       "5. 'total'\n",
       "\n",
       "\n"
      ],
      "text/plain": [
       "[1] \"state\"      \"abb\"        \"region\"     \"population\" \"total\"     "
      ]
     },
     "metadata": {},
     "output_type": "display_data"
    }
   ],
   "source": [
    "names(murders)"
   ]
  },
  {
   "cell_type": "code",
   "execution_count": 4,
   "id": "beneficial-banner",
   "metadata": {},
   "outputs": [],
   "source": [
    "murder_rate <- (murders$total / murders$population) * 100000"
   ]
  },
  {
   "cell_type": "code",
   "execution_count": 5,
   "id": "placed-belfast",
   "metadata": {},
   "outputs": [
    {
     "data": {
      "text/html": [
       "<ol class=list-inline>\n",
       "\t<li>2.82442377570644</li>\n",
       "\t<li>2.67518596062408</li>\n",
       "\t<li>3.62952726815339</li>\n",
       "\t<li>3.18939009944724</li>\n",
       "\t<li>3.37413830627813</li>\n",
       "\t<li>1.29245310781286</li>\n",
       "\t<li>2.71397222850975</li>\n",
       "\t<li>4.23193686841126</li>\n",
       "\t<li>16.4527531771264</li>\n",
       "\t<li>3.39806883024604</li>\n",
       "\t<li>3.79032258064516</li>\n",
       "\t<li>0.514591991037278</li>\n",
       "\t<li>0.76551019340615</li>\n",
       "\t<li>2.83696079818983</li>\n",
       "\t<li>2.19007304664763</li>\n",
       "\t<li>0.689348418027446</li>\n",
       "\t<li>2.20811056535341</li>\n",
       "\t<li>2.67320095304223</li>\n",
       "\t<li>7.7425810191619</li>\n",
       "\t<li>0.828088147724903</li>\n",
       "\t<li>5.07486552472378</li>\n",
       "\t<li>1.80217907886962</li>\n",
       "\t<li>4.17862245083795</li>\n",
       "\t<li>0.999259981994466</li>\n",
       "\t<li>4.04408456585236</li>\n",
       "\t<li>5.35989168009562</li>\n",
       "\t<li>1.21283788905565</li>\n",
       "\t<li>1.75213719672285</li>\n",
       "\t<li>3.11047634353138</li>\n",
       "\t<li>0.379803565595874</li>\n",
       "\t<li>2.79803191439751</li>\n",
       "\t<li>3.25372393560735</li>\n",
       "\t<li>2.66795994778023</li>\n",
       "\t<li>2.9993236839707</li>\n",
       "\t<li>0.594715064578622</li>\n",
       "\t<li>2.68712254596366</li>\n",
       "\t<li>2.95893399471284</li>\n",
       "\t<li>0.939684276524024</li>\n",
       "\t<li>3.59775125588679</li>\n",
       "\t<li>1.52009325772136</li>\n",
       "\t<li>4.47532345562425</li>\n",
       "\t<li>0.982583703849272</li>\n",
       "\t<li>3.45093565265624</li>\n",
       "\t<li>3.20136027189849</li>\n",
       "\t<li>0.795981019470781</li>\n",
       "\t<li>0.319621057274495</li>\n",
       "\t<li>3.12460005119345</li>\n",
       "\t<li>1.38299422711442</li>\n",
       "\t<li>1.45710131819099</li>\n",
       "\t<li>1.70564865114843</li>\n",
       "\t<li>0.887113085627704</li>\n",
       "</ol>\n"
      ],
      "text/latex": [
       "\\begin{enumerate*}\n",
       "\\item 2.82442377570644\n",
       "\\item 2.67518596062408\n",
       "\\item 3.62952726815339\n",
       "\\item 3.18939009944724\n",
       "\\item 3.37413830627813\n",
       "\\item 1.29245310781286\n",
       "\\item 2.71397222850975\n",
       "\\item 4.23193686841126\n",
       "\\item 16.4527531771264\n",
       "\\item 3.39806883024604\n",
       "\\item 3.79032258064516\n",
       "\\item 0.514591991037278\n",
       "\\item 0.76551019340615\n",
       "\\item 2.83696079818983\n",
       "\\item 2.19007304664763\n",
       "\\item 0.689348418027446\n",
       "\\item 2.20811056535341\n",
       "\\item 2.67320095304223\n",
       "\\item 7.7425810191619\n",
       "\\item 0.828088147724903\n",
       "\\item 5.07486552472378\n",
       "\\item 1.80217907886962\n",
       "\\item 4.17862245083795\n",
       "\\item 0.999259981994466\n",
       "\\item 4.04408456585236\n",
       "\\item 5.35989168009562\n",
       "\\item 1.21283788905565\n",
       "\\item 1.75213719672285\n",
       "\\item 3.11047634353138\n",
       "\\item 0.379803565595874\n",
       "\\item 2.79803191439751\n",
       "\\item 3.25372393560735\n",
       "\\item 2.66795994778023\n",
       "\\item 2.9993236839707\n",
       "\\item 0.594715064578622\n",
       "\\item 2.68712254596366\n",
       "\\item 2.95893399471284\n",
       "\\item 0.939684276524024\n",
       "\\item 3.59775125588679\n",
       "\\item 1.52009325772136\n",
       "\\item 4.47532345562425\n",
       "\\item 0.982583703849272\n",
       "\\item 3.45093565265624\n",
       "\\item 3.20136027189849\n",
       "\\item 0.795981019470781\n",
       "\\item 0.319621057274495\n",
       "\\item 3.12460005119345\n",
       "\\item 1.38299422711442\n",
       "\\item 1.45710131819099\n",
       "\\item 1.70564865114843\n",
       "\\item 0.887113085627704\n",
       "\\end{enumerate*}\n"
      ],
      "text/markdown": [
       "1. 2.82442377570644\n",
       "2. 2.67518596062408\n",
       "3. 3.62952726815339\n",
       "4. 3.18939009944724\n",
       "5. 3.37413830627813\n",
       "6. 1.29245310781286\n",
       "7. 2.71397222850975\n",
       "8. 4.23193686841126\n",
       "9. 16.4527531771264\n",
       "10. 3.39806883024604\n",
       "11. 3.79032258064516\n",
       "12. 0.514591991037278\n",
       "13. 0.76551019340615\n",
       "14. 2.83696079818983\n",
       "15. 2.19007304664763\n",
       "16. 0.689348418027446\n",
       "17. 2.20811056535341\n",
       "18. 2.67320095304223\n",
       "19. 7.7425810191619\n",
       "20. 0.828088147724903\n",
       "21. 5.07486552472378\n",
       "22. 1.80217907886962\n",
       "23. 4.17862245083795\n",
       "24. 0.999259981994466\n",
       "25. 4.04408456585236\n",
       "26. 5.35989168009562\n",
       "27. 1.21283788905565\n",
       "28. 1.75213719672285\n",
       "29. 3.11047634353138\n",
       "30. 0.379803565595874\n",
       "31. 2.79803191439751\n",
       "32. 3.25372393560735\n",
       "33. 2.66795994778023\n",
       "34. 2.9993236839707\n",
       "35. 0.594715064578622\n",
       "36. 2.68712254596366\n",
       "37. 2.95893399471284\n",
       "38. 0.939684276524024\n",
       "39. 3.59775125588679\n",
       "40. 1.52009325772136\n",
       "41. 4.47532345562425\n",
       "42. 0.982583703849272\n",
       "43. 3.45093565265624\n",
       "44. 3.20136027189849\n",
       "45. 0.795981019470781\n",
       "46. 0.319621057274495\n",
       "47. 3.12460005119345\n",
       "48. 1.38299422711442\n",
       "49. 1.45710131819099\n",
       "50. 1.70564865114843\n",
       "51. 0.887113085627704\n",
       "\n",
       "\n"
      ],
      "text/plain": [
       " [1]  2.8244238  2.6751860  3.6295273  3.1893901  3.3741383  1.2924531\n",
       " [7]  2.7139722  4.2319369 16.4527532  3.3980688  3.7903226  0.5145920\n",
       "[13]  0.7655102  2.8369608  2.1900730  0.6893484  2.2081106  2.6732010\n",
       "[19]  7.7425810  0.8280881  5.0748655  1.8021791  4.1786225  0.9992600\n",
       "[25]  4.0440846  5.3598917  1.2128379  1.7521372  3.1104763  0.3798036\n",
       "[31]  2.7980319  3.2537239  2.6679599  2.9993237  0.5947151  2.6871225\n",
       "[37]  2.9589340  0.9396843  3.5977513  1.5200933  4.4753235  0.9825837\n",
       "[43]  3.4509357  3.2013603  0.7959810  0.3196211  3.1246001  1.3829942\n",
       "[49]  1.4571013  1.7056487  0.8871131"
      ]
     },
     "metadata": {},
     "output_type": "display_data"
    }
   ],
   "source": [
    "murder_rate"
   ]
  },
  {
   "cell_type": "code",
   "execution_count": 6,
   "id": "instant-township",
   "metadata": {},
   "outputs": [],
   "source": [
    "index <- murder_rate < 0.71"
   ]
  },
  {
   "cell_type": "code",
   "execution_count": 7,
   "id": "played-gamma",
   "metadata": {},
   "outputs": [
    {
     "data": {
      "text/html": [
       "<ol class=list-inline>\n",
       "\t<li>FALSE</li>\n",
       "\t<li>FALSE</li>\n",
       "\t<li>FALSE</li>\n",
       "\t<li>FALSE</li>\n",
       "\t<li>FALSE</li>\n",
       "\t<li>FALSE</li>\n",
       "\t<li>FALSE</li>\n",
       "\t<li>FALSE</li>\n",
       "\t<li>FALSE</li>\n",
       "\t<li>FALSE</li>\n",
       "\t<li>FALSE</li>\n",
       "\t<li>TRUE</li>\n",
       "\t<li>FALSE</li>\n",
       "\t<li>FALSE</li>\n",
       "\t<li>FALSE</li>\n",
       "\t<li>TRUE</li>\n",
       "\t<li>FALSE</li>\n",
       "\t<li>FALSE</li>\n",
       "\t<li>FALSE</li>\n",
       "\t<li>FALSE</li>\n",
       "\t<li>FALSE</li>\n",
       "\t<li>FALSE</li>\n",
       "\t<li>FALSE</li>\n",
       "\t<li>FALSE</li>\n",
       "\t<li>FALSE</li>\n",
       "\t<li>FALSE</li>\n",
       "\t<li>FALSE</li>\n",
       "\t<li>FALSE</li>\n",
       "\t<li>FALSE</li>\n",
       "\t<li>TRUE</li>\n",
       "\t<li>FALSE</li>\n",
       "\t<li>FALSE</li>\n",
       "\t<li>FALSE</li>\n",
       "\t<li>FALSE</li>\n",
       "\t<li>TRUE</li>\n",
       "\t<li>FALSE</li>\n",
       "\t<li>FALSE</li>\n",
       "\t<li>FALSE</li>\n",
       "\t<li>FALSE</li>\n",
       "\t<li>FALSE</li>\n",
       "\t<li>FALSE</li>\n",
       "\t<li>FALSE</li>\n",
       "\t<li>FALSE</li>\n",
       "\t<li>FALSE</li>\n",
       "\t<li>FALSE</li>\n",
       "\t<li>TRUE</li>\n",
       "\t<li>FALSE</li>\n",
       "\t<li>FALSE</li>\n",
       "\t<li>FALSE</li>\n",
       "\t<li>FALSE</li>\n",
       "\t<li>FALSE</li>\n",
       "</ol>\n"
      ],
      "text/latex": [
       "\\begin{enumerate*}\n",
       "\\item FALSE\n",
       "\\item FALSE\n",
       "\\item FALSE\n",
       "\\item FALSE\n",
       "\\item FALSE\n",
       "\\item FALSE\n",
       "\\item FALSE\n",
       "\\item FALSE\n",
       "\\item FALSE\n",
       "\\item FALSE\n",
       "\\item FALSE\n",
       "\\item TRUE\n",
       "\\item FALSE\n",
       "\\item FALSE\n",
       "\\item FALSE\n",
       "\\item TRUE\n",
       "\\item FALSE\n",
       "\\item FALSE\n",
       "\\item FALSE\n",
       "\\item FALSE\n",
       "\\item FALSE\n",
       "\\item FALSE\n",
       "\\item FALSE\n",
       "\\item FALSE\n",
       "\\item FALSE\n",
       "\\item FALSE\n",
       "\\item FALSE\n",
       "\\item FALSE\n",
       "\\item FALSE\n",
       "\\item TRUE\n",
       "\\item FALSE\n",
       "\\item FALSE\n",
       "\\item FALSE\n",
       "\\item FALSE\n",
       "\\item TRUE\n",
       "\\item FALSE\n",
       "\\item FALSE\n",
       "\\item FALSE\n",
       "\\item FALSE\n",
       "\\item FALSE\n",
       "\\item FALSE\n",
       "\\item FALSE\n",
       "\\item FALSE\n",
       "\\item FALSE\n",
       "\\item FALSE\n",
       "\\item TRUE\n",
       "\\item FALSE\n",
       "\\item FALSE\n",
       "\\item FALSE\n",
       "\\item FALSE\n",
       "\\item FALSE\n",
       "\\end{enumerate*}\n"
      ],
      "text/markdown": [
       "1. FALSE\n",
       "2. FALSE\n",
       "3. FALSE\n",
       "4. FALSE\n",
       "5. FALSE\n",
       "6. FALSE\n",
       "7. FALSE\n",
       "8. FALSE\n",
       "9. FALSE\n",
       "10. FALSE\n",
       "11. FALSE\n",
       "12. TRUE\n",
       "13. FALSE\n",
       "14. FALSE\n",
       "15. FALSE\n",
       "16. TRUE\n",
       "17. FALSE\n",
       "18. FALSE\n",
       "19. FALSE\n",
       "20. FALSE\n",
       "21. FALSE\n",
       "22. FALSE\n",
       "23. FALSE\n",
       "24. FALSE\n",
       "25. FALSE\n",
       "26. FALSE\n",
       "27. FALSE\n",
       "28. FALSE\n",
       "29. FALSE\n",
       "30. TRUE\n",
       "31. FALSE\n",
       "32. FALSE\n",
       "33. FALSE\n",
       "34. FALSE\n",
       "35. TRUE\n",
       "36. FALSE\n",
       "37. FALSE\n",
       "38. FALSE\n",
       "39. FALSE\n",
       "40. FALSE\n",
       "41. FALSE\n",
       "42. FALSE\n",
       "43. FALSE\n",
       "44. FALSE\n",
       "45. FALSE\n",
       "46. TRUE\n",
       "47. FALSE\n",
       "48. FALSE\n",
       "49. FALSE\n",
       "50. FALSE\n",
       "51. FALSE\n",
       "\n",
       "\n"
      ],
      "text/plain": [
       " [1] FALSE FALSE FALSE FALSE FALSE FALSE FALSE FALSE FALSE FALSE FALSE  TRUE\n",
       "[13] FALSE FALSE FALSE  TRUE FALSE FALSE FALSE FALSE FALSE FALSE FALSE FALSE\n",
       "[25] FALSE FALSE FALSE FALSE FALSE  TRUE FALSE FALSE FALSE FALSE  TRUE FALSE\n",
       "[37] FALSE FALSE FALSE FALSE FALSE FALSE FALSE FALSE FALSE  TRUE FALSE FALSE\n",
       "[49] FALSE FALSE FALSE"
      ]
     },
     "metadata": {},
     "output_type": "display_data"
    }
   ],
   "source": [
    "index"
   ]
  },
  {
   "cell_type": "code",
   "execution_count": 8,
   "id": "prerequisite-token",
   "metadata": {},
   "outputs": [],
   "source": [
    "index_2 <- murder_rate <= 0.71"
   ]
  },
  {
   "cell_type": "code",
   "execution_count": 9,
   "id": "arranged-mirror",
   "metadata": {},
   "outputs": [
    {
     "data": {
      "text/html": [
       "<ol class=list-inline>\n",
       "\t<li>FALSE</li>\n",
       "\t<li>FALSE</li>\n",
       "\t<li>FALSE</li>\n",
       "\t<li>FALSE</li>\n",
       "\t<li>FALSE</li>\n",
       "\t<li>FALSE</li>\n",
       "\t<li>FALSE</li>\n",
       "\t<li>FALSE</li>\n",
       "\t<li>FALSE</li>\n",
       "\t<li>FALSE</li>\n",
       "\t<li>FALSE</li>\n",
       "\t<li>TRUE</li>\n",
       "\t<li>FALSE</li>\n",
       "\t<li>FALSE</li>\n",
       "\t<li>FALSE</li>\n",
       "\t<li>TRUE</li>\n",
       "\t<li>FALSE</li>\n",
       "\t<li>FALSE</li>\n",
       "\t<li>FALSE</li>\n",
       "\t<li>FALSE</li>\n",
       "\t<li>FALSE</li>\n",
       "\t<li>FALSE</li>\n",
       "\t<li>FALSE</li>\n",
       "\t<li>FALSE</li>\n",
       "\t<li>FALSE</li>\n",
       "\t<li>FALSE</li>\n",
       "\t<li>FALSE</li>\n",
       "\t<li>FALSE</li>\n",
       "\t<li>FALSE</li>\n",
       "\t<li>TRUE</li>\n",
       "\t<li>FALSE</li>\n",
       "\t<li>FALSE</li>\n",
       "\t<li>FALSE</li>\n",
       "\t<li>FALSE</li>\n",
       "\t<li>TRUE</li>\n",
       "\t<li>FALSE</li>\n",
       "\t<li>FALSE</li>\n",
       "\t<li>FALSE</li>\n",
       "\t<li>FALSE</li>\n",
       "\t<li>FALSE</li>\n",
       "\t<li>FALSE</li>\n",
       "\t<li>FALSE</li>\n",
       "\t<li>FALSE</li>\n",
       "\t<li>FALSE</li>\n",
       "\t<li>FALSE</li>\n",
       "\t<li>TRUE</li>\n",
       "\t<li>FALSE</li>\n",
       "\t<li>FALSE</li>\n",
       "\t<li>FALSE</li>\n",
       "\t<li>FALSE</li>\n",
       "\t<li>FALSE</li>\n",
       "</ol>\n"
      ],
      "text/latex": [
       "\\begin{enumerate*}\n",
       "\\item FALSE\n",
       "\\item FALSE\n",
       "\\item FALSE\n",
       "\\item FALSE\n",
       "\\item FALSE\n",
       "\\item FALSE\n",
       "\\item FALSE\n",
       "\\item FALSE\n",
       "\\item FALSE\n",
       "\\item FALSE\n",
       "\\item FALSE\n",
       "\\item TRUE\n",
       "\\item FALSE\n",
       "\\item FALSE\n",
       "\\item FALSE\n",
       "\\item TRUE\n",
       "\\item FALSE\n",
       "\\item FALSE\n",
       "\\item FALSE\n",
       "\\item FALSE\n",
       "\\item FALSE\n",
       "\\item FALSE\n",
       "\\item FALSE\n",
       "\\item FALSE\n",
       "\\item FALSE\n",
       "\\item FALSE\n",
       "\\item FALSE\n",
       "\\item FALSE\n",
       "\\item FALSE\n",
       "\\item TRUE\n",
       "\\item FALSE\n",
       "\\item FALSE\n",
       "\\item FALSE\n",
       "\\item FALSE\n",
       "\\item TRUE\n",
       "\\item FALSE\n",
       "\\item FALSE\n",
       "\\item FALSE\n",
       "\\item FALSE\n",
       "\\item FALSE\n",
       "\\item FALSE\n",
       "\\item FALSE\n",
       "\\item FALSE\n",
       "\\item FALSE\n",
       "\\item FALSE\n",
       "\\item TRUE\n",
       "\\item FALSE\n",
       "\\item FALSE\n",
       "\\item FALSE\n",
       "\\item FALSE\n",
       "\\item FALSE\n",
       "\\end{enumerate*}\n"
      ],
      "text/markdown": [
       "1. FALSE\n",
       "2. FALSE\n",
       "3. FALSE\n",
       "4. FALSE\n",
       "5. FALSE\n",
       "6. FALSE\n",
       "7. FALSE\n",
       "8. FALSE\n",
       "9. FALSE\n",
       "10. FALSE\n",
       "11. FALSE\n",
       "12. TRUE\n",
       "13. FALSE\n",
       "14. FALSE\n",
       "15. FALSE\n",
       "16. TRUE\n",
       "17. FALSE\n",
       "18. FALSE\n",
       "19. FALSE\n",
       "20. FALSE\n",
       "21. FALSE\n",
       "22. FALSE\n",
       "23. FALSE\n",
       "24. FALSE\n",
       "25. FALSE\n",
       "26. FALSE\n",
       "27. FALSE\n",
       "28. FALSE\n",
       "29. FALSE\n",
       "30. TRUE\n",
       "31. FALSE\n",
       "32. FALSE\n",
       "33. FALSE\n",
       "34. FALSE\n",
       "35. TRUE\n",
       "36. FALSE\n",
       "37. FALSE\n",
       "38. FALSE\n",
       "39. FALSE\n",
       "40. FALSE\n",
       "41. FALSE\n",
       "42. FALSE\n",
       "43. FALSE\n",
       "44. FALSE\n",
       "45. FALSE\n",
       "46. TRUE\n",
       "47. FALSE\n",
       "48. FALSE\n",
       "49. FALSE\n",
       "50. FALSE\n",
       "51. FALSE\n",
       "\n",
       "\n"
      ],
      "text/plain": [
       " [1] FALSE FALSE FALSE FALSE FALSE FALSE FALSE FALSE FALSE FALSE FALSE  TRUE\n",
       "[13] FALSE FALSE FALSE  TRUE FALSE FALSE FALSE FALSE FALSE FALSE FALSE FALSE\n",
       "[25] FALSE FALSE FALSE FALSE FALSE  TRUE FALSE FALSE FALSE FALSE  TRUE FALSE\n",
       "[37] FALSE FALSE FALSE FALSE FALSE FALSE FALSE FALSE FALSE  TRUE FALSE FALSE\n",
       "[49] FALSE FALSE FALSE"
      ]
     },
     "metadata": {},
     "output_type": "display_data"
    }
   ],
   "source": [
    "index_2"
   ]
  },
  {
   "cell_type": "code",
   "execution_count": 10,
   "id": "patient-closer",
   "metadata": {},
   "outputs": [
    {
     "data": {
      "text/html": [
       "<ol class=list-inline>\n",
       "\t<li>'Hawaii'</li>\n",
       "\t<li>'Iowa'</li>\n",
       "\t<li>'New Hampshire'</li>\n",
       "\t<li>'North Dakota'</li>\n",
       "\t<li>'Vermont'</li>\n",
       "</ol>\n"
      ],
      "text/latex": [
       "\\begin{enumerate*}\n",
       "\\item 'Hawaii'\n",
       "\\item 'Iowa'\n",
       "\\item 'New Hampshire'\n",
       "\\item 'North Dakota'\n",
       "\\item 'Vermont'\n",
       "\\end{enumerate*}\n"
      ],
      "text/markdown": [
       "1. 'Hawaii'\n",
       "2. 'Iowa'\n",
       "3. 'New Hampshire'\n",
       "4. 'North Dakota'\n",
       "5. 'Vermont'\n",
       "\n",
       "\n"
      ],
      "text/plain": [
       "[1] \"Hawaii\"        \"Iowa\"          \"New Hampshire\" \"North Dakota\" \n",
       "[5] \"Vermont\"      "
      ]
     },
     "metadata": {},
     "output_type": "display_data"
    }
   ],
   "source": [
    "murders$state[index]"
   ]
  },
  {
   "cell_type": "code",
   "execution_count": 11,
   "id": "returning-gnome",
   "metadata": {},
   "outputs": [],
   "source": [
    "region <- murders$region == \"West\"\n",
    "safe <- murder_rate <= 1"
   ]
  },
  {
   "cell_type": "code",
   "execution_count": 12,
   "id": "covered-nowhere",
   "metadata": {},
   "outputs": [],
   "source": [
    "index <- region &safe"
   ]
  },
  {
   "cell_type": "code",
   "execution_count": 13,
   "id": "fiscal-freeware",
   "metadata": {},
   "outputs": [
    {
     "data": {
      "text/html": [
       "<ol class=list-inline>\n",
       "\t<li>'Hawaii'</li>\n",
       "\t<li>'Idaho'</li>\n",
       "\t<li>'Oregon'</li>\n",
       "\t<li>'Utah'</li>\n",
       "\t<li>'Wyoming'</li>\n",
       "</ol>\n"
      ],
      "text/latex": [
       "\\begin{enumerate*}\n",
       "\\item 'Hawaii'\n",
       "\\item 'Idaho'\n",
       "\\item 'Oregon'\n",
       "\\item 'Utah'\n",
       "\\item 'Wyoming'\n",
       "\\end{enumerate*}\n"
      ],
      "text/markdown": [
       "1. 'Hawaii'\n",
       "2. 'Idaho'\n",
       "3. 'Oregon'\n",
       "4. 'Utah'\n",
       "5. 'Wyoming'\n",
       "\n",
       "\n"
      ],
      "text/plain": [
       "[1] \"Hawaii\"  \"Idaho\"   \"Oregon\"  \"Utah\"    \"Wyoming\""
      ]
     },
     "metadata": {},
     "output_type": "display_data"
    }
   ],
   "source": [
    "murders$state[index]"
   ]
  },
  {
   "cell_type": "code",
   "execution_count": 14,
   "id": "right-turkey",
   "metadata": {},
   "outputs": [
    {
     "data": {
      "text/html": [
       "<ol class=list-inline>\n",
       "\t<li>'state'</li>\n",
       "\t<li>'abb'</li>\n",
       "\t<li>'region'</li>\n",
       "\t<li>'population'</li>\n",
       "\t<li>'total'</li>\n",
       "</ol>\n"
      ],
      "text/latex": [
       "\\begin{enumerate*}\n",
       "\\item 'state'\n",
       "\\item 'abb'\n",
       "\\item 'region'\n",
       "\\item 'population'\n",
       "\\item 'total'\n",
       "\\end{enumerate*}\n"
      ],
      "text/markdown": [
       "1. 'state'\n",
       "2. 'abb'\n",
       "3. 'region'\n",
       "4. 'population'\n",
       "5. 'total'\n",
       "\n",
       "\n"
      ],
      "text/plain": [
       "[1] \"state\"      \"abb\"        \"region\"     \"population\" \"total\"     "
      ]
     },
     "metadata": {},
     "output_type": "display_data"
    }
   ],
   "source": [
    "names(murders)"
   ]
  },
  {
   "cell_type": "code",
   "execution_count": 15,
   "id": "covered-nutrition",
   "metadata": {},
   "outputs": [],
   "source": [
    "x <- c(TRUE, FALSE, TRUE, TRUE , FALSE)"
   ]
  },
  {
   "cell_type": "code",
   "execution_count": 16,
   "id": "eleven-symbol",
   "metadata": {},
   "outputs": [
    {
     "data": {
      "text/html": [
       "<ol class=list-inline>\n",
       "\t<li>1</li>\n",
       "\t<li>3</li>\n",
       "\t<li>4</li>\n",
       "</ol>\n"
      ],
      "text/latex": [
       "\\begin{enumerate*}\n",
       "\\item 1\n",
       "\\item 3\n",
       "\\item 4\n",
       "\\end{enumerate*}\n"
      ],
      "text/markdown": [
       "1. 1\n",
       "2. 3\n",
       "3. 4\n",
       "\n",
       "\n"
      ],
      "text/plain": [
       "[1] 1 3 4"
      ]
     },
     "metadata": {},
     "output_type": "display_data"
    }
   ],
   "source": [
    "which(x)"
   ]
  },
  {
   "cell_type": "code",
   "execution_count": 17,
   "id": "advanced-decline",
   "metadata": {},
   "outputs": [],
   "source": [
    "index <- murders$region == \"South\""
   ]
  },
  {
   "cell_type": "code",
   "execution_count": 18,
   "id": "received-three",
   "metadata": {},
   "outputs": [
    {
     "data": {
      "text/html": [
       "<ol class=list-inline>\n",
       "\t<li>'Alabama'</li>\n",
       "\t<li>'Arkansas'</li>\n",
       "\t<li>'Delaware'</li>\n",
       "\t<li>'District of Columbia'</li>\n",
       "\t<li>'Florida'</li>\n",
       "\t<li>'Georgia'</li>\n",
       "\t<li>'Kentucky'</li>\n",
       "\t<li>'Louisiana'</li>\n",
       "\t<li>'Maryland'</li>\n",
       "\t<li>'Mississippi'</li>\n",
       "\t<li>'North Carolina'</li>\n",
       "\t<li>'Oklahoma'</li>\n",
       "\t<li>'South Carolina'</li>\n",
       "\t<li>'Tennessee'</li>\n",
       "\t<li>'Texas'</li>\n",
       "\t<li>'Virginia'</li>\n",
       "\t<li>'West Virginia'</li>\n",
       "</ol>\n"
      ],
      "text/latex": [
       "\\begin{enumerate*}\n",
       "\\item 'Alabama'\n",
       "\\item 'Arkansas'\n",
       "\\item 'Delaware'\n",
       "\\item 'District of Columbia'\n",
       "\\item 'Florida'\n",
       "\\item 'Georgia'\n",
       "\\item 'Kentucky'\n",
       "\\item 'Louisiana'\n",
       "\\item 'Maryland'\n",
       "\\item 'Mississippi'\n",
       "\\item 'North Carolina'\n",
       "\\item 'Oklahoma'\n",
       "\\item 'South Carolina'\n",
       "\\item 'Tennessee'\n",
       "\\item 'Texas'\n",
       "\\item 'Virginia'\n",
       "\\item 'West Virginia'\n",
       "\\end{enumerate*}\n"
      ],
      "text/markdown": [
       "1. 'Alabama'\n",
       "2. 'Arkansas'\n",
       "3. 'Delaware'\n",
       "4. 'District of Columbia'\n",
       "5. 'Florida'\n",
       "6. 'Georgia'\n",
       "7. 'Kentucky'\n",
       "8. 'Louisiana'\n",
       "9. 'Maryland'\n",
       "10. 'Mississippi'\n",
       "11. 'North Carolina'\n",
       "12. 'Oklahoma'\n",
       "13. 'South Carolina'\n",
       "14. 'Tennessee'\n",
       "15. 'Texas'\n",
       "16. 'Virginia'\n",
       "17. 'West Virginia'\n",
       "\n",
       "\n"
      ],
      "text/plain": [
       " [1] \"Alabama\"              \"Arkansas\"             \"Delaware\"            \n",
       " [4] \"District of Columbia\" \"Florida\"              \"Georgia\"             \n",
       " [7] \"Kentucky\"             \"Louisiana\"            \"Maryland\"            \n",
       "[10] \"Mississippi\"          \"North Carolina\"       \"Oklahoma\"            \n",
       "[13] \"South Carolina\"       \"Tennessee\"            \"Texas\"               \n",
       "[16] \"Virginia\"             \"West Virginia\"       "
      ]
     },
     "metadata": {},
     "output_type": "display_data"
    }
   ],
   "source": [
    "murders$state[index]"
   ]
  },
  {
   "cell_type": "code",
   "execution_count": 19,
   "id": "middle-marker",
   "metadata": {},
   "outputs": [],
   "source": [
    "x <- c(\"a\", \"b\", \"c\", \"d\", \"e\")\n",
    "a <- c(\"a\", \"d\", \"f\")"
   ]
  },
  {
   "cell_type": "code",
   "execution_count": 20,
   "id": "respiratory-terror",
   "metadata": {},
   "outputs": [
    {
     "data": {
      "text/html": [
       "<ol class=list-inline>\n",
       "\t<li>TRUE</li>\n",
       "\t<li>TRUE</li>\n",
       "\t<li>FALSE</li>\n",
       "</ol>\n"
      ],
      "text/latex": [
       "\\begin{enumerate*}\n",
       "\\item TRUE\n",
       "\\item TRUE\n",
       "\\item FALSE\n",
       "\\end{enumerate*}\n"
      ],
      "text/markdown": [
       "1. TRUE\n",
       "2. TRUE\n",
       "3. FALSE\n",
       "\n",
       "\n"
      ],
      "text/plain": [
       "[1]  TRUE  TRUE FALSE"
      ]
     },
     "metadata": {},
     "output_type": "display_data"
    }
   ],
   "source": [
    "a %in% x"
   ]
  },
  {
   "cell_type": "code",
   "execution_count": 21,
   "id": "southern-display",
   "metadata": {},
   "outputs": [
    {
     "data": {
      "text/html": [
       "<ol class=list-inline>\n",
       "\t<li>TRUE</li>\n",
       "\t<li>FALSE</li>\n",
       "\t<li>FALSE</li>\n",
       "\t<li>TRUE</li>\n",
       "\t<li>FALSE</li>\n",
       "</ol>\n"
      ],
      "text/latex": [
       "\\begin{enumerate*}\n",
       "\\item TRUE\n",
       "\\item FALSE\n",
       "\\item FALSE\n",
       "\\item TRUE\n",
       "\\item FALSE\n",
       "\\end{enumerate*}\n"
      ],
      "text/markdown": [
       "1. TRUE\n",
       "2. FALSE\n",
       "3. FALSE\n",
       "4. TRUE\n",
       "5. FALSE\n",
       "\n",
       "\n"
      ],
      "text/plain": [
       "[1]  TRUE FALSE FALSE  TRUE FALSE"
      ]
     },
     "metadata": {},
     "output_type": "display_data"
    }
   ],
   "source": [
    "x %in% a"
   ]
  },
  {
   "cell_type": "code",
   "execution_count": null,
   "id": "played-riding",
   "metadata": {},
   "outputs": [],
   "source": []
  }
 ],
 "metadata": {
  "kernelspec": {
   "display_name": "R",
   "language": "R",
   "name": "ir"
  },
  "language_info": {
   "codemirror_mode": "r",
   "file_extension": ".r",
   "mimetype": "text/x-r-source",
   "name": "R",
   "pygments_lexer": "r",
   "version": "3.6.1"
  }
 },
 "nbformat": 4,
 "nbformat_minor": 5
}
