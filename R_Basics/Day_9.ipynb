{
 "cells": [
  {
   "cell_type": "code",
   "execution_count": 5,
   "id": "central-wagner",
   "metadata": {},
   "outputs": [],
   "source": [
    "library(dslabs)"
   ]
  },
  {
   "cell_type": "code",
   "execution_count": 6,
   "id": "warming-narrative",
   "metadata": {},
   "outputs": [],
   "source": [
    "data(\"murders\")"
   ]
  },
  {
   "cell_type": "code",
   "execution_count": 7,
   "id": "finite-council",
   "metadata": {},
   "outputs": [],
   "source": [
    "murders <- mutate(murders, rate = total / population * 100000)"
   ]
  },
  {
   "cell_type": "code",
   "execution_count": 8,
   "id": "weighted-google",
   "metadata": {},
   "outputs": [
    {
     "data": {
      "text/html": [
       "<table>\n",
       "<thead><tr><th scope=col>state</th><th scope=col>abb</th><th scope=col>region</th><th scope=col>population</th><th scope=col>total</th><th scope=col>rate</th></tr></thead>\n",
       "<tbody>\n",
       "\t<tr><td>Alabama   </td><td>AL        </td><td>South     </td><td> 4779736  </td><td> 135      </td><td>2.824424  </td></tr>\n",
       "\t<tr><td>Alaska    </td><td>AK        </td><td>West      </td><td>  710231  </td><td>  19      </td><td>2.675186  </td></tr>\n",
       "\t<tr><td>Arizona   </td><td>AZ        </td><td>West      </td><td> 6392017  </td><td> 232      </td><td>3.629527  </td></tr>\n",
       "\t<tr><td>Arkansas  </td><td>AR        </td><td>South     </td><td> 2915918  </td><td>  93      </td><td>3.189390  </td></tr>\n",
       "\t<tr><td>California</td><td>CA        </td><td>West      </td><td>37253956  </td><td>1257      </td><td>3.374138  </td></tr>\n",
       "\t<tr><td>Colorado  </td><td>CO        </td><td>West      </td><td> 5029196  </td><td>  65      </td><td>1.292453  </td></tr>\n",
       "</tbody>\n",
       "</table>\n"
      ],
      "text/latex": [
       "\\begin{tabular}{r|llllll}\n",
       " state & abb & region & population & total & rate\\\\\n",
       "\\hline\n",
       "\t Alabama    & AL         & South      &  4779736   &  135       & 2.824424  \\\\\n",
       "\t Alaska     & AK         & West       &   710231   &   19       & 2.675186  \\\\\n",
       "\t Arizona    & AZ         & West       &  6392017   &  232       & 3.629527  \\\\\n",
       "\t Arkansas   & AR         & South      &  2915918   &   93       & 3.189390  \\\\\n",
       "\t California & CA         & West       & 37253956   & 1257       & 3.374138  \\\\\n",
       "\t Colorado   & CO         & West       &  5029196   &   65       & 1.292453  \\\\\n",
       "\\end{tabular}\n"
      ],
      "text/markdown": [
       "\n",
       "| state | abb | region | population | total | rate |\n",
       "|---|---|---|---|---|---|\n",
       "| Alabama    | AL         | South      |  4779736   |  135       | 2.824424   |\n",
       "| Alaska     | AK         | West       |   710231   |   19       | 2.675186   |\n",
       "| Arizona    | AZ         | West       |  6392017   |  232       | 3.629527   |\n",
       "| Arkansas   | AR         | South      |  2915918   |   93       | 3.189390   |\n",
       "| California | CA         | West       | 37253956   | 1257       | 3.374138   |\n",
       "| Colorado   | CO         | West       |  5029196   |   65       | 1.292453   |\n",
       "\n"
      ],
      "text/plain": [
       "  state      abb region population total rate    \n",
       "1 Alabama    AL  South   4779736    135  2.824424\n",
       "2 Alaska     AK  West     710231     19  2.675186\n",
       "3 Arizona    AZ  West    6392017    232  3.629527\n",
       "4 Arkansas   AR  South   2915918     93  3.189390\n",
       "5 California CA  West   37253956   1257  3.374138\n",
       "6 Colorado   CO  West    5029196     65  1.292453"
      ]
     },
     "metadata": {},
     "output_type": "display_data"
    }
   ],
   "source": [
    "head(murders)"
   ]
  },
  {
   "cell_type": "code",
   "execution_count": 10,
   "id": "promising-study",
   "metadata": {},
   "outputs": [
    {
     "data": {
      "text/html": [
       "<table>\n",
       "<thead><tr><th scope=col>state</th><th scope=col>abb</th><th scope=col>region</th><th scope=col>population</th><th scope=col>total</th><th scope=col>rate</th></tr></thead>\n",
       "<tbody>\n",
       "\t<tr><td>Hawaii       </td><td>HI           </td><td>West         </td><td>1360301      </td><td> 7           </td><td>0.5145920    </td></tr>\n",
       "\t<tr><td>Iowa         </td><td>IA           </td><td>North Central</td><td>3046355      </td><td>21           </td><td>0.6893484    </td></tr>\n",
       "\t<tr><td>New Hampshire</td><td>NH           </td><td>Northeast    </td><td>1316470      </td><td> 5           </td><td>0.3798036    </td></tr>\n",
       "\t<tr><td>North Dakota </td><td>ND           </td><td>North Central</td><td> 672591      </td><td> 4           </td><td>0.5947151    </td></tr>\n",
       "\t<tr><td>Vermont      </td><td>VT           </td><td>Northeast    </td><td> 625741      </td><td> 2           </td><td>0.3196211    </td></tr>\n",
       "</tbody>\n",
       "</table>\n"
      ],
      "text/latex": [
       "\\begin{tabular}{r|llllll}\n",
       " state & abb & region & population & total & rate\\\\\n",
       "\\hline\n",
       "\t Hawaii        & HI            & West          & 1360301       &  7            & 0.5145920    \\\\\n",
       "\t Iowa          & IA            & North Central & 3046355       & 21            & 0.6893484    \\\\\n",
       "\t New Hampshire & NH            & Northeast     & 1316470       &  5            & 0.3798036    \\\\\n",
       "\t North Dakota  & ND            & North Central &  672591       &  4            & 0.5947151    \\\\\n",
       "\t Vermont       & VT            & Northeast     &  625741       &  2            & 0.3196211    \\\\\n",
       "\\end{tabular}\n"
      ],
      "text/markdown": [
       "\n",
       "| state | abb | region | population | total | rate |\n",
       "|---|---|---|---|---|---|\n",
       "| Hawaii        | HI            | West          | 1360301       |  7            | 0.5145920     |\n",
       "| Iowa          | IA            | North Central | 3046355       | 21            | 0.6893484     |\n",
       "| New Hampshire | NH            | Northeast     | 1316470       |  5            | 0.3798036     |\n",
       "| North Dakota  | ND            | North Central |  672591       |  4            | 0.5947151     |\n",
       "| Vermont       | VT            | Northeast     |  625741       |  2            | 0.3196211     |\n",
       "\n"
      ],
      "text/plain": [
       "  state         abb region        population total rate     \n",
       "1 Hawaii        HI  West          1360301     7    0.5145920\n",
       "2 Iowa          IA  North Central 3046355    21    0.6893484\n",
       "3 New Hampshire NH  Northeast     1316470     5    0.3798036\n",
       "4 North Dakota  ND  North Central  672591     4    0.5947151\n",
       "5 Vermont       VT  Northeast      625741     2    0.3196211"
      ]
     },
     "metadata": {},
     "output_type": "display_data"
    }
   ],
   "source": [
    "filter(murders, rate <= 0.71)"
   ]
  },
  {
   "cell_type": "code",
   "execution_count": 11,
   "id": "statutory-schedule",
   "metadata": {},
   "outputs": [],
   "source": [
    "new_table <- select(murders, state, region, rate)"
   ]
  },
  {
   "cell_type": "code",
   "execution_count": 12,
   "id": "ready-forty",
   "metadata": {},
   "outputs": [
    {
     "data": {
      "text/html": [
       "<table>\n",
       "<thead><tr><th scope=col>state</th><th scope=col>region</th><th scope=col>rate</th></tr></thead>\n",
       "<tbody>\n",
       "\t<tr><td>Alabama   </td><td>South     </td><td>2.824424  </td></tr>\n",
       "\t<tr><td>Alaska    </td><td>West      </td><td>2.675186  </td></tr>\n",
       "\t<tr><td>Arizona   </td><td>West      </td><td>3.629527  </td></tr>\n",
       "\t<tr><td>Arkansas  </td><td>South     </td><td>3.189390  </td></tr>\n",
       "\t<tr><td>California</td><td>West      </td><td>3.374138  </td></tr>\n",
       "\t<tr><td>Colorado  </td><td>West      </td><td>1.292453  </td></tr>\n",
       "</tbody>\n",
       "</table>\n"
      ],
      "text/latex": [
       "\\begin{tabular}{r|lll}\n",
       " state & region & rate\\\\\n",
       "\\hline\n",
       "\t Alabama    & South      & 2.824424  \\\\\n",
       "\t Alaska     & West       & 2.675186  \\\\\n",
       "\t Arizona    & West       & 3.629527  \\\\\n",
       "\t Arkansas   & South      & 3.189390  \\\\\n",
       "\t California & West       & 3.374138  \\\\\n",
       "\t Colorado   & West       & 1.292453  \\\\\n",
       "\\end{tabular}\n"
      ],
      "text/markdown": [
       "\n",
       "| state | region | rate |\n",
       "|---|---|---|\n",
       "| Alabama    | South      | 2.824424   |\n",
       "| Alaska     | West       | 2.675186   |\n",
       "| Arizona    | West       | 3.629527   |\n",
       "| Arkansas   | South      | 3.189390   |\n",
       "| California | West       | 3.374138   |\n",
       "| Colorado   | West       | 1.292453   |\n",
       "\n"
      ],
      "text/plain": [
       "  state      region rate    \n",
       "1 Alabama    South  2.824424\n",
       "2 Alaska     West   2.675186\n",
       "3 Arizona    West   3.629527\n",
       "4 Arkansas   South  3.189390\n",
       "5 California West   3.374138\n",
       "6 Colorado   West   1.292453"
      ]
     },
     "metadata": {},
     "output_type": "display_data"
    }
   ],
   "source": [
    "head(new_table)"
   ]
  },
  {
   "cell_type": "code",
   "execution_count": 13,
   "id": "fatty-clock",
   "metadata": {},
   "outputs": [
    {
     "data": {
      "text/html": [
       "<table>\n",
       "<thead><tr><th scope=col>state</th><th scope=col>region</th><th scope=col>population</th><th scope=col>rate</th></tr></thead>\n",
       "<tbody>\n",
       "\t<tr><td>Hawaii       </td><td>West         </td><td>1360301      </td><td>0.5145920    </td></tr>\n",
       "\t<tr><td>Iowa         </td><td>North Central</td><td>3046355      </td><td>0.6893484    </td></tr>\n",
       "\t<tr><td>New Hampshire</td><td>Northeast    </td><td>1316470      </td><td>0.3798036    </td></tr>\n",
       "\t<tr><td>North Dakota </td><td>North Central</td><td> 672591      </td><td>0.5947151    </td></tr>\n",
       "\t<tr><td>Vermont      </td><td>Northeast    </td><td> 625741      </td><td>0.3196211    </td></tr>\n",
       "</tbody>\n",
       "</table>\n"
      ],
      "text/latex": [
       "\\begin{tabular}{r|llll}\n",
       " state & region & population & rate\\\\\n",
       "\\hline\n",
       "\t Hawaii        & West          & 1360301       & 0.5145920    \\\\\n",
       "\t Iowa          & North Central & 3046355       & 0.6893484    \\\\\n",
       "\t New Hampshire & Northeast     & 1316470       & 0.3798036    \\\\\n",
       "\t North Dakota  & North Central &  672591       & 0.5947151    \\\\\n",
       "\t Vermont       & Northeast     &  625741       & 0.3196211    \\\\\n",
       "\\end{tabular}\n"
      ],
      "text/markdown": [
       "\n",
       "| state | region | population | rate |\n",
       "|---|---|---|---|\n",
       "| Hawaii        | West          | 1360301       | 0.5145920     |\n",
       "| Iowa          | North Central | 3046355       | 0.6893484     |\n",
       "| New Hampshire | Northeast     | 1316470       | 0.3798036     |\n",
       "| North Dakota  | North Central |  672591       | 0.5947151     |\n",
       "| Vermont       | Northeast     |  625741       | 0.3196211     |\n",
       "\n"
      ],
      "text/plain": [
       "  state         region        population rate     \n",
       "1 Hawaii        West          1360301    0.5145920\n",
       "2 Iowa          North Central 3046355    0.6893484\n",
       "3 New Hampshire Northeast     1316470    0.3798036\n",
       "4 North Dakota  North Central  672591    0.5947151\n",
       "5 Vermont       Northeast      625741    0.3196211"
      ]
     },
     "metadata": {},
     "output_type": "display_data"
    }
   ],
   "source": [
    "murders %>% select(state, region, population, rate) %>% filter(rate <= 0.71)"
   ]
  },
  {
   "cell_type": "code",
   "execution_count": 18,
   "id": "elegant-tunnel",
   "metadata": {},
   "outputs": [],
   "source": [
    "a <- data.frame(name = c(\"Amit\", \"Bhavesh\", \"Chandrakant\", \"Dinesh\"),\n",
    "               Maths = c(38, 83, 28, 93),\n",
    "               Science = c(91, 38, 82, 81))"
   ]
  },
  {
   "cell_type": "code",
   "execution_count": 25,
   "id": "through-jackson",
   "metadata": {},
   "outputs": [
    {
     "data": {
      "text/html": [
       "'factor'"
      ],
      "text/latex": [
       "'factor'"
      ],
      "text/markdown": [
       "'factor'"
      ],
      "text/plain": [
       "[1] \"factor\""
      ]
     },
     "metadata": {},
     "output_type": "display_data"
    }
   ],
   "source": [
    "class(a$name)"
   ]
  },
  {
   "cell_type": "code",
   "execution_count": 30,
   "id": "agricultural-voluntary",
   "metadata": {},
   "outputs": [],
   "source": [
    "a_new <- data.frame(name = c(\"Amit\", \"Bhavesh\", \"Chandrakant\", \"Dinesh\"),\n",
    "               Maths = c(38, 83, 28, 93),\n",
    "               Science = c(91, 38, 82, 81),\n",
    "                   stringsAsFactors= FALSE)"
   ]
  },
  {
   "cell_type": "code",
   "execution_count": 32,
   "id": "hollywood-poster",
   "metadata": {},
   "outputs": [
    {
     "data": {
      "text/html": [
       "'character'"
      ],
      "text/latex": [
       "'character'"
      ],
      "text/markdown": [
       "'character'"
      ],
      "text/plain": [
       "[1] \"character\""
      ]
     },
     "metadata": {},
     "output_type": "display_data"
    }
   ],
   "source": [
    "class(a_new$name)"
   ]
  },
  {
   "cell_type": "code",
   "execution_count": null,
   "id": "neither-appreciation",
   "metadata": {},
   "outputs": [],
   "source": []
  }
 ],
 "metadata": {
  "kernelspec": {
   "display_name": "R",
   "language": "R",
   "name": "ir"
  },
  "language_info": {
   "codemirror_mode": "r",
   "file_extension": ".r",
   "mimetype": "text/x-r-source",
   "name": "R",
   "pygments_lexer": "r",
   "version": "3.6.1"
  }
 },
 "nbformat": 4,
 "nbformat_minor": 5
}
