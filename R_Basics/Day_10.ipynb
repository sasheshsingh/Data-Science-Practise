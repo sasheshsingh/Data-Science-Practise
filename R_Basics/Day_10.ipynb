{
 "cells": [
  {
   "cell_type": "code",
   "execution_count": 1,
   "id": "exempt-cornell",
   "metadata": {},
   "outputs": [
    {
     "name": "stderr",
     "output_type": "stream",
     "text": [
      "\n",
      "Attaching package: ‘dplyr’\n",
      "\n",
      "The following objects are masked from ‘package:stats’:\n",
      "\n",
      "    filter, lag\n",
      "\n",
      "The following objects are masked from ‘package:base’:\n",
      "\n",
      "    intersect, setdiff, setequal, union\n",
      "\n"
     ]
    }
   ],
   "source": [
    "library(dplyr)"
   ]
  },
  {
   "cell_type": "code",
   "execution_count": 2,
   "id": "centered-logan",
   "metadata": {},
   "outputs": [],
   "source": [
    "library(dslabs)"
   ]
  },
  {
   "cell_type": "code",
   "execution_count": 3,
   "id": "public-combining",
   "metadata": {},
   "outputs": [],
   "source": [
    "data(\"murders\")"
   ]
  },
  {
   "cell_type": "code",
   "execution_count": 4,
   "id": "average-toronto",
   "metadata": {},
   "outputs": [
    {
     "data": {
      "text/html": [
       "<table>\n",
       "<thead><tr><th scope=col>state</th><th scope=col>abb</th><th scope=col>region</th><th scope=col>population</th><th scope=col>total</th></tr></thead>\n",
       "<tbody>\n",
       "\t<tr><td>Alabama             </td><td>AL                  </td><td>South               </td><td> 4779736            </td><td> 135                </td></tr>\n",
       "\t<tr><td>Alaska              </td><td>AK                  </td><td>West                </td><td>  710231            </td><td>  19                </td></tr>\n",
       "\t<tr><td>Arizona             </td><td>AZ                  </td><td>West                </td><td> 6392017            </td><td> 232                </td></tr>\n",
       "\t<tr><td>Arkansas            </td><td>AR                  </td><td>South               </td><td> 2915918            </td><td>  93                </td></tr>\n",
       "\t<tr><td>California          </td><td>CA                  </td><td>West                </td><td>37253956            </td><td>1257                </td></tr>\n",
       "\t<tr><td>Colorado            </td><td>CO                  </td><td>West                </td><td> 5029196            </td><td>  65                </td></tr>\n",
       "\t<tr><td>Connecticut         </td><td>CT                  </td><td>Northeast           </td><td> 3574097            </td><td>  97                </td></tr>\n",
       "\t<tr><td>Delaware            </td><td>DE                  </td><td>South               </td><td>  897934            </td><td>  38                </td></tr>\n",
       "\t<tr><td>District of Columbia</td><td>DC                  </td><td>South               </td><td>  601723            </td><td>  99                </td></tr>\n",
       "\t<tr><td>Florida             </td><td>FL                  </td><td>South               </td><td>19687653            </td><td> 669                </td></tr>\n",
       "\t<tr><td>Georgia             </td><td>GA                  </td><td>South               </td><td> 9920000            </td><td> 376                </td></tr>\n",
       "\t<tr><td>Hawaii              </td><td>HI                  </td><td>West                </td><td> 1360301            </td><td>   7                </td></tr>\n",
       "\t<tr><td>Idaho               </td><td>ID                  </td><td>West                </td><td> 1567582            </td><td>  12                </td></tr>\n",
       "\t<tr><td>Illinois            </td><td>IL                  </td><td>North Central       </td><td>12830632            </td><td> 364                </td></tr>\n",
       "\t<tr><td>Indiana             </td><td>IN                  </td><td>North Central       </td><td> 6483802            </td><td> 142                </td></tr>\n",
       "\t<tr><td>Iowa                </td><td>IA                  </td><td>North Central       </td><td> 3046355            </td><td>  21                </td></tr>\n",
       "\t<tr><td>Kansas              </td><td>KS                  </td><td>North Central       </td><td> 2853118            </td><td>  63                </td></tr>\n",
       "\t<tr><td>Kentucky            </td><td>KY                  </td><td>South               </td><td> 4339367            </td><td> 116                </td></tr>\n",
       "\t<tr><td>Louisiana           </td><td>LA                  </td><td>South               </td><td> 4533372            </td><td> 351                </td></tr>\n",
       "\t<tr><td>Maine               </td><td>ME                  </td><td>Northeast           </td><td> 1328361            </td><td>  11                </td></tr>\n",
       "\t<tr><td>Maryland            </td><td>MD                  </td><td>South               </td><td> 5773552            </td><td> 293                </td></tr>\n",
       "\t<tr><td>Massachusetts       </td><td>MA                  </td><td>Northeast           </td><td> 6547629            </td><td> 118                </td></tr>\n",
       "\t<tr><td>Michigan            </td><td>MI                  </td><td>North Central       </td><td> 9883640            </td><td> 413                </td></tr>\n",
       "\t<tr><td>Minnesota           </td><td>MN                  </td><td>North Central       </td><td> 5303925            </td><td>  53                </td></tr>\n",
       "\t<tr><td>Mississippi         </td><td>MS                  </td><td>South               </td><td> 2967297            </td><td> 120                </td></tr>\n",
       "\t<tr><td>Missouri            </td><td>MO                  </td><td>North Central       </td><td> 5988927            </td><td> 321                </td></tr>\n",
       "\t<tr><td>Montana             </td><td>MT                  </td><td>West                </td><td>  989415            </td><td>  12                </td></tr>\n",
       "\t<tr><td>Nebraska            </td><td>NE                  </td><td>North Central       </td><td> 1826341            </td><td>  32                </td></tr>\n",
       "\t<tr><td>Nevada              </td><td>NV                  </td><td>West                </td><td> 2700551            </td><td>  84                </td></tr>\n",
       "\t<tr><td>New Hampshire       </td><td>NH                  </td><td>Northeast           </td><td> 1316470            </td><td>   5                </td></tr>\n",
       "\t<tr><td>New Jersey          </td><td>NJ                  </td><td>Northeast           </td><td> 8791894            </td><td> 246                </td></tr>\n",
       "\t<tr><td>New Mexico          </td><td>NM                  </td><td>West                </td><td> 2059179            </td><td>  67                </td></tr>\n",
       "\t<tr><td>New York            </td><td>NY                  </td><td>Northeast           </td><td>19378102            </td><td> 517                </td></tr>\n",
       "\t<tr><td>North Carolina      </td><td>NC                  </td><td>South               </td><td> 9535483            </td><td> 286                </td></tr>\n",
       "\t<tr><td>North Dakota        </td><td>ND                  </td><td>North Central       </td><td>  672591            </td><td>   4                </td></tr>\n",
       "\t<tr><td>Ohio                </td><td>OH                  </td><td>North Central       </td><td>11536504            </td><td> 310                </td></tr>\n",
       "\t<tr><td>Oklahoma            </td><td>OK                  </td><td>South               </td><td> 3751351            </td><td> 111                </td></tr>\n",
       "\t<tr><td>Oregon              </td><td>OR                  </td><td>West                </td><td> 3831074            </td><td>  36                </td></tr>\n",
       "\t<tr><td>Pennsylvania        </td><td>PA                  </td><td>Northeast           </td><td>12702379            </td><td> 457                </td></tr>\n",
       "\t<tr><td>Rhode Island        </td><td>RI                  </td><td>Northeast           </td><td> 1052567            </td><td>  16                </td></tr>\n",
       "\t<tr><td>South Carolina      </td><td>SC                  </td><td>South               </td><td> 4625364            </td><td> 207                </td></tr>\n",
       "\t<tr><td>South Dakota        </td><td>SD                  </td><td>North Central       </td><td>  814180            </td><td>   8                </td></tr>\n",
       "\t<tr><td>Tennessee           </td><td>TN                  </td><td>South               </td><td> 6346105            </td><td> 219                </td></tr>\n",
       "\t<tr><td>Texas               </td><td>TX                  </td><td>South               </td><td>25145561            </td><td> 805                </td></tr>\n",
       "\t<tr><td>Utah                </td><td>UT                  </td><td>West                </td><td> 2763885            </td><td>  22                </td></tr>\n",
       "\t<tr><td>Vermont             </td><td>VT                  </td><td>Northeast           </td><td>  625741            </td><td>   2                </td></tr>\n",
       "\t<tr><td>Virginia            </td><td>VA                  </td><td>South               </td><td> 8001024            </td><td> 250                </td></tr>\n",
       "\t<tr><td>Washington          </td><td>WA                  </td><td>West                </td><td> 6724540            </td><td>  93                </td></tr>\n",
       "\t<tr><td>West Virginia       </td><td>WV                  </td><td>South               </td><td> 1852994            </td><td>  27                </td></tr>\n",
       "\t<tr><td>Wisconsin           </td><td>WI                  </td><td>North Central       </td><td> 5686986            </td><td>  97                </td></tr>\n",
       "\t<tr><td>Wyoming             </td><td>WY                  </td><td>West                </td><td>  563626            </td><td>   5                </td></tr>\n",
       "</tbody>\n",
       "</table>\n"
      ],
      "text/latex": [
       "\\begin{tabular}{r|lllll}\n",
       " state & abb & region & population & total\\\\\n",
       "\\hline\n",
       "\t Alabama              & AL                   & South                &  4779736             &  135                \\\\\n",
       "\t Alaska               & AK                   & West                 &   710231             &   19                \\\\\n",
       "\t Arizona              & AZ                   & West                 &  6392017             &  232                \\\\\n",
       "\t Arkansas             & AR                   & South                &  2915918             &   93                \\\\\n",
       "\t California           & CA                   & West                 & 37253956             & 1257                \\\\\n",
       "\t Colorado             & CO                   & West                 &  5029196             &   65                \\\\\n",
       "\t Connecticut          & CT                   & Northeast            &  3574097             &   97                \\\\\n",
       "\t Delaware             & DE                   & South                &   897934             &   38                \\\\\n",
       "\t District of Columbia & DC                   & South                &   601723             &   99                \\\\\n",
       "\t Florida              & FL                   & South                & 19687653             &  669                \\\\\n",
       "\t Georgia              & GA                   & South                &  9920000             &  376                \\\\\n",
       "\t Hawaii               & HI                   & West                 &  1360301             &    7                \\\\\n",
       "\t Idaho                & ID                   & West                 &  1567582             &   12                \\\\\n",
       "\t Illinois             & IL                   & North Central        & 12830632             &  364                \\\\\n",
       "\t Indiana              & IN                   & North Central        &  6483802             &  142                \\\\\n",
       "\t Iowa                 & IA                   & North Central        &  3046355             &   21                \\\\\n",
       "\t Kansas               & KS                   & North Central        &  2853118             &   63                \\\\\n",
       "\t Kentucky             & KY                   & South                &  4339367             &  116                \\\\\n",
       "\t Louisiana            & LA                   & South                &  4533372             &  351                \\\\\n",
       "\t Maine                & ME                   & Northeast            &  1328361             &   11                \\\\\n",
       "\t Maryland             & MD                   & South                &  5773552             &  293                \\\\\n",
       "\t Massachusetts        & MA                   & Northeast            &  6547629             &  118                \\\\\n",
       "\t Michigan             & MI                   & North Central        &  9883640             &  413                \\\\\n",
       "\t Minnesota            & MN                   & North Central        &  5303925             &   53                \\\\\n",
       "\t Mississippi          & MS                   & South                &  2967297             &  120                \\\\\n",
       "\t Missouri             & MO                   & North Central        &  5988927             &  321                \\\\\n",
       "\t Montana              & MT                   & West                 &   989415             &   12                \\\\\n",
       "\t Nebraska             & NE                   & North Central        &  1826341             &   32                \\\\\n",
       "\t Nevada               & NV                   & West                 &  2700551             &   84                \\\\\n",
       "\t New Hampshire        & NH                   & Northeast            &  1316470             &    5                \\\\\n",
       "\t New Jersey           & NJ                   & Northeast            &  8791894             &  246                \\\\\n",
       "\t New Mexico           & NM                   & West                 &  2059179             &   67                \\\\\n",
       "\t New York             & NY                   & Northeast            & 19378102             &  517                \\\\\n",
       "\t North Carolina       & NC                   & South                &  9535483             &  286                \\\\\n",
       "\t North Dakota         & ND                   & North Central        &   672591             &    4                \\\\\n",
       "\t Ohio                 & OH                   & North Central        & 11536504             &  310                \\\\\n",
       "\t Oklahoma             & OK                   & South                &  3751351             &  111                \\\\\n",
       "\t Oregon               & OR                   & West                 &  3831074             &   36                \\\\\n",
       "\t Pennsylvania         & PA                   & Northeast            & 12702379             &  457                \\\\\n",
       "\t Rhode Island         & RI                   & Northeast            &  1052567             &   16                \\\\\n",
       "\t South Carolina       & SC                   & South                &  4625364             &  207                \\\\\n",
       "\t South Dakota         & SD                   & North Central        &   814180             &    8                \\\\\n",
       "\t Tennessee            & TN                   & South                &  6346105             &  219                \\\\\n",
       "\t Texas                & TX                   & South                & 25145561             &  805                \\\\\n",
       "\t Utah                 & UT                   & West                 &  2763885             &   22                \\\\\n",
       "\t Vermont              & VT                   & Northeast            &   625741             &    2                \\\\\n",
       "\t Virginia             & VA                   & South                &  8001024             &  250                \\\\\n",
       "\t Washington           & WA                   & West                 &  6724540             &   93                \\\\\n",
       "\t West Virginia        & WV                   & South                &  1852994             &   27                \\\\\n",
       "\t Wisconsin            & WI                   & North Central        &  5686986             &   97                \\\\\n",
       "\t Wyoming              & WY                   & West                 &   563626             &    5                \\\\\n",
       "\\end{tabular}\n"
      ],
      "text/markdown": [
       "\n",
       "| state | abb | region | population | total |\n",
       "|---|---|---|---|---|\n",
       "| Alabama              | AL                   | South                |  4779736             |  135                 |\n",
       "| Alaska               | AK                   | West                 |   710231             |   19                 |\n",
       "| Arizona              | AZ                   | West                 |  6392017             |  232                 |\n",
       "| Arkansas             | AR                   | South                |  2915918             |   93                 |\n",
       "| California           | CA                   | West                 | 37253956             | 1257                 |\n",
       "| Colorado             | CO                   | West                 |  5029196             |   65                 |\n",
       "| Connecticut          | CT                   | Northeast            |  3574097             |   97                 |\n",
       "| Delaware             | DE                   | South                |   897934             |   38                 |\n",
       "| District of Columbia | DC                   | South                |   601723             |   99                 |\n",
       "| Florida              | FL                   | South                | 19687653             |  669                 |\n",
       "| Georgia              | GA                   | South                |  9920000             |  376                 |\n",
       "| Hawaii               | HI                   | West                 |  1360301             |    7                 |\n",
       "| Idaho                | ID                   | West                 |  1567582             |   12                 |\n",
       "| Illinois             | IL                   | North Central        | 12830632             |  364                 |\n",
       "| Indiana              | IN                   | North Central        |  6483802             |  142                 |\n",
       "| Iowa                 | IA                   | North Central        |  3046355             |   21                 |\n",
       "| Kansas               | KS                   | North Central        |  2853118             |   63                 |\n",
       "| Kentucky             | KY                   | South                |  4339367             |  116                 |\n",
       "| Louisiana            | LA                   | South                |  4533372             |  351                 |\n",
       "| Maine                | ME                   | Northeast            |  1328361             |   11                 |\n",
       "| Maryland             | MD                   | South                |  5773552             |  293                 |\n",
       "| Massachusetts        | MA                   | Northeast            |  6547629             |  118                 |\n",
       "| Michigan             | MI                   | North Central        |  9883640             |  413                 |\n",
       "| Minnesota            | MN                   | North Central        |  5303925             |   53                 |\n",
       "| Mississippi          | MS                   | South                |  2967297             |  120                 |\n",
       "| Missouri             | MO                   | North Central        |  5988927             |  321                 |\n",
       "| Montana              | MT                   | West                 |   989415             |   12                 |\n",
       "| Nebraska             | NE                   | North Central        |  1826341             |   32                 |\n",
       "| Nevada               | NV                   | West                 |  2700551             |   84                 |\n",
       "| New Hampshire        | NH                   | Northeast            |  1316470             |    5                 |\n",
       "| New Jersey           | NJ                   | Northeast            |  8791894             |  246                 |\n",
       "| New Mexico           | NM                   | West                 |  2059179             |   67                 |\n",
       "| New York             | NY                   | Northeast            | 19378102             |  517                 |\n",
       "| North Carolina       | NC                   | South                |  9535483             |  286                 |\n",
       "| North Dakota         | ND                   | North Central        |   672591             |    4                 |\n",
       "| Ohio                 | OH                   | North Central        | 11536504             |  310                 |\n",
       "| Oklahoma             | OK                   | South                |  3751351             |  111                 |\n",
       "| Oregon               | OR                   | West                 |  3831074             |   36                 |\n",
       "| Pennsylvania         | PA                   | Northeast            | 12702379             |  457                 |\n",
       "| Rhode Island         | RI                   | Northeast            |  1052567             |   16                 |\n",
       "| South Carolina       | SC                   | South                |  4625364             |  207                 |\n",
       "| South Dakota         | SD                   | North Central        |   814180             |    8                 |\n",
       "| Tennessee            | TN                   | South                |  6346105             |  219                 |\n",
       "| Texas                | TX                   | South                | 25145561             |  805                 |\n",
       "| Utah                 | UT                   | West                 |  2763885             |   22                 |\n",
       "| Vermont              | VT                   | Northeast            |   625741             |    2                 |\n",
       "| Virginia             | VA                   | South                |  8001024             |  250                 |\n",
       "| Washington           | WA                   | West                 |  6724540             |   93                 |\n",
       "| West Virginia        | WV                   | South                |  1852994             |   27                 |\n",
       "| Wisconsin            | WI                   | North Central        |  5686986             |   97                 |\n",
       "| Wyoming              | WY                   | West                 |   563626             |    5                 |\n",
       "\n"
      ],
      "text/plain": [
       "   state                abb region        population total\n",
       "1  Alabama              AL  South          4779736    135 \n",
       "2  Alaska               AK  West            710231     19 \n",
       "3  Arizona              AZ  West           6392017    232 \n",
       "4  Arkansas             AR  South          2915918     93 \n",
       "5  California           CA  West          37253956   1257 \n",
       "6  Colorado             CO  West           5029196     65 \n",
       "7  Connecticut          CT  Northeast      3574097     97 \n",
       "8  Delaware             DE  South           897934     38 \n",
       "9  District of Columbia DC  South           601723     99 \n",
       "10 Florida              FL  South         19687653    669 \n",
       "11 Georgia              GA  South          9920000    376 \n",
       "12 Hawaii               HI  West           1360301      7 \n",
       "13 Idaho                ID  West           1567582     12 \n",
       "14 Illinois             IL  North Central 12830632    364 \n",
       "15 Indiana              IN  North Central  6483802    142 \n",
       "16 Iowa                 IA  North Central  3046355     21 \n",
       "17 Kansas               KS  North Central  2853118     63 \n",
       "18 Kentucky             KY  South          4339367    116 \n",
       "19 Louisiana            LA  South          4533372    351 \n",
       "20 Maine                ME  Northeast      1328361     11 \n",
       "21 Maryland             MD  South          5773552    293 \n",
       "22 Massachusetts        MA  Northeast      6547629    118 \n",
       "23 Michigan             MI  North Central  9883640    413 \n",
       "24 Minnesota            MN  North Central  5303925     53 \n",
       "25 Mississippi          MS  South          2967297    120 \n",
       "26 Missouri             MO  North Central  5988927    321 \n",
       "27 Montana              MT  West            989415     12 \n",
       "28 Nebraska             NE  North Central  1826341     32 \n",
       "29 Nevada               NV  West           2700551     84 \n",
       "30 New Hampshire        NH  Northeast      1316470      5 \n",
       "31 New Jersey           NJ  Northeast      8791894    246 \n",
       "32 New Mexico           NM  West           2059179     67 \n",
       "33 New York             NY  Northeast     19378102    517 \n",
       "34 North Carolina       NC  South          9535483    286 \n",
       "35 North Dakota         ND  North Central   672591      4 \n",
       "36 Ohio                 OH  North Central 11536504    310 \n",
       "37 Oklahoma             OK  South          3751351    111 \n",
       "38 Oregon               OR  West           3831074     36 \n",
       "39 Pennsylvania         PA  Northeast     12702379    457 \n",
       "40 Rhode Island         RI  Northeast      1052567     16 \n",
       "41 South Carolina       SC  South          4625364    207 \n",
       "42 South Dakota         SD  North Central   814180      8 \n",
       "43 Tennessee            TN  South          6346105    219 \n",
       "44 Texas                TX  South         25145561    805 \n",
       "45 Utah                 UT  West           2763885     22 \n",
       "46 Vermont              VT  Northeast       625741      2 \n",
       "47 Virginia             VA  South          8001024    250 \n",
       "48 Washington           WA  West           6724540     93 \n",
       "49 West Virginia        WV  South          1852994     27 \n",
       "50 Wisconsin            WI  North Central  5686986     97 \n",
       "51 Wyoming              WY  West            563626      5 "
      ]
     },
     "metadata": {},
     "output_type": "display_data"
    }
   ],
   "source": [
    "murders"
   ]
  },
  {
   "cell_type": "code",
   "execution_count": 6,
   "id": "friendly-algeria",
   "metadata": {},
   "outputs": [
    {
     "data": {
      "text/plain": [
       "NULL"
      ]
     },
     "metadata": {},
     "output_type": "display_data"
    }
   ],
   "source": [
    "murders$rate"
   ]
  },
  {
   "cell_type": "code",
   "execution_count": 7,
   "id": "former-polyester",
   "metadata": {},
   "outputs": [],
   "source": [
    "murders <- mutate(murders, rate = total/ population * 100000)"
   ]
  },
  {
   "cell_type": "code",
   "execution_count": 8,
   "id": "protective-genome",
   "metadata": {},
   "outputs": [
    {
     "data": {
      "text/html": [
       "<ol class=list-inline>\n",
       "\t<li>2.82442377570644</li>\n",
       "\t<li>2.67518596062408</li>\n",
       "\t<li>3.62952726815339</li>\n",
       "\t<li>3.18939009944724</li>\n",
       "\t<li>3.37413830627813</li>\n",
       "\t<li>1.29245310781286</li>\n",
       "\t<li>2.71397222850975</li>\n",
       "\t<li>4.23193686841126</li>\n",
       "\t<li>16.4527531771264</li>\n",
       "\t<li>3.39806883024604</li>\n",
       "\t<li>3.79032258064516</li>\n",
       "\t<li>0.514591991037278</li>\n",
       "\t<li>0.76551019340615</li>\n",
       "\t<li>2.83696079818983</li>\n",
       "\t<li>2.19007304664763</li>\n",
       "\t<li>0.689348418027446</li>\n",
       "\t<li>2.20811056535341</li>\n",
       "\t<li>2.67320095304223</li>\n",
       "\t<li>7.7425810191619</li>\n",
       "\t<li>0.828088147724903</li>\n",
       "\t<li>5.07486552472378</li>\n",
       "\t<li>1.80217907886962</li>\n",
       "\t<li>4.17862245083795</li>\n",
       "\t<li>0.999259981994466</li>\n",
       "\t<li>4.04408456585236</li>\n",
       "\t<li>5.35989168009562</li>\n",
       "\t<li>1.21283788905565</li>\n",
       "\t<li>1.75213719672285</li>\n",
       "\t<li>3.11047634353138</li>\n",
       "\t<li>0.379803565595874</li>\n",
       "\t<li>2.79803191439751</li>\n",
       "\t<li>3.25372393560735</li>\n",
       "\t<li>2.66795994778023</li>\n",
       "\t<li>2.9993236839707</li>\n",
       "\t<li>0.594715064578622</li>\n",
       "\t<li>2.68712254596366</li>\n",
       "\t<li>2.95893399471284</li>\n",
       "\t<li>0.939684276524024</li>\n",
       "\t<li>3.59775125588679</li>\n",
       "\t<li>1.52009325772136</li>\n",
       "\t<li>4.47532345562425</li>\n",
       "\t<li>0.982583703849272</li>\n",
       "\t<li>3.45093565265624</li>\n",
       "\t<li>3.20136027189849</li>\n",
       "\t<li>0.795981019470781</li>\n",
       "\t<li>0.319621057274495</li>\n",
       "\t<li>3.12460005119345</li>\n",
       "\t<li>1.38299422711442</li>\n",
       "\t<li>1.45710131819099</li>\n",
       "\t<li>1.70564865114843</li>\n",
       "\t<li>0.887113085627704</li>\n",
       "</ol>\n"
      ],
      "text/latex": [
       "\\begin{enumerate*}\n",
       "\\item 2.82442377570644\n",
       "\\item 2.67518596062408\n",
       "\\item 3.62952726815339\n",
       "\\item 3.18939009944724\n",
       "\\item 3.37413830627813\n",
       "\\item 1.29245310781286\n",
       "\\item 2.71397222850975\n",
       "\\item 4.23193686841126\n",
       "\\item 16.4527531771264\n",
       "\\item 3.39806883024604\n",
       "\\item 3.79032258064516\n",
       "\\item 0.514591991037278\n",
       "\\item 0.76551019340615\n",
       "\\item 2.83696079818983\n",
       "\\item 2.19007304664763\n",
       "\\item 0.689348418027446\n",
       "\\item 2.20811056535341\n",
       "\\item 2.67320095304223\n",
       "\\item 7.7425810191619\n",
       "\\item 0.828088147724903\n",
       "\\item 5.07486552472378\n",
       "\\item 1.80217907886962\n",
       "\\item 4.17862245083795\n",
       "\\item 0.999259981994466\n",
       "\\item 4.04408456585236\n",
       "\\item 5.35989168009562\n",
       "\\item 1.21283788905565\n",
       "\\item 1.75213719672285\n",
       "\\item 3.11047634353138\n",
       "\\item 0.379803565595874\n",
       "\\item 2.79803191439751\n",
       "\\item 3.25372393560735\n",
       "\\item 2.66795994778023\n",
       "\\item 2.9993236839707\n",
       "\\item 0.594715064578622\n",
       "\\item 2.68712254596366\n",
       "\\item 2.95893399471284\n",
       "\\item 0.939684276524024\n",
       "\\item 3.59775125588679\n",
       "\\item 1.52009325772136\n",
       "\\item 4.47532345562425\n",
       "\\item 0.982583703849272\n",
       "\\item 3.45093565265624\n",
       "\\item 3.20136027189849\n",
       "\\item 0.795981019470781\n",
       "\\item 0.319621057274495\n",
       "\\item 3.12460005119345\n",
       "\\item 1.38299422711442\n",
       "\\item 1.45710131819099\n",
       "\\item 1.70564865114843\n",
       "\\item 0.887113085627704\n",
       "\\end{enumerate*}\n"
      ],
      "text/markdown": [
       "1. 2.82442377570644\n",
       "2. 2.67518596062408\n",
       "3. 3.62952726815339\n",
       "4. 3.18939009944724\n",
       "5. 3.37413830627813\n",
       "6. 1.29245310781286\n",
       "7. 2.71397222850975\n",
       "8. 4.23193686841126\n",
       "9. 16.4527531771264\n",
       "10. 3.39806883024604\n",
       "11. 3.79032258064516\n",
       "12. 0.514591991037278\n",
       "13. 0.76551019340615\n",
       "14. 2.83696079818983\n",
       "15. 2.19007304664763\n",
       "16. 0.689348418027446\n",
       "17. 2.20811056535341\n",
       "18. 2.67320095304223\n",
       "19. 7.7425810191619\n",
       "20. 0.828088147724903\n",
       "21. 5.07486552472378\n",
       "22. 1.80217907886962\n",
       "23. 4.17862245083795\n",
       "24. 0.999259981994466\n",
       "25. 4.04408456585236\n",
       "26. 5.35989168009562\n",
       "27. 1.21283788905565\n",
       "28. 1.75213719672285\n",
       "29. 3.11047634353138\n",
       "30. 0.379803565595874\n",
       "31. 2.79803191439751\n",
       "32. 3.25372393560735\n",
       "33. 2.66795994778023\n",
       "34. 2.9993236839707\n",
       "35. 0.594715064578622\n",
       "36. 2.68712254596366\n",
       "37. 2.95893399471284\n",
       "38. 0.939684276524024\n",
       "39. 3.59775125588679\n",
       "40. 1.52009325772136\n",
       "41. 4.47532345562425\n",
       "42. 0.982583703849272\n",
       "43. 3.45093565265624\n",
       "44. 3.20136027189849\n",
       "45. 0.795981019470781\n",
       "46. 0.319621057274495\n",
       "47. 3.12460005119345\n",
       "48. 1.38299422711442\n",
       "49. 1.45710131819099\n",
       "50. 1.70564865114843\n",
       "51. 0.887113085627704\n",
       "\n",
       "\n"
      ],
      "text/plain": [
       " [1]  2.8244238  2.6751860  3.6295273  3.1893901  3.3741383  1.2924531\n",
       " [7]  2.7139722  4.2319369 16.4527532  3.3980688  3.7903226  0.5145920\n",
       "[13]  0.7655102  2.8369608  2.1900730  0.6893484  2.2081106  2.6732010\n",
       "[19]  7.7425810  0.8280881  5.0748655  1.8021791  4.1786225  0.9992600\n",
       "[25]  4.0440846  5.3598917  1.2128379  1.7521372  3.1104763  0.3798036\n",
       "[31]  2.7980319  3.2537239  2.6679599  2.9993237  0.5947151  2.6871225\n",
       "[37]  2.9589340  0.9396843  3.5977513  1.5200933  4.4753235  0.9825837\n",
       "[43]  3.4509357  3.2013603  0.7959810  0.3196211  3.1246001  1.3829942\n",
       "[49]  1.4571013  1.7056487  0.8871131"
      ]
     },
     "metadata": {},
     "output_type": "display_data"
    }
   ],
   "source": [
    "murders$rate"
   ]
  },
  {
   "cell_type": "code",
   "execution_count": 9,
   "id": "proud-southwest",
   "metadata": {},
   "outputs": [
    {
     "data": {
      "image/png": "[encoded data removed]",
      "text/plain": [
       "Plot with title “Histogram of murders$rate”"
      ]
     },
     "metadata": {},
     "output_type": "display_data"
    }
   ],
   "source": [
    "hist(murders$rate)"
   ]
  },
  {
   "cell_type": "code",
   "execution_count": 10,
   "id": "dressed-nigeria",
   "metadata": {},
   "outputs": [
    {
     "data": {
      "text/html": [
       "'District of Columbia'"
      ],
      "text/latex": [
       "'District of Columbia'"
      ],
      "text/markdown": [
       "'District of Columbia'"
      ],
      "text/plain": [
       "[1] \"District of Columbia\""
      ]
     },
     "metadata": {},
     "output_type": "display_data"
    }
   ],
   "source": [
    "murders$state[which.max(murders$rate)]"
   ]
  },
  {
   "cell_type": "code",
   "execution_count": 12,
   "id": "accurate-japanese",
   "metadata": {},
   "outputs": [
    {
     "data": {
      "image/png": "[encoded data removed]",
      "text/plain": [
       "plot without title"
      ]
     },
     "metadata": {},
     "output_type": "display_data"
    }
   ],
   "source": [
    "boxplot(rate~region, data = murders)"
   ]
  },
  {
   "cell_type": "code",
   "execution_count": 13,
   "id": "collective-appeal",
   "metadata": {},
   "outputs": [],
   "source": [
    "library(dslabs)"
   ]
  },
  {
   "cell_type": "code",
   "execution_count": 14,
   "id": "statewide-trinidad",
   "metadata": {},
   "outputs": [],
   "source": [
    "data(heights)"
   ]
  },
  {
   "cell_type": "code",
   "execution_count": 15,
   "id": "imperial-democracy",
   "metadata": {},
   "outputs": [],
   "source": [
    "options(digits = 3)"
   ]
  },
  {
   "cell_type": "code",
   "execution_count": 29,
   "id": "artificial-genesis",
   "metadata": {},
   "outputs": [],
   "source": [
    "height <- heights$height"
   ]
  },
  {
   "cell_type": "code",
   "execution_count": 37,
   "id": "naughty-error",
   "metadata": {},
   "outputs": [],
   "source": [
    "mean <- mean(heights$height)"
   ]
  },
  {
   "cell_type": "code",
   "execution_count": 38,
   "id": "swedish-updating",
   "metadata": {},
   "outputs": [],
   "source": [
    "ind <- heights$height > mean"
   ]
  },
  {
   "cell_type": "code",
   "execution_count": 40,
   "id": "acting-sauce",
   "metadata": {},
   "outputs": [
    {
     "data": {
      "text/html": [
       "532"
      ],
      "text/latex": [
       "532"
      ],
      "text/markdown": [
       "532"
      ],
      "text/plain": [
       "[1] 532"
      ]
     },
     "metadata": {},
     "output_type": "display_data"
    }
   ],
   "source": [
    "sum(ind)"
   ]
  },
  {
   "cell_type": "code",
   "execution_count": 47,
   "id": "equivalent-massachusetts",
   "metadata": {},
   "outputs": [
    {
     "data": {
      "text/html": [
       "31"
      ],
      "text/latex": [
       "31"
      ],
      "text/markdown": [
       "31"
      ],
      "text/plain": [
       "[1] 31"
      ]
     },
     "metadata": {},
     "output_type": "display_data"
    }
   ],
   "source": [
    "sum(heights$height > mean & heights$sex == \"Female\")"
   ]
  },
  {
   "cell_type": "code",
   "execution_count": 42,
   "id": "understood-picture",
   "metadata": {},
   "outputs": [
    {
     "data": {
      "text/html": [
       "<ol class=list-inline>\n",
       "\t<li>'sex'</li>\n",
       "\t<li>'height'</li>\n",
       "</ol>\n"
      ],
      "text/latex": [
       "\\begin{enumerate*}\n",
       "\\item 'sex'\n",
       "\\item 'height'\n",
       "\\end{enumerate*}\n"
      ],
      "text/markdown": [
       "1. 'sex'\n",
       "2. 'height'\n",
       "\n",
       "\n"
      ],
      "text/plain": [
       "[1] \"sex\"    \"height\""
      ]
     },
     "metadata": {},
     "output_type": "display_data"
    }
   ],
   "source": [
    "names(heights)"
   ]
  },
  {
   "cell_type": "code",
   "execution_count": 50,
   "id": "interstate-bryan",
   "metadata": {},
   "outputs": [
    {
     "data": {
      "text/html": [
       "1050"
      ],
      "text/latex": [
       "1050"
      ],
      "text/markdown": [
       "1050"
      ],
      "text/plain": [
       "[1] 1050"
      ]
     },
     "metadata": {},
     "output_type": "display_data"
    }
   ],
   "source": [
    "nrow(heights)"
   ]
  },
  {
   "cell_type": "code",
   "execution_count": 51,
   "id": "abandoned-example",
   "metadata": {},
   "outputs": [
    {
     "data": {
      "text/html": [
       "0.226666666666667"
      ],
      "text/latex": [
       "0.226666666666667"
      ],
      "text/markdown": [
       "0.226666666666667"
      ],
      "text/plain": [
       "[1] 0.227"
      ]
     },
     "metadata": {},
     "output_type": "display_data"
    }
   ],
   "source": [
    "238/1050"
   ]
  },
  {
   "cell_type": "code",
   "execution_count": 52,
   "id": "rental-bolivia",
   "metadata": {},
   "outputs": [
    {
     "data": {
      "text/html": [
       "50"
      ],
      "text/latex": [
       "50"
      ],
      "text/markdown": [
       "50"
      ],
      "text/plain": [
       "[1] 50"
      ]
     },
     "metadata": {},
     "output_type": "display_data"
    }
   ],
   "source": [
    "min(heights$height)"
   ]
  },
  {
   "cell_type": "code",
   "execution_count": 55,
   "id": "administrative-picking",
   "metadata": {},
   "outputs": [
    {
     "data": {
      "text/html": [
       "1032"
      ],
      "text/latex": [
       "1032"
      ],
      "text/markdown": [
       "1032"
      ],
      "text/plain": [
       "[1] 1032"
      ]
     },
     "metadata": {},
     "output_type": "display_data"
    }
   ],
   "source": [
    "match(50, heights$height)"
   ]
  },
  {
   "cell_type": "code",
   "execution_count": 54,
   "id": "facial-journal",
   "metadata": {},
   "outputs": [
    {
     "data": {
      "text/html": [
       "<pre class=language-r><code>function (x, table, nomatch = NA_integer_, incomparables = NULL) \n",
       ".Internal(match(x, table, nomatch, incomparables))</code></pre>"
      ],
      "text/latex": [
       "\\begin{minted}{r}\n",
       "function (x, table, nomatch = NA\\_integer\\_, incomparables = NULL) \n",
       ".Internal(match(x, table, nomatch, incomparables))\n",
       "\\end{minted}"
      ],
      "text/markdown": [
       "```r\n",
       "function (x, table, nomatch = NA_integer_, incomparables = NULL) \n",
       ".Internal(match(x, table, nomatch, incomparables))\n",
       "```"
      ],
      "text/plain": [
       "function (x, table, nomatch = NA_integer_, incomparables = NULL) \n",
       ".Internal(match(x, table, nomatch, incomparables))\n",
       "<bytecode: 0x564337a598c0>\n",
       "<environment: namespace:base>"
      ]
     },
     "metadata": {},
     "output_type": "display_data"
    }
   ],
   "source": [
    "match"
   ]
  },
  {
   "cell_type": "code",
   "execution_count": 63,
   "id": "reported-being",
   "metadata": {},
   "outputs": [
    {
     "data": {
      "text/html": [
       "Male\n",
       "<details>\n",
       "\t<summary style=display:list-item;cursor:pointer>\n",
       "\t\t<strong>Levels</strong>:\n",
       "\t</summary>\n",
       "\t<ol class=list-inline>\n",
       "\t\t<li>'Female'</li>\n",
       "\t\t<li>'Male'</li>\n",
       "\t</ol>\n",
       "</details>"
      ],
      "text/latex": [
       "Male\n",
       "\\emph{Levels}: \\begin{enumerate*}\n",
       "\\item 'Female'\n",
       "\\item 'Male'\n",
       "\\end{enumerate*}\n"
      ],
      "text/markdown": [
       "Male\n",
       "**Levels**: 1. 'Female'\n",
       "2. 'Male'\n",
       "\n",
       "\n"
      ],
      "text/plain": [
       "[1] Male\n",
       "Levels: Female Male"
      ]
     },
     "metadata": {},
     "output_type": "display_data"
    }
   ],
   "source": [
    "heights$sex[1032]"
   ]
  },
  {
   "cell_type": "code",
   "execution_count": 64,
   "id": "departmental-rouge",
   "metadata": {},
   "outputs": [
    {
     "data": {
      "text/html": [
       "82.6771653543307"
      ],
      "text/latex": [
       "82.6771653543307"
      ],
      "text/markdown": [
       "82.6771653543307"
      ],
      "text/plain": [
       "[1] 82.7"
      ]
     },
     "metadata": {},
     "output_type": "display_data"
    }
   ],
   "source": [
    "max(heights$height)"
   ]
  },
  {
   "cell_type": "code",
   "execution_count": 65,
   "id": "exposed-testing",
   "metadata": {},
   "outputs": [],
   "source": [
    "x <- min(heights$height):max(heights$height)"
   ]
  },
  {
   "cell_type": "code",
   "execution_count": 68,
   "id": "announced-clause",
   "metadata": {},
   "outputs": [
    {
     "data": {
      "text/html": [
       "50"
      ],
      "text/latex": [
       "50"
      ],
      "text/markdown": [
       "50"
      ],
      "text/plain": [
       "[1] 50"
      ]
     },
     "metadata": {},
     "output_type": "display_data"
    }
   ],
   "source": [
    "min(heights$height)"
   ]
  },
  {
   "cell_type": "code",
   "execution_count": 71,
   "id": "spoken-stereo",
   "metadata": {},
   "outputs": [
    {
     "data": {
      "text/html": [
       "30"
      ],
      "text/latex": [
       "30"
      ],
      "text/markdown": [
       "30"
      ],
      "text/plain": [
       "[1] 30"
      ]
     },
     "metadata": {},
     "output_type": "display_data"
    }
   ],
   "source": [
    "sum(x %in% heights$height)"
   ]
  },
  {
   "cell_type": "code",
   "execution_count": 75,
   "id": "olive-america",
   "metadata": {},
   "outputs": [
    {
     "data": {
      "text/html": [
       "33"
      ],
      "text/latex": [
       "33"
      ],
      "text/markdown": [
       "33"
      ],
      "text/plain": [
       "[1] 33"
      ]
     },
     "metadata": {},
     "output_type": "display_data"
    }
   ],
   "source": [
    "length(x)"
   ]
  },
  {
   "cell_type": "code",
   "execution_count": 76,
   "id": "tutorial-tenant",
   "metadata": {},
   "outputs": [],
   "source": [
    "heights <- mutate(heights,ht_cm = height * 2.54)"
   ]
  },
  {
   "cell_type": "code",
   "execution_count": 79,
   "id": "acknowledged-inflation",
   "metadata": {},
   "outputs": [
    {
     "data": {
      "text/html": [
       "173.540453828202"
      ],
      "text/latex": [
       "173.540453828202"
      ],
      "text/markdown": [
       "173.540453828202"
      ],
      "text/plain": [
       "[1] 174"
      ]
     },
     "metadata": {},
     "output_type": "display_data"
    }
   ],
   "source": [
    "mean(heights$ht_cm)"
   ]
  },
  {
   "cell_type": "code",
   "execution_count": 80,
   "id": "banner-fifteen",
   "metadata": {},
   "outputs": [],
   "source": [
    "females <- filter(heights, sex == \"Female\")"
   ]
  },
  {
   "cell_type": "code",
   "execution_count": 89,
   "id": "paperback-connection",
   "metadata": {},
   "outputs": [
    {
     "data": {
      "text/html": [
       "164.946137596639"
      ],
      "text/latex": [
       "164.946137596639"
      ],
      "text/markdown": [
       "164.946137596639"
      ],
      "text/plain": [
       "[1] 165"
      ]
     },
     "metadata": {},
     "output_type": "display_data"
    }
   ],
   "source": [
    "mean(females$ht_cm)"
   ]
  },
  {
   "cell_type": "code",
   "execution_count": 88,
   "id": "manufactured-fantasy",
   "metadata": {},
   "outputs": [
    {
     "data": {
      "text/html": [
       "<ol class=list-inline>\n",
       "\t<li>'sex'</li>\n",
       "\t<li>'height'</li>\n",
       "\t<li>'ht_cm'</li>\n",
       "</ol>\n"
      ],
      "text/latex": [
       "\\begin{enumerate*}\n",
       "\\item 'sex'\n",
       "\\item 'height'\n",
       "\\item 'ht\\_cm'\n",
       "\\end{enumerate*}\n"
      ],
      "text/markdown": [
       "1. 'sex'\n",
       "2. 'height'\n",
       "3. 'ht_cm'\n",
       "\n",
       "\n"
      ],
      "text/plain": [
       "[1] \"sex\"    \"height\" \"ht_cm\" "
      ]
     },
     "metadata": {},
     "output_type": "display_data"
    }
   ],
   "source": [
    "names(females)"
   ]
  },
  {
   "cell_type": "code",
   "execution_count": 90,
   "id": "crucial-vertex",
   "metadata": {},
   "outputs": [],
   "source": [
    "library(dslabs)"
   ]
  },
  {
   "cell_type": "code",
   "execution_count": 91,
   "id": "through-roberts",
   "metadata": {},
   "outputs": [],
   "source": [
    "data(olive)"
   ]
  },
  {
   "cell_type": "code",
   "execution_count": 92,
   "id": "split-economics",
   "metadata": {},
   "outputs": [
    {
     "data": {
      "text/html": [
       "<table>\n",
       "<thead><tr><th scope=col>region</th><th scope=col>area</th><th scope=col>palmitic</th><th scope=col>palmitoleic</th><th scope=col>stearic</th><th scope=col>oleic</th><th scope=col>linoleic</th><th scope=col>linolenic</th><th scope=col>arachidic</th><th scope=col>eicosenoic</th></tr></thead>\n",
       "<tbody>\n",
       "\t<tr><td>Southern Italy</td><td>North-Apulia  </td><td>10.75         </td><td>0.75          </td><td>2.26          </td><td>78.2          </td><td>6.72          </td><td>0.36          </td><td>0.60          </td><td>0.29          </td></tr>\n",
       "\t<tr><td>Southern Italy</td><td>North-Apulia  </td><td>10.88         </td><td>0.73          </td><td>2.24          </td><td>77.1          </td><td>7.81          </td><td>0.31          </td><td>0.61          </td><td>0.29          </td></tr>\n",
       "\t<tr><td>Southern Italy</td><td>North-Apulia  </td><td> 9.11         </td><td>0.54          </td><td>2.46          </td><td>81.1          </td><td>5.49          </td><td>0.31          </td><td>0.63          </td><td>0.29          </td></tr>\n",
       "\t<tr><td>Southern Italy</td><td>North-Apulia  </td><td> 9.66         </td><td>0.57          </td><td>2.40          </td><td>79.5          </td><td>6.19          </td><td>0.50          </td><td>0.78          </td><td>0.35          </td></tr>\n",
       "\t<tr><td>Southern Italy</td><td>North-Apulia  </td><td>10.51         </td><td>0.67          </td><td>2.59          </td><td>77.7          </td><td>6.72          </td><td>0.50          </td><td>0.80          </td><td>0.46          </td></tr>\n",
       "\t<tr><td>Southern Italy</td><td>North-Apulia  </td><td> 9.11         </td><td>0.49          </td><td>2.68          </td><td>79.2          </td><td>6.78          </td><td>0.51          </td><td>0.70          </td><td>0.44          </td></tr>\n",
       "</tbody>\n",
       "</table>\n"
      ],
      "text/latex": [
       "\\begin{tabular}{r|llllllllll}\n",
       " region & area & palmitic & palmitoleic & stearic & oleic & linoleic & linolenic & arachidic & eicosenoic\\\\\n",
       "\\hline\n",
       "\t Southern Italy & North-Apulia   & 10.75          & 0.75           & 2.26           & 78.2           & 6.72           & 0.36           & 0.60           & 0.29          \\\\\n",
       "\t Southern Italy & North-Apulia   & 10.88          & 0.73           & 2.24           & 77.1           & 7.81           & 0.31           & 0.61           & 0.29          \\\\\n",
       "\t Southern Italy & North-Apulia   &  9.11          & 0.54           & 2.46           & 81.1           & 5.49           & 0.31           & 0.63           & 0.29          \\\\\n",
       "\t Southern Italy & North-Apulia   &  9.66          & 0.57           & 2.40           & 79.5           & 6.19           & 0.50           & 0.78           & 0.35          \\\\\n",
       "\t Southern Italy & North-Apulia   & 10.51          & 0.67           & 2.59           & 77.7           & 6.72           & 0.50           & 0.80           & 0.46          \\\\\n",
       "\t Southern Italy & North-Apulia   &  9.11          & 0.49           & 2.68           & 79.2           & 6.78           & 0.51           & 0.70           & 0.44          \\\\\n",
       "\\end{tabular}\n"
      ],
      "text/markdown": [
       "\n",
       "| region | area | palmitic | palmitoleic | stearic | oleic | linoleic | linolenic | arachidic | eicosenoic |\n",
       "|---|---|---|---|---|---|---|---|---|---|\n",
       "| Southern Italy | North-Apulia   | 10.75          | 0.75           | 2.26           | 78.2           | 6.72           | 0.36           | 0.60           | 0.29           |\n",
       "| Southern Italy | North-Apulia   | 10.88          | 0.73           | 2.24           | 77.1           | 7.81           | 0.31           | 0.61           | 0.29           |\n",
       "| Southern Italy | North-Apulia   |  9.11          | 0.54           | 2.46           | 81.1           | 5.49           | 0.31           | 0.63           | 0.29           |\n",
       "| Southern Italy | North-Apulia   |  9.66          | 0.57           | 2.40           | 79.5           | 6.19           | 0.50           | 0.78           | 0.35           |\n",
       "| Southern Italy | North-Apulia   | 10.51          | 0.67           | 2.59           | 77.7           | 6.72           | 0.50           | 0.80           | 0.46           |\n",
       "| Southern Italy | North-Apulia   |  9.11          | 0.49           | 2.68           | 79.2           | 6.78           | 0.51           | 0.70           | 0.44           |\n",
       "\n"
      ],
      "text/plain": [
       "  region         area         palmitic palmitoleic stearic oleic linoleic\n",
       "1 Southern Italy North-Apulia 10.75    0.75        2.26    78.2  6.72    \n",
       "2 Southern Italy North-Apulia 10.88    0.73        2.24    77.1  7.81    \n",
       "3 Southern Italy North-Apulia  9.11    0.54        2.46    81.1  5.49    \n",
       "4 Southern Italy North-Apulia  9.66    0.57        2.40    79.5  6.19    \n",
       "5 Southern Italy North-Apulia 10.51    0.67        2.59    77.7  6.72    \n",
       "6 Southern Italy North-Apulia  9.11    0.49        2.68    79.2  6.78    \n",
       "  linolenic arachidic eicosenoic\n",
       "1 0.36      0.60      0.29      \n",
       "2 0.31      0.61      0.29      \n",
       "3 0.31      0.63      0.29      \n",
       "4 0.50      0.78      0.35      \n",
       "5 0.50      0.80      0.46      \n",
       "6 0.51      0.70      0.44      "
      ]
     },
     "metadata": {},
     "output_type": "display_data"
    }
   ],
   "source": [
    "head(olive)"
   ]
  },
  {
   "cell_type": "code",
   "execution_count": 96,
   "id": "adopted-representative",
   "metadata": {},
   "outputs": [
    {
     "data": {
      "image/png": "[encoded data removed]",
      "text/plain": [
       "plot without title"
      ]
     },
     "metadata": {},
     "output_type": "display_data"
    }
   ],
   "source": [
    "plot(olive$palmitic,olive$palmitoleic)"
   ]
  },
  {
   "cell_type": "code",
   "execution_count": 97,
   "id": "front-billy",
   "metadata": {},
   "outputs": [
    {
     "data": {
      "text/html": [
       "<ol class=list-inline>\n",
       "\t<li>'region'</li>\n",
       "\t<li>'area'</li>\n",
       "\t<li>'palmitic'</li>\n",
       "\t<li>'palmitoleic'</li>\n",
       "\t<li>'stearic'</li>\n",
       "\t<li>'oleic'</li>\n",
       "\t<li>'linoleic'</li>\n",
       "\t<li>'linolenic'</li>\n",
       "\t<li>'arachidic'</li>\n",
       "\t<li>'eicosenoic'</li>\n",
       "</ol>\n"
      ],
      "text/latex": [
       "\\begin{enumerate*}\n",
       "\\item 'region'\n",
       "\\item 'area'\n",
       "\\item 'palmitic'\n",
       "\\item 'palmitoleic'\n",
       "\\item 'stearic'\n",
       "\\item 'oleic'\n",
       "\\item 'linoleic'\n",
       "\\item 'linolenic'\n",
       "\\item 'arachidic'\n",
       "\\item 'eicosenoic'\n",
       "\\end{enumerate*}\n"
      ],
      "text/markdown": [
       "1. 'region'\n",
       "2. 'area'\n",
       "3. 'palmitic'\n",
       "4. 'palmitoleic'\n",
       "5. 'stearic'\n",
       "6. 'oleic'\n",
       "7. 'linoleic'\n",
       "8. 'linolenic'\n",
       "9. 'arachidic'\n",
       "10. 'eicosenoic'\n",
       "\n",
       "\n"
      ],
      "text/plain": [
       " [1] \"region\"      \"area\"        \"palmitic\"    \"palmitoleic\" \"stearic\"    \n",
       " [6] \"oleic\"       \"linoleic\"    \"linolenic\"   \"arachidic\"   \"eicosenoic\" "
      ]
     },
     "metadata": {},
     "output_type": "display_data"
    }
   ],
   "source": [
    "names(olive)"
   ]
  },
  {
   "cell_type": "code",
   "execution_count": 100,
   "id": "classified-contamination",
   "metadata": {},
   "outputs": [
    {
     "data": {
      "image/png": "[encoded data removed]",
      "text/plain": [
       "Plot with title “Histogram of olive$eicosenoic”"
      ]
     },
     "metadata": {},
     "output_type": "display_data"
    }
   ],
   "source": [
    "hist(olive$eicosenoic,freq=FALSE)"
   ]
  },
  {
   "cell_type": "code",
   "execution_count": 104,
   "id": "backed-wallace",
   "metadata": {},
   "outputs": [
    {
     "data": {
      "image/png": "[encoded data removed]",
      "text/plain": [
       "plot without title"
      ]
     },
     "metadata": {},
     "output_type": "display_data"
    }
   ],
   "source": [
    "boxplot(palmitic~region,data = olive)"
   ]
  },
  {
   "cell_type": "code",
   "execution_count": 102,
   "id": "smaller-blowing",
   "metadata": {},
   "outputs": [
    {
     "data": {
      "text/html": [
       "<ol class=list-inline>\n",
       "\t<li>'region'</li>\n",
       "\t<li>'area'</li>\n",
       "\t<li>'palmitic'</li>\n",
       "\t<li>'palmitoleic'</li>\n",
       "\t<li>'stearic'</li>\n",
       "\t<li>'oleic'</li>\n",
       "\t<li>'linoleic'</li>\n",
       "\t<li>'linolenic'</li>\n",
       "\t<li>'arachidic'</li>\n",
       "\t<li>'eicosenoic'</li>\n",
       "</ol>\n"
      ],
      "text/latex": [
       "\\begin{enumerate*}\n",
       "\\item 'region'\n",
       "\\item 'area'\n",
       "\\item 'palmitic'\n",
       "\\item 'palmitoleic'\n",
       "\\item 'stearic'\n",
       "\\item 'oleic'\n",
       "\\item 'linoleic'\n",
       "\\item 'linolenic'\n",
       "\\item 'arachidic'\n",
       "\\item 'eicosenoic'\n",
       "\\end{enumerate*}\n"
      ],
      "text/markdown": [
       "1. 'region'\n",
       "2. 'area'\n",
       "3. 'palmitic'\n",
       "4. 'palmitoleic'\n",
       "5. 'stearic'\n",
       "6. 'oleic'\n",
       "7. 'linoleic'\n",
       "8. 'linolenic'\n",
       "9. 'arachidic'\n",
       "10. 'eicosenoic'\n",
       "\n",
       "\n"
      ],
      "text/plain": [
       " [1] \"region\"      \"area\"        \"palmitic\"    \"palmitoleic\" \"stearic\"    \n",
       " [6] \"oleic\"       \"linoleic\"    \"linolenic\"   \"arachidic\"   \"eicosenoic\" "
      ]
     },
     "metadata": {},
     "output_type": "display_data"
    }
   ],
   "source": [
    "names(olive)"
   ]
  },
  {
   "cell_type": "code",
   "execution_count": null,
   "id": "whole-explorer",
   "metadata": {},
   "outputs": [],
   "source": []
  }
 ],
 "metadata": {
  "kernelspec": {
   "display_name": "R",
   "language": "R",
   "name": "ir"
  },
  "language_info": {
   "codemirror_mode": "r",
   "file_extension": ".r",
   "mimetype": "text/x-r-source",
   "name": "R",
   "pygments_lexer": "r",
   "version": "3.6.1"
  }
 },
 "nbformat": 4,
 "nbformat_minor": 5
}
