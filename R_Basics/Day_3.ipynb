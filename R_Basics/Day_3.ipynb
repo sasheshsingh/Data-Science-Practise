{
 "cells": [
  {
   "cell_type": "markdown",
   "id": "declared-rubber",
   "metadata": {},
   "source": [
    "# DataFrames"
   ]
  },
  {
   "cell_type": "code",
   "execution_count": 3,
   "id": "further-officer",
   "metadata": {},
   "outputs": [
    {
     "name": "stderr",
     "output_type": "stream",
     "text": [
      "Updating HTML index of packages in '.Library'\n",
      "Making 'packages.html' ... done\n"
     ]
    }
   ],
   "source": [
    "install.packages(\"dslabs\")"
   ]
  },
  {
   "cell_type": "code",
   "execution_count": 4,
   "id": "super-earth",
   "metadata": {},
   "outputs": [],
   "source": [
    "library(dslabs)"
   ]
  },
  {
   "cell_type": "code",
   "execution_count": 5,
   "id": "going-carnival",
   "metadata": {},
   "outputs": [],
   "source": [
    "data(\"murders\")"
   ]
  },
  {
   "cell_type": "code",
   "execution_count": 6,
   "id": "above-plymouth",
   "metadata": {},
   "outputs": [
    {
     "data": {
      "text/html": [
       "'data.frame'"
      ],
      "text/latex": [
       "'data.frame'"
      ],
      "text/markdown": [
       "'data.frame'"
      ],
      "text/plain": [
       "[1] \"data.frame\""
      ]
     },
     "metadata": {},
     "output_type": "display_data"
    }
   ],
   "source": [
    "class(murders)"
   ]
  },
  {
   "cell_type": "code",
   "execution_count": 7,
   "id": "julian-highlight",
   "metadata": {},
   "outputs": [
    {
     "data": {
      "text/html": [
       "<table>\n",
       "<thead><tr><th scope=col>state</th><th scope=col>abb</th><th scope=col>region</th><th scope=col>population</th><th scope=col>total</th></tr></thead>\n",
       "<tbody>\n",
       "\t<tr><td>Alabama   </td><td>AL        </td><td>South     </td><td> 4779736  </td><td> 135      </td></tr>\n",
       "\t<tr><td>Alaska    </td><td>AK        </td><td>West      </td><td>  710231  </td><td>  19      </td></tr>\n",
       "\t<tr><td>Arizona   </td><td>AZ        </td><td>West      </td><td> 6392017  </td><td> 232      </td></tr>\n",
       "\t<tr><td>Arkansas  </td><td>AR        </td><td>South     </td><td> 2915918  </td><td>  93      </td></tr>\n",
       "\t<tr><td>California</td><td>CA        </td><td>West      </td><td>37253956  </td><td>1257      </td></tr>\n",
       "\t<tr><td>Colorado  </td><td>CO        </td><td>West      </td><td> 5029196  </td><td>  65      </td></tr>\n",
       "</tbody>\n",
       "</table>\n"
      ],
      "text/latex": [
       "\\begin{tabular}{r|lllll}\n",
       " state & abb & region & population & total\\\\\n",
       "\\hline\n",
       "\t Alabama    & AL         & South      &  4779736   &  135      \\\\\n",
       "\t Alaska     & AK         & West       &   710231   &   19      \\\\\n",
       "\t Arizona    & AZ         & West       &  6392017   &  232      \\\\\n",
       "\t Arkansas   & AR         & South      &  2915918   &   93      \\\\\n",
       "\t California & CA         & West       & 37253956   & 1257      \\\\\n",
       "\t Colorado   & CO         & West       &  5029196   &   65      \\\\\n",
       "\\end{tabular}\n"
      ],
      "text/markdown": [
       "\n",
       "| state | abb | region | population | total |\n",
       "|---|---|---|---|---|\n",
       "| Alabama    | AL         | South      |  4779736   |  135       |\n",
       "| Alaska     | AK         | West       |   710231   |   19       |\n",
       "| Arizona    | AZ         | West       |  6392017   |  232       |\n",
       "| Arkansas   | AR         | South      |  2915918   |   93       |\n",
       "| California | CA         | West       | 37253956   | 1257       |\n",
       "| Colorado   | CO         | West       |  5029196   |   65       |\n",
       "\n"
      ],
      "text/plain": [
       "  state      abb region population total\n",
       "1 Alabama    AL  South   4779736    135 \n",
       "2 Alaska     AK  West     710231     19 \n",
       "3 Arizona    AZ  West    6392017    232 \n",
       "4 Arkansas   AR  South   2915918     93 \n",
       "5 California CA  West   37253956   1257 \n",
       "6 Colorado   CO  West    5029196     65 "
      ]
     },
     "metadata": {},
     "output_type": "display_data"
    }
   ],
   "source": [
    "head(murders)"
   ]
  },
  {
   "cell_type": "code",
   "execution_count": 8,
   "id": "minute-murder",
   "metadata": {},
   "outputs": [
    {
     "name": "stdout",
     "output_type": "stream",
     "text": [
      "'data.frame':\t51 obs. of  5 variables:\n",
      " $ state     : chr  \"Alabama\" \"Alaska\" \"Arizona\" \"Arkansas\" ...\n",
      " $ abb       : chr  \"AL\" \"AK\" \"AZ\" \"AR\" ...\n",
      " $ region    : Factor w/ 4 levels \"Northeast\",\"South\",..: 2 4 4 2 4 4 1 2 2 2 ...\n",
      " $ population: num  4779736 710231 6392017 2915918 37253956 ...\n",
      " $ total     : num  135 19 232 93 1257 ...\n"
     ]
    }
   ],
   "source": [
    "str(murders)"
   ]
  },
  {
   "cell_type": "code",
   "execution_count": 9,
   "id": "internal-auction",
   "metadata": {},
   "outputs": [
    {
     "data": {
      "text/html": [
       "<ol class=list-inline>\n",
       "\t<li>'state'</li>\n",
       "\t<li>'abb'</li>\n",
       "\t<li>'region'</li>\n",
       "\t<li>'population'</li>\n",
       "\t<li>'total'</li>\n",
       "</ol>\n"
      ],
      "text/latex": [
       "\\begin{enumerate*}\n",
       "\\item 'state'\n",
       "\\item 'abb'\n",
       "\\item 'region'\n",
       "\\item 'population'\n",
       "\\item 'total'\n",
       "\\end{enumerate*}\n"
      ],
      "text/markdown": [
       "1. 'state'\n",
       "2. 'abb'\n",
       "3. 'region'\n",
       "4. 'population'\n",
       "5. 'total'\n",
       "\n",
       "\n"
      ],
      "text/plain": [
       "[1] \"state\"      \"abb\"        \"region\"     \"population\" \"total\"     "
      ]
     },
     "metadata": {},
     "output_type": "display_data"
    }
   ],
   "source": [
    "names(murders)"
   ]
  },
  {
   "cell_type": "code",
   "execution_count": 10,
   "id": "affected-vector",
   "metadata": {},
   "outputs": [
    {
     "data": {
      "text/html": [
       "<ol class=list-inline>\n",
       "\t<li>4779736</li>\n",
       "\t<li>710231</li>\n",
       "\t<li>6392017</li>\n",
       "\t<li>2915918</li>\n",
       "\t<li>37253956</li>\n",
       "\t<li>5029196</li>\n",
       "\t<li>3574097</li>\n",
       "\t<li>897934</li>\n",
       "\t<li>601723</li>\n",
       "\t<li>19687653</li>\n",
       "\t<li>9920000</li>\n",
       "\t<li>1360301</li>\n",
       "\t<li>1567582</li>\n",
       "\t<li>12830632</li>\n",
       "\t<li>6483802</li>\n",
       "\t<li>3046355</li>\n",
       "\t<li>2853118</li>\n",
       "\t<li>4339367</li>\n",
       "\t<li>4533372</li>\n",
       "\t<li>1328361</li>\n",
       "\t<li>5773552</li>\n",
       "\t<li>6547629</li>\n",
       "\t<li>9883640</li>\n",
       "\t<li>5303925</li>\n",
       "\t<li>2967297</li>\n",
       "\t<li>5988927</li>\n",
       "\t<li>989415</li>\n",
       "\t<li>1826341</li>\n",
       "\t<li>2700551</li>\n",
       "\t<li>1316470</li>\n",
       "\t<li>8791894</li>\n",
       "\t<li>2059179</li>\n",
       "\t<li>19378102</li>\n",
       "\t<li>9535483</li>\n",
       "\t<li>672591</li>\n",
       "\t<li>11536504</li>\n",
       "\t<li>3751351</li>\n",
       "\t<li>3831074</li>\n",
       "\t<li>12702379</li>\n",
       "\t<li>1052567</li>\n",
       "\t<li>4625364</li>\n",
       "\t<li>814180</li>\n",
       "\t<li>6346105</li>\n",
       "\t<li>25145561</li>\n",
       "\t<li>2763885</li>\n",
       "\t<li>625741</li>\n",
       "\t<li>8001024</li>\n",
       "\t<li>6724540</li>\n",
       "\t<li>1852994</li>\n",
       "\t<li>5686986</li>\n",
       "\t<li>563626</li>\n",
       "</ol>\n"
      ],
      "text/latex": [
       "\\begin{enumerate*}\n",
       "\\item 4779736\n",
       "\\item 710231\n",
       "\\item 6392017\n",
       "\\item 2915918\n",
       "\\item 37253956\n",
       "\\item 5029196\n",
       "\\item 3574097\n",
       "\\item 897934\n",
       "\\item 601723\n",
       "\\item 19687653\n",
       "\\item 9920000\n",
       "\\item 1360301\n",
       "\\item 1567582\n",
       "\\item 12830632\n",
       "\\item 6483802\n",
       "\\item 3046355\n",
       "\\item 2853118\n",
       "\\item 4339367\n",
       "\\item 4533372\n",
       "\\item 1328361\n",
       "\\item 5773552\n",
       "\\item 6547629\n",
       "\\item 9883640\n",
       "\\item 5303925\n",
       "\\item 2967297\n",
       "\\item 5988927\n",
       "\\item 989415\n",
       "\\item 1826341\n",
       "\\item 2700551\n",
       "\\item 1316470\n",
       "\\item 8791894\n",
       "\\item 2059179\n",
       "\\item 19378102\n",
       "\\item 9535483\n",
       "\\item 672591\n",
       "\\item 11536504\n",
       "\\item 3751351\n",
       "\\item 3831074\n",
       "\\item 12702379\n",
       "\\item 1052567\n",
       "\\item 4625364\n",
       "\\item 814180\n",
       "\\item 6346105\n",
       "\\item 25145561\n",
       "\\item 2763885\n",
       "\\item 625741\n",
       "\\item 8001024\n",
       "\\item 6724540\n",
       "\\item 1852994\n",
       "\\item 5686986\n",
       "\\item 563626\n",
       "\\end{enumerate*}\n"
      ],
      "text/markdown": [
       "1. 4779736\n",
       "2. 710231\n",
       "3. 6392017\n",
       "4. 2915918\n",
       "5. 37253956\n",
       "6. 5029196\n",
       "7. 3574097\n",
       "8. 897934\n",
       "9. 601723\n",
       "10. 19687653\n",
       "11. 9920000\n",
       "12. 1360301\n",
       "13. 1567582\n",
       "14. 12830632\n",
       "15. 6483802\n",
       "16. 3046355\n",
       "17. 2853118\n",
       "18. 4339367\n",
       "19. 4533372\n",
       "20. 1328361\n",
       "21. 5773552\n",
       "22. 6547629\n",
       "23. 9883640\n",
       "24. 5303925\n",
       "25. 2967297\n",
       "26. 5988927\n",
       "27. 989415\n",
       "28. 1826341\n",
       "29. 2700551\n",
       "30. 1316470\n",
       "31. 8791894\n",
       "32. 2059179\n",
       "33. 19378102\n",
       "34. 9535483\n",
       "35. 672591\n",
       "36. 11536504\n",
       "37. 3751351\n",
       "38. 3831074\n",
       "39. 12702379\n",
       "40. 1052567\n",
       "41. 4625364\n",
       "42. 814180\n",
       "43. 6346105\n",
       "44. 25145561\n",
       "45. 2763885\n",
       "46. 625741\n",
       "47. 8001024\n",
       "48. 6724540\n",
       "49. 1852994\n",
       "50. 5686986\n",
       "51. 563626\n",
       "\n",
       "\n"
      ],
      "text/plain": [
       " [1]  4779736   710231  6392017  2915918 37253956  5029196  3574097   897934\n",
       " [9]   601723 19687653  9920000  1360301  1567582 12830632  6483802  3046355\n",
       "[17]  2853118  4339367  4533372  1328361  5773552  6547629  9883640  5303925\n",
       "[25]  2967297  5988927   989415  1826341  2700551  1316470  8791894  2059179\n",
       "[33] 19378102  9535483   672591 11536504  3751351  3831074 12702379  1052567\n",
       "[41]  4625364   814180  6346105 25145561  2763885   625741  8001024  6724540\n",
       "[49]  1852994  5686986   563626"
      ]
     },
     "metadata": {},
     "output_type": "display_data"
    }
   ],
   "source": [
    "murders$population\n"
   ]
  },
  {
   "cell_type": "code",
   "execution_count": 11,
   "id": "amino-release",
   "metadata": {},
   "outputs": [],
   "source": [
    "pop <- murders$population"
   ]
  },
  {
   "cell_type": "code",
   "execution_count": 14,
   "id": "polished-registrar",
   "metadata": {},
   "outputs": [
    {
     "data": {
      "text/html": [
       "51"
      ],
      "text/latex": [
       "51"
      ],
      "text/markdown": [
       "51"
      ],
      "text/plain": [
       "[1] 51"
      ]
     },
     "metadata": {},
     "output_type": "display_data"
    }
   ],
   "source": [
    "length(pop)"
   ]
  },
  {
   "cell_type": "code",
   "execution_count": 15,
   "id": "advance-salvation",
   "metadata": {},
   "outputs": [
    {
     "data": {
      "text/html": [
       "'numeric'"
      ],
      "text/latex": [
       "'numeric'"
      ],
      "text/markdown": [
       "'numeric'"
      ],
      "text/plain": [
       "[1] \"numeric\""
      ]
     },
     "metadata": {},
     "output_type": "display_data"
    }
   ],
   "source": [
    "class(pop)"
   ]
  },
  {
   "cell_type": "markdown",
   "id": "protected-rings",
   "metadata": {},
   "source": [
    "# $ is Accessor"
   ]
  },
  {
   "cell_type": "code",
   "execution_count": 16,
   "id": "fancy-camel",
   "metadata": {},
   "outputs": [
    {
     "data": {
      "text/html": [
       "<table>\n",
       "<thead><tr><th scope=col>state</th><th scope=col>abb</th><th scope=col>region</th><th scope=col>population</th><th scope=col>total</th></tr></thead>\n",
       "<tbody>\n",
       "\t<tr><td>Alabama   </td><td>AL        </td><td>South     </td><td> 4779736  </td><td> 135      </td></tr>\n",
       "\t<tr><td>Alaska    </td><td>AK        </td><td>West      </td><td>  710231  </td><td>  19      </td></tr>\n",
       "\t<tr><td>Arizona   </td><td>AZ        </td><td>West      </td><td> 6392017  </td><td> 232      </td></tr>\n",
       "\t<tr><td>Arkansas  </td><td>AR        </td><td>South     </td><td> 2915918  </td><td>  93      </td></tr>\n",
       "\t<tr><td>California</td><td>CA        </td><td>West      </td><td>37253956  </td><td>1257      </td></tr>\n",
       "\t<tr><td>Colorado  </td><td>CO        </td><td>West      </td><td> 5029196  </td><td>  65      </td></tr>\n",
       "</tbody>\n",
       "</table>\n"
      ],
      "text/latex": [
       "\\begin{tabular}{r|lllll}\n",
       " state & abb & region & population & total\\\\\n",
       "\\hline\n",
       "\t Alabama    & AL         & South      &  4779736   &  135      \\\\\n",
       "\t Alaska     & AK         & West       &   710231   &   19      \\\\\n",
       "\t Arizona    & AZ         & West       &  6392017   &  232      \\\\\n",
       "\t Arkansas   & AR         & South      &  2915918   &   93      \\\\\n",
       "\t California & CA         & West       & 37253956   & 1257      \\\\\n",
       "\t Colorado   & CO         & West       &  5029196   &   65      \\\\\n",
       "\\end{tabular}\n"
      ],
      "text/markdown": [
       "\n",
       "| state | abb | region | population | total |\n",
       "|---|---|---|---|---|\n",
       "| Alabama    | AL         | South      |  4779736   |  135       |\n",
       "| Alaska     | AK         | West       |   710231   |   19       |\n",
       "| Arizona    | AZ         | West       |  6392017   |  232       |\n",
       "| Arkansas   | AR         | South      |  2915918   |   93       |\n",
       "| California | CA         | West       | 37253956   | 1257       |\n",
       "| Colorado   | CO         | West       |  5029196   |   65       |\n",
       "\n"
      ],
      "text/plain": [
       "  state      abb region population total\n",
       "1 Alabama    AL  South   4779736    135 \n",
       "2 Alaska     AK  West     710231     19 \n",
       "3 Arizona    AZ  West    6392017    232 \n",
       "4 Arkansas   AR  South   2915918     93 \n",
       "5 California CA  West   37253956   1257 \n",
       "6 Colorado   CO  West    5029196     65 "
      ]
     },
     "metadata": {},
     "output_type": "display_data"
    }
   ],
   "source": [
    "head(murders)"
   ]
  },
  {
   "cell_type": "code",
   "execution_count": 17,
   "id": "abroad-yellow",
   "metadata": {},
   "outputs": [
    {
     "data": {
      "text/html": [
       "'data.frame'"
      ],
      "text/latex": [
       "'data.frame'"
      ],
      "text/markdown": [
       "'data.frame'"
      ],
      "text/plain": [
       "[1] \"data.frame\""
      ]
     },
     "metadata": {},
     "output_type": "display_data"
    }
   ],
   "source": [
    "  class(murders)"
   ]
  },
  {
   "cell_type": "code",
   "execution_count": 18,
   "id": "pediatric-cream",
   "metadata": {},
   "outputs": [
    {
     "data": {
      "text/html": [
       "'character'"
      ],
      "text/latex": [
       "'character'"
      ],
      "text/markdown": [
       "'character'"
      ],
      "text/plain": [
       "[1] \"character\""
      ]
     },
     "metadata": {},
     "output_type": "display_data"
    }
   ],
   "source": [
    "class(murders$state)"
   ]
  },
  {
   "cell_type": "code",
   "execution_count": 19,
   "id": "steady-hacker",
   "metadata": {},
   "outputs": [],
   "source": [
    "flag <- 3 == 2"
   ]
  },
  {
   "cell_type": "code",
   "execution_count": 20,
   "id": "massive-batch",
   "metadata": {},
   "outputs": [
    {
     "data": {
      "text/html": [
       "FALSE"
      ],
      "text/latex": [
       "FALSE"
      ],
      "text/markdown": [
       "FALSE"
      ],
      "text/plain": [
       "[1] FALSE"
      ]
     },
     "metadata": {},
     "output_type": "display_data"
    }
   ],
   "source": [
    "flag"
   ]
  },
  {
   "cell_type": "code",
   "execution_count": 21,
   "id": "tender-correlation",
   "metadata": {},
   "outputs": [
    {
     "data": {
      "text/html": [
       "<ol class=list-inline>\n",
       "\t<li>South</li>\n",
       "\t<li>West</li>\n",
       "\t<li>West</li>\n",
       "\t<li>South</li>\n",
       "\t<li>West</li>\n",
       "\t<li>West</li>\n",
       "\t<li>Northeast</li>\n",
       "\t<li>South</li>\n",
       "\t<li>South</li>\n",
       "\t<li>South</li>\n",
       "\t<li>South</li>\n",
       "\t<li>West</li>\n",
       "\t<li>West</li>\n",
       "\t<li>North Central</li>\n",
       "\t<li>North Central</li>\n",
       "\t<li>North Central</li>\n",
       "\t<li>North Central</li>\n",
       "\t<li>South</li>\n",
       "\t<li>South</li>\n",
       "\t<li>Northeast</li>\n",
       "\t<li>South</li>\n",
       "\t<li>Northeast</li>\n",
       "\t<li>North Central</li>\n",
       "\t<li>North Central</li>\n",
       "\t<li>South</li>\n",
       "\t<li>North Central</li>\n",
       "\t<li>West</li>\n",
       "\t<li>North Central</li>\n",
       "\t<li>West</li>\n",
       "\t<li>Northeast</li>\n",
       "\t<li>Northeast</li>\n",
       "\t<li>West</li>\n",
       "\t<li>Northeast</li>\n",
       "\t<li>South</li>\n",
       "\t<li>North Central</li>\n",
       "\t<li>North Central</li>\n",
       "\t<li>South</li>\n",
       "\t<li>West</li>\n",
       "\t<li>Northeast</li>\n",
       "\t<li>Northeast</li>\n",
       "\t<li>South</li>\n",
       "\t<li>North Central</li>\n",
       "\t<li>South</li>\n",
       "\t<li>South</li>\n",
       "\t<li>West</li>\n",
       "\t<li>Northeast</li>\n",
       "\t<li>South</li>\n",
       "\t<li>West</li>\n",
       "\t<li>South</li>\n",
       "\t<li>North Central</li>\n",
       "\t<li>West</li>\n",
       "</ol>\n",
       "\n",
       "<details>\n",
       "\t<summary style=display:list-item;cursor:pointer>\n",
       "\t\t<strong>Levels</strong>:\n",
       "\t</summary>\n",
       "\t<ol class=list-inline>\n",
       "\t\t<li>'Northeast'</li>\n",
       "\t\t<li>'South'</li>\n",
       "\t\t<li>'North Central'</li>\n",
       "\t\t<li>'West'</li>\n",
       "\t</ol>\n",
       "</details>"
      ],
      "text/latex": [
       "\\begin{enumerate*}\n",
       "\\item South\n",
       "\\item West\n",
       "\\item West\n",
       "\\item South\n",
       "\\item West\n",
       "\\item West\n",
       "\\item Northeast\n",
       "\\item South\n",
       "\\item South\n",
       "\\item South\n",
       "\\item South\n",
       "\\item West\n",
       "\\item West\n",
       "\\item North Central\n",
       "\\item North Central\n",
       "\\item North Central\n",
       "\\item North Central\n",
       "\\item South\n",
       "\\item South\n",
       "\\item Northeast\n",
       "\\item South\n",
       "\\item Northeast\n",
       "\\item North Central\n",
       "\\item North Central\n",
       "\\item South\n",
       "\\item North Central\n",
       "\\item West\n",
       "\\item North Central\n",
       "\\item West\n",
       "\\item Northeast\n",
       "\\item Northeast\n",
       "\\item West\n",
       "\\item Northeast\n",
       "\\item South\n",
       "\\item North Central\n",
       "\\item North Central\n",
       "\\item South\n",
       "\\item West\n",
       "\\item Northeast\n",
       "\\item Northeast\n",
       "\\item South\n",
       "\\item North Central\n",
       "\\item South\n",
       "\\item South\n",
       "\\item West\n",
       "\\item Northeast\n",
       "\\item South\n",
       "\\item West\n",
       "\\item South\n",
       "\\item North Central\n",
       "\\item West\n",
       "\\end{enumerate*}\n",
       "\n",
       "\\emph{Levels}: \\begin{enumerate*}\n",
       "\\item 'Northeast'\n",
       "\\item 'South'\n",
       "\\item 'North Central'\n",
       "\\item 'West'\n",
       "\\end{enumerate*}\n"
      ],
      "text/markdown": [
       "1. South\n",
       "2. West\n",
       "3. West\n",
       "4. South\n",
       "5. West\n",
       "6. West\n",
       "7. Northeast\n",
       "8. South\n",
       "9. South\n",
       "10. South\n",
       "11. South\n",
       "12. West\n",
       "13. West\n",
       "14. North Central\n",
       "15. North Central\n",
       "16. North Central\n",
       "17. North Central\n",
       "18. South\n",
       "19. South\n",
       "20. Northeast\n",
       "21. South\n",
       "22. Northeast\n",
       "23. North Central\n",
       "24. North Central\n",
       "25. South\n",
       "26. North Central\n",
       "27. West\n",
       "28. North Central\n",
       "29. West\n",
       "30. Northeast\n",
       "31. Northeast\n",
       "32. West\n",
       "33. Northeast\n",
       "34. South\n",
       "35. North Central\n",
       "36. North Central\n",
       "37. South\n",
       "38. West\n",
       "39. Northeast\n",
       "40. Northeast\n",
       "41. South\n",
       "42. North Central\n",
       "43. South\n",
       "44. South\n",
       "45. West\n",
       "46. Northeast\n",
       "47. South\n",
       "48. West\n",
       "49. South\n",
       "50. North Central\n",
       "51. West\n",
       "\n",
       "\n",
       "\n",
       "**Levels**: 1. 'Northeast'\n",
       "2. 'South'\n",
       "3. 'North Central'\n",
       "4. 'West'\n",
       "\n",
       "\n"
      ],
      "text/plain": [
       " [1] South         West          West          South         West         \n",
       " [6] West          Northeast     South         South         South        \n",
       "[11] South         West          West          North Central North Central\n",
       "[16] North Central North Central South         South         Northeast    \n",
       "[21] South         Northeast     North Central North Central South        \n",
       "[26] North Central West          North Central West          Northeast    \n",
       "[31] Northeast     West          Northeast     South         North Central\n",
       "[36] North Central South         West          Northeast     Northeast    \n",
       "[41] South         North Central South         South         West         \n",
       "[46] Northeast     South         West          South         North Central\n",
       "[51] West         \n",
       "Levels: Northeast South North Central West"
      ]
     },
     "metadata": {},
     "output_type": "display_data"
    }
   ],
   "source": [
    "murders$region"
   ]
  },
  {
   "cell_type": "code",
   "execution_count": 23,
   "id": "foreign-filing",
   "metadata": {},
   "outputs": [
    {
     "data": {
      "text/html": [
       "<ol class=list-inline>\n",
       "\t<li>'Northeast'</li>\n",
       "\t<li>'South'</li>\n",
       "\t<li>'North Central'</li>\n",
       "\t<li>'West'</li>\n",
       "</ol>\n"
      ],
      "text/latex": [
       "\\begin{enumerate*}\n",
       "\\item 'Northeast'\n",
       "\\item 'South'\n",
       "\\item 'North Central'\n",
       "\\item 'West'\n",
       "\\end{enumerate*}\n"
      ],
      "text/markdown": [
       "1. 'Northeast'\n",
       "2. 'South'\n",
       "3. 'North Central'\n",
       "4. 'West'\n",
       "\n",
       "\n"
      ],
      "text/plain": [
       "[1] \"Northeast\"     \"South\"         \"North Central\" \"West\"         "
      ]
     },
     "metadata": {},
     "output_type": "display_data"
    }
   ],
   "source": [
    "levels(murders$region)"
   ]
  },
  {
   "cell_type": "code",
   "execution_count": 24,
   "id": "contrary-terror",
   "metadata": {},
   "outputs": [
    {
     "data": {
      "text/html": [
       "'factor'"
      ],
      "text/latex": [
       "'factor'"
      ],
      "text/markdown": [
       "'factor'"
      ],
      "text/plain": [
       "[1] \"factor\""
      ]
     },
     "metadata": {},
     "output_type": "display_data"
    }
   ],
   "source": [
    "class(murders$region)"
   ]
  },
  {
   "cell_type": "code",
   "execution_count": 25,
   "id": "serious-customer",
   "metadata": {},
   "outputs": [
    {
     "data": {
      "text/html": [
       "<ol class=list-inline>\n",
       "\t<li>'state'</li>\n",
       "\t<li>'abb'</li>\n",
       "\t<li>'region'</li>\n",
       "\t<li>'population'</li>\n",
       "\t<li>'total'</li>\n",
       "</ol>\n"
      ],
      "text/latex": [
       "\\begin{enumerate*}\n",
       "\\item 'state'\n",
       "\\item 'abb'\n",
       "\\item 'region'\n",
       "\\item 'population'\n",
       "\\item 'total'\n",
       "\\end{enumerate*}\n"
      ],
      "text/markdown": [
       "1. 'state'\n",
       "2. 'abb'\n",
       "3. 'region'\n",
       "4. 'population'\n",
       "5. 'total'\n",
       "\n",
       "\n"
      ],
      "text/plain": [
       "[1] \"state\"      \"abb\"        \"region\"     \"population\" \"total\"     "
      ]
     },
     "metadata": {},
     "output_type": "display_data"
    }
   ],
   "source": [
    "names(murders)"
   ]
  },
  {
   "cell_type": "code",
   "execution_count": 26,
   "id": "everyday-silver",
   "metadata": {},
   "outputs": [
    {
     "data": {
      "text/html": [
       "<ol class=list-inline>\n",
       "\t<li>'Alabama'</li>\n",
       "\t<li>'Alaska'</li>\n",
       "\t<li>'Arizona'</li>\n",
       "\t<li>'Arkansas'</li>\n",
       "\t<li>'California'</li>\n",
       "\t<li>'Colorado'</li>\n",
       "\t<li>'Connecticut'</li>\n",
       "\t<li>'Delaware'</li>\n",
       "\t<li>'District of Columbia'</li>\n",
       "\t<li>'Florida'</li>\n",
       "\t<li>'Georgia'</li>\n",
       "\t<li>'Hawaii'</li>\n",
       "\t<li>'Idaho'</li>\n",
       "\t<li>'Illinois'</li>\n",
       "\t<li>'Indiana'</li>\n",
       "\t<li>'Iowa'</li>\n",
       "\t<li>'Kansas'</li>\n",
       "\t<li>'Kentucky'</li>\n",
       "\t<li>'Louisiana'</li>\n",
       "\t<li>'Maine'</li>\n",
       "\t<li>'Maryland'</li>\n",
       "\t<li>'Massachusetts'</li>\n",
       "\t<li>'Michigan'</li>\n",
       "\t<li>'Minnesota'</li>\n",
       "\t<li>'Mississippi'</li>\n",
       "\t<li>'Missouri'</li>\n",
       "\t<li>'Montana'</li>\n",
       "\t<li>'Nebraska'</li>\n",
       "\t<li>'Nevada'</li>\n",
       "\t<li>'New Hampshire'</li>\n",
       "\t<li>'New Jersey'</li>\n",
       "\t<li>'New Mexico'</li>\n",
       "\t<li>'New York'</li>\n",
       "\t<li>'North Carolina'</li>\n",
       "\t<li>'North Dakota'</li>\n",
       "\t<li>'Ohio'</li>\n",
       "\t<li>'Oklahoma'</li>\n",
       "\t<li>'Oregon'</li>\n",
       "\t<li>'Pennsylvania'</li>\n",
       "\t<li>'Rhode Island'</li>\n",
       "\t<li>'South Carolina'</li>\n",
       "\t<li>'South Dakota'</li>\n",
       "\t<li>'Tennessee'</li>\n",
       "\t<li>'Texas'</li>\n",
       "\t<li>'Utah'</li>\n",
       "\t<li>'Vermont'</li>\n",
       "\t<li>'Virginia'</li>\n",
       "\t<li>'Washington'</li>\n",
       "\t<li>'West Virginia'</li>\n",
       "\t<li>'Wisconsin'</li>\n",
       "\t<li>'Wyoming'</li>\n",
       "</ol>\n"
      ],
      "text/latex": [
       "\\begin{enumerate*}\n",
       "\\item 'Alabama'\n",
       "\\item 'Alaska'\n",
       "\\item 'Arizona'\n",
       "\\item 'Arkansas'\n",
       "\\item 'California'\n",
       "\\item 'Colorado'\n",
       "\\item 'Connecticut'\n",
       "\\item 'Delaware'\n",
       "\\item 'District of Columbia'\n",
       "\\item 'Florida'\n",
       "\\item 'Georgia'\n",
       "\\item 'Hawaii'\n",
       "\\item 'Idaho'\n",
       "\\item 'Illinois'\n",
       "\\item 'Indiana'\n",
       "\\item 'Iowa'\n",
       "\\item 'Kansas'\n",
       "\\item 'Kentucky'\n",
       "\\item 'Louisiana'\n",
       "\\item 'Maine'\n",
       "\\item 'Maryland'\n",
       "\\item 'Massachusetts'\n",
       "\\item 'Michigan'\n",
       "\\item 'Minnesota'\n",
       "\\item 'Mississippi'\n",
       "\\item 'Missouri'\n",
       "\\item 'Montana'\n",
       "\\item 'Nebraska'\n",
       "\\item 'Nevada'\n",
       "\\item 'New Hampshire'\n",
       "\\item 'New Jersey'\n",
       "\\item 'New Mexico'\n",
       "\\item 'New York'\n",
       "\\item 'North Carolina'\n",
       "\\item 'North Dakota'\n",
       "\\item 'Ohio'\n",
       "\\item 'Oklahoma'\n",
       "\\item 'Oregon'\n",
       "\\item 'Pennsylvania'\n",
       "\\item 'Rhode Island'\n",
       "\\item 'South Carolina'\n",
       "\\item 'South Dakota'\n",
       "\\item 'Tennessee'\n",
       "\\item 'Texas'\n",
       "\\item 'Utah'\n",
       "\\item 'Vermont'\n",
       "\\item 'Virginia'\n",
       "\\item 'Washington'\n",
       "\\item 'West Virginia'\n",
       "\\item 'Wisconsin'\n",
       "\\item 'Wyoming'\n",
       "\\end{enumerate*}\n"
      ],
      "text/markdown": [
       "1. 'Alabama'\n",
       "2. 'Alaska'\n",
       "3. 'Arizona'\n",
       "4. 'Arkansas'\n",
       "5. 'California'\n",
       "6. 'Colorado'\n",
       "7. 'Connecticut'\n",
       "8. 'Delaware'\n",
       "9. 'District of Columbia'\n",
       "10. 'Florida'\n",
       "11. 'Georgia'\n",
       "12. 'Hawaii'\n",
       "13. 'Idaho'\n",
       "14. 'Illinois'\n",
       "15. 'Indiana'\n",
       "16. 'Iowa'\n",
       "17. 'Kansas'\n",
       "18. 'Kentucky'\n",
       "19. 'Louisiana'\n",
       "20. 'Maine'\n",
       "21. 'Maryland'\n",
       "22. 'Massachusetts'\n",
       "23. 'Michigan'\n",
       "24. 'Minnesota'\n",
       "25. 'Mississippi'\n",
       "26. 'Missouri'\n",
       "27. 'Montana'\n",
       "28. 'Nebraska'\n",
       "29. 'Nevada'\n",
       "30. 'New Hampshire'\n",
       "31. 'New Jersey'\n",
       "32. 'New Mexico'\n",
       "33. 'New York'\n",
       "34. 'North Carolina'\n",
       "35. 'North Dakota'\n",
       "36. 'Ohio'\n",
       "37. 'Oklahoma'\n",
       "38. 'Oregon'\n",
       "39. 'Pennsylvania'\n",
       "40. 'Rhode Island'\n",
       "41. 'South Carolina'\n",
       "42. 'South Dakota'\n",
       "43. 'Tennessee'\n",
       "44. 'Texas'\n",
       "45. 'Utah'\n",
       "46. 'Vermont'\n",
       "47. 'Virginia'\n",
       "48. 'Washington'\n",
       "49. 'West Virginia'\n",
       "50. 'Wisconsin'\n",
       "51. 'Wyoming'\n",
       "\n",
       "\n"
      ],
      "text/plain": [
       " [1] \"Alabama\"              \"Alaska\"               \"Arizona\"             \n",
       " [4] \"Arkansas\"             \"California\"           \"Colorado\"            \n",
       " [7] \"Connecticut\"          \"Delaware\"             \"District of Columbia\"\n",
       "[10] \"Florida\"              \"Georgia\"              \"Hawaii\"              \n",
       "[13] \"Idaho\"                \"Illinois\"             \"Indiana\"             \n",
       "[16] \"Iowa\"                 \"Kansas\"               \"Kentucky\"            \n",
       "[19] \"Louisiana\"            \"Maine\"                \"Maryland\"            \n",
       "[22] \"Massachusetts\"        \"Michigan\"             \"Minnesota\"           \n",
       "[25] \"Mississippi\"          \"Missouri\"             \"Montana\"             \n",
       "[28] \"Nebraska\"             \"Nevada\"               \"New Hampshire\"       \n",
       "[31] \"New Jersey\"           \"New Mexico\"           \"New York\"            \n",
       "[34] \"North Carolina\"       \"North Dakota\"         \"Ohio\"                \n",
       "[37] \"Oklahoma\"             \"Oregon\"               \"Pennsylvania\"        \n",
       "[40] \"Rhode Island\"         \"South Carolina\"       \"South Dakota\"        \n",
       "[43] \"Tennessee\"            \"Texas\"                \"Utah\"                \n",
       "[46] \"Vermont\"              \"Virginia\"             \"Washington\"          \n",
       "[49] \"West Virginia\"        \"Wisconsin\"            \"Wyoming\"             "
      ]
     },
     "metadata": {},
     "output_type": "display_data"
    }
   ],
   "source": [
    "murders$state"
   ]
  },
  {
   "cell_type": "code",
   "execution_count": 28,
   "id": "identified-puzzle",
   "metadata": {},
   "outputs": [
    {
     "data": {
      "text/html": [
       "<ol class=list-inline>\n",
       "\t<li>'state'</li>\n",
       "\t<li>'abb'</li>\n",
       "\t<li>'region'</li>\n",
       "\t<li>'population'</li>\n",
       "\t<li>'total'</li>\n",
       "</ol>\n"
      ],
      "text/latex": [
       "\\begin{enumerate*}\n",
       "\\item 'state'\n",
       "\\item 'abb'\n",
       "\\item 'region'\n",
       "\\item 'population'\n",
       "\\item 'total'\n",
       "\\end{enumerate*}\n"
      ],
      "text/markdown": [
       "1. 'state'\n",
       "2. 'abb'\n",
       "3. 'region'\n",
       "4. 'population'\n",
       "5. 'total'\n",
       "\n",
       "\n"
      ],
      "text/plain": [
       "[1] \"state\"      \"abb\"        \"region\"     \"population\" \"total\"     "
      ]
     },
     "metadata": {},
     "output_type": "display_data"
    }
   ],
   "source": [
    "names(murders)"
   ]
  },
  {
   "cell_type": "code",
   "execution_count": null,
   "id": "understood-plenty",
   "metadata": {},
   "outputs": [],
   "source": []
  }
 ],
 "metadata": {
  "kernelspec": {
   "display_name": "R",
   "language": "R",
   "name": "ir"
  },
  "language_info": {
   "codemirror_mode": "r",
   "file_extension": ".r",
   "mimetype": "text/x-r-source",
   "name": "R",
   "pygments_lexer": "r",
   "version": "3.6.1"
  }
 },
 "nbformat": 4,
 "nbformat_minor": 5
}
