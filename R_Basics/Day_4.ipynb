{
 "cells": [
  {
   "cell_type": "code",
   "execution_count": 13,
   "id": "english-christopher",
   "metadata": {},
   "outputs": [],
   "source": [
    "a <- 2\n",
    "b <- -1\n",
    "c <- -4"
   ]
  },
  {
   "cell_type": "code",
   "execution_count": 14,
   "id": "parliamentary-feeling",
   "metadata": {},
   "outputs": [],
   "source": [
    "root_1 <- (-b + sqrt(b^2 - 4*a*c))/2*a"
   ]
  },
  {
   "cell_type": "code",
   "execution_count": 15,
   "id": "ecological-lawyer",
   "metadata": {},
   "outputs": [],
   "source": [
    "root_2 <- (-b - sqrt(b^2 - 4*a*c))/2*a"
   ]
  },
  {
   "cell_type": "code",
   "execution_count": 16,
   "id": "behavioral-floating",
   "metadata": {},
   "outputs": [
    {
     "data": {
      "text/html": [
       "6.74456264653803"
      ],
      "text/latex": [
       "6.74456264653803"
      ],
      "text/markdown": [
       "6.74456264653803"
      ],
      "text/plain": [
       "[1] 6.744563"
      ]
     },
     "metadata": {},
     "output_type": "display_data"
    }
   ],
   "source": [
    "root_1"
   ]
  },
  {
   "cell_type": "code",
   "execution_count": 17,
   "id": "informative-thanksgiving",
   "metadata": {},
   "outputs": [
    {
     "data": {
      "text/html": [
       "-4.74456264653803"
      ],
      "text/latex": [
       "-4.74456264653803"
      ],
      "text/markdown": [
       "-4.74456264653803"
      ],
      "text/plain": [
       "[1] -4.744563"
      ]
     },
     "metadata": {},
     "output_type": "display_data"
    }
   ],
   "source": [
    "root_2"
   ]
  },
  {
   "cell_type": "markdown",
   "id": "resident-medicare",
   "metadata": {},
   "source": [
    "## Use R to compute log base 4 of 1024. You can use the help() function to learn how to use arguments to change the base of the log() function."
   ]
  },
  {
   "cell_type": "code",
   "execution_count": 18,
   "id": "sharp-canadian",
   "metadata": {},
   "outputs": [
    {
     "data": {
      "text/html": [
       "5"
      ],
      "text/latex": [
       "5"
      ],
      "text/markdown": [
       "5"
      ],
      "text/plain": [
       "[1] 5"
      ]
     },
     "metadata": {},
     "output_type": "display_data"
    }
   ],
   "source": [
    "log(1024,base = 4)"
   ]
  },
  {
   "cell_type": "code",
   "execution_count": 19,
   "id": "romantic-federation",
   "metadata": {},
   "outputs": [
    {
     "name": "stderr",
     "output_type": "stream",
     "text": [
      "Updating HTML index of packages in '.Library'\n",
      "Making 'packages.html' ... done\n"
     ]
    }
   ],
   "source": [
    "install.packages(\"dslabs\")"
   ]
  },
  {
   "cell_type": "code",
   "execution_count": 20,
   "id": "printable-mitchell",
   "metadata": {},
   "outputs": [],
   "source": [
    "library(dslabs)"
   ]
  },
  {
   "cell_type": "code",
   "execution_count": 21,
   "id": "radio-boxing",
   "metadata": {},
   "outputs": [],
   "source": [
    "data(movielens)"
   ]
  },
  {
   "cell_type": "code",
   "execution_count": 24,
   "id": "thousand-thanks",
   "metadata": {},
   "outputs": [
    {
     "data": {
      "text/html": [
       "<ol class=list-inline>\n",
       "\t<li>'movieId'</li>\n",
       "\t<li>'title'</li>\n",
       "\t<li>'year'</li>\n",
       "\t<li>'genres'</li>\n",
       "\t<li>'userId'</li>\n",
       "\t<li>'rating'</li>\n",
       "\t<li>'timestamp'</li>\n",
       "</ol>\n"
      ],
      "text/latex": [
       "\\begin{enumerate*}\n",
       "\\item 'movieId'\n",
       "\\item 'title'\n",
       "\\item 'year'\n",
       "\\item 'genres'\n",
       "\\item 'userId'\n",
       "\\item 'rating'\n",
       "\\item 'timestamp'\n",
       "\\end{enumerate*}\n"
      ],
      "text/markdown": [
       "1. 'movieId'\n",
       "2. 'title'\n",
       "3. 'year'\n",
       "4. 'genres'\n",
       "5. 'userId'\n",
       "6. 'rating'\n",
       "7. 'timestamp'\n",
       "\n",
       "\n"
      ],
      "text/plain": [
       "[1] \"movieId\"   \"title\"     \"year\"      \"genres\"    \"userId\"    \"rating\"   \n",
       "[7] \"timestamp\""
      ]
     },
     "metadata": {},
     "output_type": "display_data"
    }
   ],
   "source": [
    "names(movielens)"
   ]
  },
  {
   "cell_type": "code",
   "execution_count": 25,
   "id": "synthetic-transmission",
   "metadata": {},
   "outputs": [
    {
     "data": {
      "text/html": [
       "100004"
      ],
      "text/latex": [
       "100004"
      ],
      "text/markdown": [
       "100004"
      ],
      "text/plain": [
       "[1] 100004"
      ]
     },
     "metadata": {},
     "output_type": "display_data"
    }
   ],
   "source": [
    "length(movielens$title)"
   ]
  },
  {
   "cell_type": "code",
   "execution_count": 26,
   "id": "organizational-cursor",
   "metadata": {},
   "outputs": [
    {
     "data": {
      "text/html": [
       "'character'"
      ],
      "text/latex": [
       "'character'"
      ],
      "text/markdown": [
       "'character'"
      ],
      "text/plain": [
       "[1] \"character\""
      ]
     },
     "metadata": {},
     "output_type": "display_data"
    }
   ],
   "source": [
    "class(movielens$title)"
   ]
  },
  {
   "cell_type": "code",
   "execution_count": 27,
   "id": "convenient-liberty",
   "metadata": {},
   "outputs": [
    {
     "data": {
      "text/html": [
       "'factor'"
      ],
      "text/latex": [
       "'factor'"
      ],
      "text/markdown": [
       "'factor'"
      ],
      "text/plain": [
       "[1] \"factor\""
      ]
     },
     "metadata": {},
     "output_type": "display_data"
    }
   ],
   "source": [
    "class(movielens$genre)"
   ]
  },
  {
   "cell_type": "code",
   "execution_count": 29,
   "id": "continental-montana",
   "metadata": {},
   "outputs": [
    {
     "data": {
      "text/html": [
       "901"
      ],
      "text/latex": [
       "901"
      ],
      "text/markdown": [
       "901"
      ],
      "text/plain": [
       "[1] 901"
      ]
     },
     "metadata": {},
     "output_type": "display_data"
    }
   ],
   "source": [
    "nlevels(movielens$genres)"
   ]
  },
  {
   "cell_type": "code",
   "execution_count": null,
   "id": "constant-somewhere",
   "metadata": {},
   "outputs": [],
   "source": []
  }
 ],
 "metadata": {
  "kernelspec": {
   "display_name": "R",
   "language": "R",
   "name": "ir"
  },
  "language_info": {
   "codemirror_mode": "r",
   "file_extension": ".r",
   "mimetype": "text/x-r-source",
   "name": "R",
   "pygments_lexer": "r",
   "version": "3.6.1"
  }
 },
 "nbformat": 4,
 "nbformat_minor": 5
}
